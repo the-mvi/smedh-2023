{
 "cells": [
  {
   "cell_type": "markdown",
   "id": "357e6a5f",
   "metadata": {},
   "source": [
    "# Практическая работа №3: Обработка выборочных данных. Нахождение интервальных оценок параметров распределения. Проверка статистической гипотезы о нормальном распределении\n",
    "\n",
    "Выполнили студенты гр. 9382 Рыжих Роман и Сорочина Мария. Вариант №2"
   ]
  },
  {
   "cell_type": "markdown",
   "id": "22b22fb0",
   "metadata": {},
   "source": [
    "## Цель работы\n",
    "\n",
    "Получение практических навыков вычисления интервальных статистических оценок параметров распределения выборочных данных и проверки «справедливости» статистических гипотез."
   ]
  },
  {
   "cell_type": "markdown",
   "id": "e5eaa612",
   "metadata": {},
   "source": [
    "## Основные теоретические положения\n",
    "\n",
    "**Интервальная оценка** - оценка, задаваемая двумя числами - концами интервала.\n",
    "\n",
    "**Точностью $\\theta^*$** статистической оценки параметра $\\theta$ называется значение $\\delta$, удовлетворяющее неравенству $\\delta>|\\theta-\\theta^*|$\n",
    "\n",
    "**Надежностью (доверительной вероятностью)** оценки $\\theta^*$ называется вероятность $\\gamma$ , с которой выполняется неравенство $\\gamma=P\\{\\delta>|\\theta-\\theta^*|\\}$ или $\\gamma=P\\{\\theta^*-\\delta<\\theta<\\theta^*-\\delta\\}$\n",
    "\n",
    "**Доверительным интервалом** называют интервал, который покрывает неизвестный параметр с заданной надёжностью.\n",
    "\n",
    "Для нормально распределенной случайной величины\n",
    "справедливо соотношение:\n",
    "$Р\\{|Х-а|<\\delta\\} = 2\\Phi(\\delta / \\sigma)$,\n",
    "\n",
    "где $\\Phi(х)$ - функция Лапласа.\n",
    "\n",
    "Доверительный интервал, покрывающий неизвестное значение параметра а с\n",
    "надежностью $\\gamma$ при известном СКО:\n",
    "$(\\overline{x}_в-t_\\gamma \\sigma/\\sqrt{n}, \\overline{x}_в+t_\\gamma \\sigma/\\sqrt{n})$,\n",
    "\n",
    "где $t_\\gamma$ может быть определено по значениям $\\gamma$ и $N$.\n",
    "\n",
    "\n",
    "Доверительный интервал, покрывающий неизвестное значение параметра а с\n",
    "надежностью $\\gamma$ при неизвестном СКО:\n",
    "$(\\overline{x}_в-t_\\gamma S/\\sqrt{n}, \\overline{x}_в+t_\\gamma S/\\sqrt{n})$,\n",
    "\n",
    "где $t_\\gamma$ может быть определено по значениям $\\gamma$ и $N$.\n",
    "\n",
    "Доверительный интервал, покрывающий неизвестное значение $\\sigma$ с надежностью $\\gamma$: \n",
    "$(S(1-q), S(1+q))$\n",
    "\n",
    "\n",
    "**Статистической гипотезой** называют гипотезу о виде неизвестного распределения исследуемой случайной величины или о значении параметров известных распределений.\n",
    "\n",
    "Выдвинутую гипотезу называют **нулевой** или **основной** гипотезой и обозначают $H_0$.\n",
    "**Конкурирующей** или **альтернативной** называют\n",
    "гипотезу $H_1$, которая противоречит основной гипотезе.\n",
    "Различают **простые гипотезы** (содержат только одно\n",
    "предположение) и **сложные гипотезы** (содержат более\n",
    "одного предположения).\n",
    "\n",
    "**Ошибка первого рода** состоит в том, что нулевая гипотеза отвергается, хотя она верна.\n",
    "**Ошибка второго рода** состоит в том, что нулевая гипотеза принимается, хотя она неверна.\n",
    "Вероятность совершения ошибки первого рода называют **уровнем значимости** и обозначают через $\\alpha$.\n",
    "\n",
    "Область принятия гипотезы и критическая область разделены точками, которые называются **критическими значениями критерия** $K_{кр}$.\n",
    "\n",
    "В качестве критерия проверки гипотезы будем\n",
    "использовать так называемый критерий $\\chi^2$ или иначе -\n",
    "**критерий Пирсона**. Это правосторонний критерий.\n",
    "Согласно этому критерию на основании выборочных\n",
    "данных вычисляется «наблюденное» значение случайной\n",
    "величины $\\chi^2$:\n",
    "\n",
    "$\\chi^2_{набл}=\\sum_{i=1}^{K}\\frac{(n_i-n'_i)^2}{n'}$, \n",
    "\n",
    "где $n'_i$ - теоретические частоты - частоты, с которыми нормально распределенная величина с параметрами $\\overline{x}_в$ и $S$ попадала бы в $i$-й интервал интервального ряда при проведении $N$ испытаний.\n",
    "\n",
    "**Область принятия гипотезы** $H_0$ определяется условием:\n",
    "$\\chi^2_{набл} \\le \\chi^2_{крит}$\n",
    "\n",
    "Распределение $\\chi^2$ зависит от **числа степеней\n",
    "свободы** $k$ которое в данном случае вычисляется по\n",
    "формуле: $k = K-3$. \n",
    "По числу степеней свободы и уровню значимости\n",
    "вычисляется значение $\\chi^2_{крит}=\\chi^2(\\alpha, k)$"
   ]
  },
  {
   "cell_type": "markdown",
   "id": "c5fbabfd",
   "metadata": {},
   "source": [
    "## Постановка задачи\n",
    "\n",
    "Для заданной надежности определить (на основании выборочных данных и результатов выполнения практической работы №2) границы доверительных интервалов для математического ожидания и среднеквадратичного отклонения случайной величины. Проверить гипотезу о нормальном распределении исследуемой случайной величины с помощью критерия Пирсона $\\chi^2$. Дать содержательную интерпретацию полученным результатам."
   ]
  },
  {
   "cell_type": "markdown",
   "id": "7c8eac33",
   "metadata": {},
   "source": [
    "## Выполнение работы"
   ]
  },
  {
   "cell_type": "markdown",
   "id": "539089c8",
   "metadata": {},
   "source": [
    "### Подготовка к выполнению работы\n",
    "\n"
   ]
  },
  {
   "cell_type": "code",
   "execution_count": 1,
   "id": "7378842d",
   "metadata": {},
   "outputs": [
    {
     "name": "stdout",
     "output_type": "stream",
     "text": [
      "[31.4652, 213.2162, 215.0865, 14.6658]\n",
      "[47.6143, 3684.6294, 3716.9507, 60.9668]\n"
     ]
    }
   ],
   "source": [
    "import pandas as pd\n",
    "import numpy as np\n",
    "import math\n",
    "import scipy.stats as stats\n",
    "from IPython.display import display, HTML\n",
    "import matplotlib.pyplot as plt\n",
    "\n",
    "\n",
    "data = pd.read_csv('data.csv')\n",
    "k = 1 + math.floor(3.31 * math.log10(len(data)))\n",
    "data\n",
    "N = len(data)\n",
    "\n",
    "#AGE\n",
    "feature1 = data.loc[:, ['Age']]\n",
    "x_min1 = feature1['Age'].min()\n",
    "x_max1 = feature1['Age'].max()\n",
    "h1 = math.ceil((x_max1 - x_min1) / k)\n",
    "bins1 = np.arange(x_min1, x_max1+h1, h1)\n",
    "cuted1 = pd.cut(feature1[\"Age\"], bins1, right=False)\n",
    "\n",
    "intervals1 = feature1.groupby(cuted1, as_index=False)['Age'].count()\n",
    "intervals1 = intervals1.rename(columns={'Age': 'частота попадания'})\n",
    "cuted1 = sorted(list(set(cuted1)), key=lambda x: x.left) \n",
    "intervals1['interval'] = cuted1\n",
    "intervals1[\"середина интервала\"] = [i.right-h1/2 for i in cuted1]\n",
    "intervals1['относительная частота'] = intervals1['частота попадания'] / len(data)\n",
    "#intervals1.iloc[:, [1, 2,3]].set_index(pd.Index([i for i in range(1, 8)]))\n",
    "\n",
    "XB1 = sum(intervals1[\"середина интервала\"] * intervals1['относительная частота'])\n",
    "D1 = sum((intervals1[\"середина интервала\"] - XB1) ** 2 * intervals1['относительная частота'])\n",
    "Du1 = N / (N - 1) * D1\n",
    "S1 = Du1 ** 0.5\n",
    "print([round(i, 4) for i in [XB1, D1, Du1, S1]])\n",
    "\n",
    "\n",
    "#FARE\n",
    "feature2 = data.loc[:, ['Fare']]\n",
    "x_min2 = feature2['Fare'].min()\n",
    "x_max2 = feature2['Fare'].max()\n",
    "h2 = math.ceil((x_max2 - x_min2) / k)\n",
    "bins2 = np.arange(x_min2, x_max2+h2, h2)\n",
    "cuted2 = pd.cut(feature2[\"Fare\"], bins2, right=False)\n",
    "\n",
    "intervals2 = feature2.groupby(cuted2, as_index=False)['Fare'].count()\n",
    "intervals2 = intervals2.rename(columns={'Fare': 'частота попадания'})\n",
    "cuted2 = [(round(bins2[i], 4), round(bins2[i+1], 4)) for i in range(len(bins2) - 1)]\n",
    "intervals2['interval'] = cuted2\n",
    "intervals2[\"середина интервала\"] = [i[1]-h2/2 for i in cuted2]\n",
    "intervals2['относительная частота'] = intervals2['частота попадания'] / len(data)\n",
    "#intervals2.iloc[:, [1, 2, 3]].set_index(pd.Index([i for i in range(1, 8)]))\n",
    "\n",
    "XB2 = sum(intervals2[\"середина интервала\"] * intervals2['относительная частота'])\n",
    "D2 = sum((intervals2[\"середина интервала\"] - XB2) ** 2 * intervals2['относительная частота'])\n",
    "Du2 = N / (N - 1) * D2\n",
    "S2 = Du2 ** 0.5\n",
    "print([round(i, 4) for i in [XB2, D2, Du2, S2]])\n"
   ]
  },
  {
   "cell_type": "markdown",
   "id": "c5b598cc",
   "metadata": {},
   "source": [
    "### Вычислить точность и доверительный интервал для математического ожидания при неизвестном среднеквадратичном отклонении при заданном объёме выборки для доверительной точности $\\gamma \\in \\{0.95, 0.99\\}$\n",
    "\n",
    "#### Признак 'Age'"
   ]
  },
  {
   "cell_type": "code",
   "execution_count": 2,
   "id": "07d7c479",
   "metadata": {},
   "outputs": [
    {
     "name": "stdout",
     "output_type": "stream",
     "text": [
      "Выборочное среднее: 31.465217391304346\n",
      "При 𝛾 = 0.95 и N = 115, точность 𝛿 = 2.7092 , доверительный интервал:  (28.756, 34.1744)\n",
      "При 𝛾 = 0.99 и N = 115, точность 𝛿 = 3.5826 , доверительный интервал:  (27.8826, 35.0478)\n"
     ]
    }
   ],
   "source": [
    "gamma = [0.95, 0.99]\n",
    "t = [stats.t.ppf((1 + g) / 2, df = N - 1) for g in gamma]\n",
    "\n",
    "delta1 = [tt * S1 / (N ** 0.5) for tt in t]\n",
    "#N, t, delta1, [(XB1 - d, XB1 + d) for d in delta1]\n",
    "print(\"Выборочное среднее:\", XB1)\n",
    "print(\"При 𝛾 = 0.95 и N = 115, точность 𝛿 =\", round(delta1[0], 4), \", доверительный интервал: \", (round(XB1 - delta1[0], 4), round(XB1 + delta1[0], 4)))\n",
    "print(\"При 𝛾 = 0.99 и N = 115, точность 𝛿 =\", round(delta1[1], 4), \", доверительный интервал: \", (round(XB1 - delta1[1], 4), round(XB1 + delta1[1], 4)))"
   ]
  },
  {
   "cell_type": "markdown",
   "id": "480ac75e",
   "metadata": {},
   "source": [
    "С вероятность 95% математическое ожидание находится в интервале (28.756, 34.1744), а с вероятностью 99% находится в интервале (27.8826, 35.0478).\n",
    "\n",
    "#### Признак 'Fare'"
   ]
  },
  {
   "cell_type": "code",
   "execution_count": 3,
   "id": "5675278d",
   "metadata": {},
   "outputs": [
    {
     "name": "stdout",
     "output_type": "stream",
     "text": [
      "Выборочное среднее: 47.61427826086956\n",
      "При 𝛾 = 0.95 и N = 115, точность 𝛿 = 11.2623 , доверительный интервал:  (36.352, 58.8766)\n",
      "При 𝛾 = 0.99 и N = 115, точность 𝛿 = 14.8932 , доверительный интервал:  (32.7211, 62.5074)\n"
     ]
    }
   ],
   "source": [
    "delta2 = [tt * S2 / (N ** 0.5) for tt in t]\n",
    "#N, t, delta1, [(XB1 - d, XB1 + d) for d in delta1]\n",
    "print(\"Выборочное среднее:\", XB2)\n",
    "print(\"При 𝛾 = 0.95 и N = 115, точность 𝛿 =\", round(delta2[0], 4), \", доверительный интервал: \", (round(XB2 - delta2[0], 4), round(XB2 + delta2[0], 4)))\n",
    "print(\"При 𝛾 = 0.99 и N = 115, точность 𝛿 =\", round(delta2[1], 4), \", доверительный интервал: \", (round(XB2 - delta2[1], 4), round(XB2 + delta2[1], 4)))"
   ]
  },
  {
   "cell_type": "markdown",
   "id": "6cc7c84b",
   "metadata": {},
   "source": [
    "С вероятность 95% математическое ожидание находится в интервале (36.352, 58.8766), а с вероятностью 99% находится в интервале (32.7211, 62.5074).\n",
    "\n",
    "### Для вычисления границ доверительного интервала для среднеквадратичного отклонения определить значение $q$ при заданных $\\gamma$ и $n$. Построить доверительные интервалы.\n",
    "\n",
    "#### Признак 'Age'"
   ]
  },
  {
   "cell_type": "code",
   "execution_count": 4,
   "id": "acbe20d5",
   "metadata": {},
   "outputs": [
    {
     "name": "stdout",
     "output_type": "stream",
     "text": [
      "СКО: 14.665827588507756\n",
      "Доверительный инетрвал при 𝛾 = 0.95: (12.5686, 16.763)\n",
      "Доверительный инетрвал при 𝛾 = 0.99: (11.762, 17.5697)\n"
     ]
    }
   ],
   "source": [
    "q = [0.143, 0.198] #из Приложения 7 (N = 100)\n",
    "print(\"СКО:\", S1)\n",
    "print(\"Доверительный инетрвал при 𝛾 = 0.95:\", (round(S1 * (1 - q[0]), 4), round(S1 * (1 + q[0]), 4)))\n",
    "print(\"Доверительный инетрвал при 𝛾 = 0.99:\", (round(S1 * (1 - q[1]), 4), round(S1 * (1 + q[1]), 4)))"
   ]
  },
  {
   "cell_type": "markdown",
   "id": "0d60e2a7",
   "metadata": {},
   "source": [
    "С вероятность 95% среднеквадратичное отклонение находится в интервале (12.5686, 16.763) и с вероятностью 99% находится в интервале (11.762, 17.5697)."
   ]
  },
  {
   "cell_type": "markdown",
   "id": "65bb23e0",
   "metadata": {},
   "source": [
    "#### Признак 'Fare'"
   ]
  },
  {
   "cell_type": "code",
   "execution_count": 5,
   "id": "dceecebe",
   "metadata": {},
   "outputs": [
    {
     "name": "stdout",
     "output_type": "stream",
     "text": [
      "СКО: 60.966800183687525\n",
      "Доверительный инетрвал при 𝛾 = 0.95: (52.2485, 69.6851)\n",
      "Доверительный инетрвал при 𝛾 = 0.99: (48.8954, 73.0382)\n"
     ]
    }
   ],
   "source": [
    "print(\"СКО:\", S2)\n",
    "print(\"Доверительный инетрвал при 𝛾 = 0.95:\", (round(S2 * (1 - q[0]), 4), round(S2 * (1 + q[0]), 4)))\n",
    "print(\"Доверительный инетрвал при 𝛾 = 0.99:\", (round(S2 * (1 - q[1]), 4), round(S2 * (1 + q[1]), 4)))"
   ]
  },
  {
   "cell_type": "markdown",
   "id": "f963cbd6",
   "metadata": {},
   "source": [
    "С вероятность 95% среднеквадратичное отклонение находится в интервале (52.2485, 69.6851) и с вероятностью 99% находится в интервале (48.8954, 73.0382).\n",
    "\n",
    "### Проверить гипотезу о нормальности заданного распределения с помощью критерия $\\chi^2$ (Пирсона)\n",
    "\n",
    "$H_0$: случайная величина распределена по нормальному закону распределения\n",
    "\n",
    "$H_1$: случайная величина распределена по закону распределения отличному от нормального\n",
    "\n",
    "\n",
    "Новые границы интервалов вычисляются по формуле: $z_i = \\frac{x_i - \\overline{x}_в}{S}$. Первый интервал начинается в $-\\infty$, последний заканчивается в $-\\infty$.\n",
    "\n",
    "$p_i = \\Phi(z_{i+1}) - \\Phi(z_i)$\n",
    "\n",
    "#### Признак 'Age'"
   ]
  },
  {
   "cell_type": "code",
   "execution_count": 6,
   "id": "6f3e57df",
   "metadata": {},
   "outputs": [
    {
     "data": {
      "text/plain": [
       "[(-inf, -1.327),\n",
       " (-1.327, -0.577),\n",
       " (-0.577, 0.173),\n",
       " (0.173, 0.923),\n",
       " (0.923, 1.673),\n",
       " (1.673, 2.423),\n",
       " (2.423, inf)]"
      ]
     },
     "execution_count": 6,
     "metadata": {},
     "output_type": "execute_result"
    }
   ],
   "source": [
    "alpha = 0.05\n",
    "\n",
    "interv1 = []\n",
    "for i in range(k):\n",
    "    n = intervals1['interval'][i]\n",
    "    interval = ()\n",
    "    if i == 0:\n",
    "        interval = (-np.Inf, round((n.right - XB1) / S1, 3 ))\n",
    "    elif i == k - 1: \n",
    "        interval = (round((n.left - XB1) / S1, 3), np.Inf)\n",
    "    else:\n",
    "        #n1 = intervals1['середина интервала'][i-1]\n",
    "        interval = (round((n.left - XB1) / S1, 3), round((n.right - XB1) / S1, 3))\n",
    "    \n",
    "    interv1.append(interval)\n",
    "    \n",
    "interv1"
   ]
  },
  {
   "cell_type": "code",
   "execution_count": 7,
   "id": "3e5e5105",
   "metadata": {},
   "outputs": [
    {
     "data": {
      "text/html": [
       "<style type=\"text/css\">\n",
       "#T_08075 th {\n",
       "  width: 100px;\n",
       "}\n",
       "</style>\n",
       "<table id=\"T_08075\">\n",
       "  <thead>\n",
       "    <tr>\n",
       "      <th class=\"blank level0\" >&nbsp;</th>\n",
       "      <th id=\"T_08075_level0_col0\" class=\"col_heading level0 col0\" >интервал</th>\n",
       "      <th id=\"T_08075_level0_col1\" class=\"col_heading level0 col1\" >z</th>\n",
       "      <th id=\"T_08075_level0_col2\" class=\"col_heading level0 col2\" >$n_i$</th>\n",
       "      <th id=\"T_08075_level0_col3\" class=\"col_heading level0 col3\" >$p_i$</th>\n",
       "      <th id=\"T_08075_level0_col4\" class=\"col_heading level0 col4\" >$n'_i$</th>\n",
       "      <th id=\"T_08075_level0_col5\" class=\"col_heading level0 col5\" >$(n_i - n'_i)^2$</th>\n",
       "      <th id=\"T_08075_level0_col6\" class=\"col_heading level0 col6\" >$(n_i - n'_i)^2/n'_i$</th>\n",
       "      <th id=\"T_08075_level0_col7\" class=\"col_heading level0 col7\" >$n_i^ 2$</th>\n",
       "      <th id=\"T_08075_level0_col8\" class=\"col_heading level0 col8\" >$n_i^ 2/n'_i$</th>\n",
       "    </tr>\n",
       "  </thead>\n",
       "  <tbody>\n",
       "    <tr>\n",
       "      <th id=\"T_08075_level0_row0\" class=\"row_heading level0 row0\" >0</th>\n",
       "      <td id=\"T_08075_row0_col0\" class=\"data row0 col0\" >[1.0, 12.0)</td>\n",
       "      <td id=\"T_08075_row0_col1\" class=\"data row0 col1\" >(-inf, -1.327)</td>\n",
       "      <td id=\"T_08075_row0_col2\" class=\"data row0 col2\" >6.000000</td>\n",
       "      <td id=\"T_08075_row0_col3\" class=\"data row0 col3\" >0.092254</td>\n",
       "      <td id=\"T_08075_row0_col4\" class=\"data row0 col4\" >10.609249</td>\n",
       "      <td id=\"T_08075_row0_col5\" class=\"data row0 col5\" >21.245179</td>\n",
       "      <td id=\"T_08075_row0_col6\" class=\"data row0 col6\" >2.002515</td>\n",
       "      <td id=\"T_08075_row0_col7\" class=\"data row0 col7\" >36.000000</td>\n",
       "      <td id=\"T_08075_row0_col8\" class=\"data row0 col8\" >3.393266</td>\n",
       "    </tr>\n",
       "    <tr>\n",
       "      <th id=\"T_08075_level0_row1\" class=\"row_heading level0 row1\" >1</th>\n",
       "      <td id=\"T_08075_row1_col0\" class=\"data row1 col0\" >[12.0, 23.0)</td>\n",
       "      <td id=\"T_08075_row1_col1\" class=\"data row1 col1\" >(-1.327, -0.577)</td>\n",
       "      <td id=\"T_08075_row1_col2\" class=\"data row1 col2\" >28.000000</td>\n",
       "      <td id=\"T_08075_row1_col3\" class=\"data row1 col3\" >0.189715</td>\n",
       "      <td id=\"T_08075_row1_col4\" class=\"data row1 col4\" >21.817269</td>\n",
       "      <td id=\"T_08075_row1_col5\" class=\"data row1 col5\" >38.226157</td>\n",
       "      <td id=\"T_08075_row1_col6\" class=\"data row1 col6\" >1.752105</td>\n",
       "      <td id=\"T_08075_row1_col7\" class=\"data row1 col7\" >784.000000</td>\n",
       "      <td id=\"T_08075_row1_col8\" class=\"data row1 col8\" >35.934836</td>\n",
       "    </tr>\n",
       "    <tr>\n",
       "      <th id=\"T_08075_level0_row2\" class=\"row_heading level0 row2\" >2</th>\n",
       "      <td id=\"T_08075_row2_col0\" class=\"data row2 col0\" >[23.0, 34.0)</td>\n",
       "      <td id=\"T_08075_row2_col1\" class=\"data row2 col1\" >(-0.577, 0.173)</td>\n",
       "      <td id=\"T_08075_row2_col2\" class=\"data row2 col2\" >42.000000</td>\n",
       "      <td id=\"T_08075_row2_col3\" class=\"data row2 col3\" >0.286705</td>\n",
       "      <td id=\"T_08075_row2_col4\" class=\"data row2 col4\" >32.971024</td>\n",
       "      <td id=\"T_08075_row2_col5\" class=\"data row2 col5\" >81.522404</td>\n",
       "      <td id=\"T_08075_row2_col6\" class=\"data row2 col6\" >2.472547</td>\n",
       "      <td id=\"T_08075_row2_col7\" class=\"data row2 col7\" >1764.000000</td>\n",
       "      <td id=\"T_08075_row2_col8\" class=\"data row2 col8\" >53.501523</td>\n",
       "    </tr>\n",
       "    <tr>\n",
       "      <th id=\"T_08075_level0_row3\" class=\"row_heading level0 row3\" >3</th>\n",
       "      <td id=\"T_08075_row3_col0\" class=\"data row3 col0\" >[34.0, 45.0)</td>\n",
       "      <td id=\"T_08075_row3_col1\" class=\"data row3 col1\" >(0.173, 0.923)</td>\n",
       "      <td id=\"T_08075_row3_col2\" class=\"data row3 col2\" >17.000000</td>\n",
       "      <td id=\"T_08075_row3_col3\" class=\"data row3 col3\" >0.253322</td>\n",
       "      <td id=\"T_08075_row3_col4\" class=\"data row3 col4\" >29.132043</td>\n",
       "      <td id=\"T_08075_row3_col5\" class=\"data row3 col5\" >147.186462</td>\n",
       "      <td id=\"T_08075_row3_col6\" class=\"data row3 col6\" >5.052391</td>\n",
       "      <td id=\"T_08075_row3_col7\" class=\"data row3 col7\" >289.000000</td>\n",
       "      <td id=\"T_08075_row3_col8\" class=\"data row3 col8\" >9.920348</td>\n",
       "    </tr>\n",
       "    <tr>\n",
       "      <th id=\"T_08075_level0_row4\" class=\"row_heading level0 row4\" >4</th>\n",
       "      <td id=\"T_08075_row4_col0\" class=\"data row4 col0\" >[45.0, 56.0)</td>\n",
       "      <td id=\"T_08075_row4_col1\" class=\"data row4 col1\" >(0.923, 1.673)</td>\n",
       "      <td id=\"T_08075_row4_col2\" class=\"data row4 col2\" >14.000000</td>\n",
       "      <td id=\"T_08075_row4_col3\" class=\"data row4 col3\" >0.130840</td>\n",
       "      <td id=\"T_08075_row4_col4\" class=\"data row4 col4\" >15.046595</td>\n",
       "      <td id=\"T_08075_row4_col5\" class=\"data row4 col5\" >1.095361</td>\n",
       "      <td id=\"T_08075_row4_col6\" class=\"data row4 col6\" >0.072798</td>\n",
       "      <td id=\"T_08075_row4_col7\" class=\"data row4 col7\" >196.000000</td>\n",
       "      <td id=\"T_08075_row4_col8\" class=\"data row4 col8\" >13.026203</td>\n",
       "    </tr>\n",
       "    <tr>\n",
       "      <th id=\"T_08075_level0_row5\" class=\"row_heading level0 row5\" >5</th>\n",
       "      <td id=\"T_08075_row5_col0\" class=\"data row5 col0\" >[56.0, 67.0)</td>\n",
       "      <td id=\"T_08075_row5_col1\" class=\"data row5 col1\" >(1.673, 2.423)</td>\n",
       "      <td id=\"T_08075_row5_col2\" class=\"data row5 col2\" >6.000000</td>\n",
       "      <td id=\"T_08075_row5_col3\" class=\"data row5 col3\" >0.039467</td>\n",
       "      <td id=\"T_08075_row5_col4\" class=\"data row5 col4\" >4.538726</td>\n",
       "      <td id=\"T_08075_row5_col5\" class=\"data row5 col5\" >2.135321</td>\n",
       "      <td id=\"T_08075_row5_col6\" class=\"data row5 col6\" >0.470467</td>\n",
       "      <td id=\"T_08075_row5_col7\" class=\"data row5 col7\" >36.000000</td>\n",
       "      <td id=\"T_08075_row5_col8\" class=\"data row5 col8\" >7.931741</td>\n",
       "    </tr>\n",
       "    <tr>\n",
       "      <th id=\"T_08075_level0_row6\" class=\"row_heading level0 row6\" >6</th>\n",
       "      <td id=\"T_08075_row6_col0\" class=\"data row6 col0\" >[67.0, 78.0)</td>\n",
       "      <td id=\"T_08075_row6_col1\" class=\"data row6 col1\" >(2.423, inf)</td>\n",
       "      <td id=\"T_08075_row6_col2\" class=\"data row6 col2\" >2.000000</td>\n",
       "      <td id=\"T_08075_row6_col3\" class=\"data row6 col3\" >0.007696</td>\n",
       "      <td id=\"T_08075_row6_col4\" class=\"data row6 col4\" >0.885093</td>\n",
       "      <td id=\"T_08075_row6_col5\" class=\"data row6 col5\" >1.243017</td>\n",
       "      <td id=\"T_08075_row6_col6\" class=\"data row6 col6\" >1.404391</td>\n",
       "      <td id=\"T_08075_row6_col7\" class=\"data row6 col7\" >4.000000</td>\n",
       "      <td id=\"T_08075_row6_col8\" class=\"data row6 col8\" >4.519298</td>\n",
       "    </tr>\n",
       "  </tbody>\n",
       "</table>\n"
      ],
      "text/plain": [
       "<pandas.io.formats.style.Styler at 0x7ff1d8ea4130>"
      ]
     },
     "execution_count": 7,
     "metadata": {},
     "output_type": "execute_result"
    }
   ],
   "source": [
    "table1 = pd.DataFrame({'интервал': intervals1['interval'],\n",
    "                       'z': interv1,\n",
    "                      '$n_i$': intervals1['относительная частота'] * N})\n",
    "\n",
    "table1['$p_i$'] = [((stats.norm.cdf(table1['z'][i][1]) - 0.5) - (stats.norm.cdf(table1['z'][i][0]) - 0.5)) for i in range(k)]\n",
    "table1[\"$n'_i$\"] = N * table1['$p_i$']\n",
    "table1[\"$(n_i - n'_i)^2$\"] = (table1[\"$n_i$\"] - table1[\"$n'_i$\"]) ** 2\n",
    "table1[\"$(n_i - n'_i)^2/n'_i$\"] = table1[\"$(n_i - n'_i)^2$\"] / table1[\"$n'_i$\"]\n",
    "table1[\"$n_i^ 2$\"] = table1[\"$n_i$\"] ** 2\n",
    "table1[\"$n_i^ 2/n'_i$\"] = table1[\"$n_i^ 2$\"] / table1[\"$n'_i$\"]\n",
    "\n",
    "\n",
    "(table1\n",
    " .style\n",
    " .set_table_styles([{'selector': 'th', \n",
    "                     'props': [('width', '100px')]\n",
    "                     }])\n",
    ")\n"
   ]
  },
  {
   "cell_type": "code",
   "execution_count": 8,
   "id": "fd14a17b",
   "metadata": {},
   "outputs": [
    {
     "data": {
      "text/plain": [
       "(13.2272137423799, 9.487729036781154, False)"
      ]
     },
     "execution_count": 8,
     "metadata": {},
     "output_type": "execute_result"
    }
   ],
   "source": [
    "chi1 = sum(table1[\"$(n_i - n'_i)^2/n'_i$\"])\n",
    "chiCrit1 = stats.chi2.ppf(1 - alpha, k-3)\n",
    "chi1, chiCrit1, chi1 <= chiCrit1"
   ]
  },
  {
   "cell_type": "markdown",
   "id": "615dd7be",
   "metadata": {},
   "source": [
    "Были вычислены $\\chi^2_{Набл} = 13.23$ и $\\chi^2_{крит} = 9.49$. Поскольку $\\chi^2_{Набл} > \\chi^2_{крит}$, нулевая гипотеза отвергается. То есть принимается альтернативная гипотеза и утверждение, что закон распределения случайной величины не соответствует нормальному.\n",
    "\n",
    "#### Признак 'Fare'"
   ]
  },
  {
   "cell_type": "code",
   "execution_count": 9,
   "id": "a38e722e",
   "metadata": {},
   "outputs": [
    {
     "data": {
      "text/plain": [
       "[(-inf, -0.106),\n",
       " (-0.106, 0.518),\n",
       " (0.518, 1.141),\n",
       " (1.141, 1.764),\n",
       " (1.764, 2.387),\n",
       " (2.387, 3.011),\n",
       " (3.011, inf)]"
      ]
     },
     "execution_count": 9,
     "metadata": {},
     "output_type": "execute_result"
    }
   ],
   "source": [
    "interv2 = []\n",
    "for i in range(k):\n",
    "    n = intervals2['interval'][i]\n",
    "    interval = ()\n",
    "    if i == 0:\n",
    "        interval = (-np.Inf, round((n[1] - XB2) / S2, 3 ))\n",
    "    elif i == k - 1: \n",
    "        interval = (round((n[0] - XB2) / S2, 3), np.Inf)\n",
    "    else:\n",
    "        interval = (round((n[0] - XB2) / S2, 3), round((n[1] - XB2) / S2, 3))\n",
    "    \n",
    "    interv2.append(interval)\n",
    "    \n",
    "interv2"
   ]
  },
  {
   "cell_type": "code",
   "execution_count": 10,
   "id": "805cbd31",
   "metadata": {},
   "outputs": [
    {
     "data": {
      "text/html": [
       "<style type=\"text/css\">\n",
       "#T_043a3 th {\n",
       "  width: 100px;\n",
       "}\n",
       "</style>\n",
       "<table id=\"T_043a3\">\n",
       "  <thead>\n",
       "    <tr>\n",
       "      <th class=\"blank level0\" >&nbsp;</th>\n",
       "      <th id=\"T_043a3_level0_col0\" class=\"col_heading level0 col0\" >интервал</th>\n",
       "      <th id=\"T_043a3_level0_col1\" class=\"col_heading level0 col1\" >z</th>\n",
       "      <th id=\"T_043a3_level0_col2\" class=\"col_heading level0 col2\" >$n_i$</th>\n",
       "      <th id=\"T_043a3_level0_col3\" class=\"col_heading level0 col3\" >$p_i$</th>\n",
       "      <th id=\"T_043a3_level0_col4\" class=\"col_heading level0 col4\" >$n'_i$</th>\n",
       "      <th id=\"T_043a3_level0_col5\" class=\"col_heading level0 col5\" >$(n_i - n'_i)^2$</th>\n",
       "      <th id=\"T_043a3_level0_col6\" class=\"col_heading level0 col6\" >$(n_i - n'_i)^2/n'_i$</th>\n",
       "      <th id=\"T_043a3_level0_col7\" class=\"col_heading level0 col7\" >$n_i^ 2$</th>\n",
       "      <th id=\"T_043a3_level0_col8\" class=\"col_heading level0 col8\" >$n_i^ 2/n'_i$</th>\n",
       "    </tr>\n",
       "  </thead>\n",
       "  <tbody>\n",
       "    <tr>\n",
       "      <th id=\"T_043a3_level0_row0\" class=\"row_heading level0 row0\" >0</th>\n",
       "      <td id=\"T_043a3_row0_col0\" class=\"data row0 col0\" >(3.1708, 41.1708)</td>\n",
       "      <td id=\"T_043a3_row0_col1\" class=\"data row0 col1\" >(-inf, -0.106)</td>\n",
       "      <td id=\"T_043a3_row0_col2\" class=\"data row0 col2\" >87.000000</td>\n",
       "      <td id=\"T_043a3_row0_col3\" class=\"data row0 col3\" >0.457791</td>\n",
       "      <td id=\"T_043a3_row0_col4\" class=\"data row0 col4\" >52.645985</td>\n",
       "      <td id=\"T_043a3_row0_col5\" class=\"data row0 col5\" >1180.198329</td>\n",
       "      <td id=\"T_043a3_row0_col6\" class=\"data row0 col6\" >22.417632</td>\n",
       "      <td id=\"T_043a3_row0_col7\" class=\"data row0 col7\" >7569.000000</td>\n",
       "      <td id=\"T_043a3_row0_col8\" class=\"data row0 col8\" >143.771647</td>\n",
       "    </tr>\n",
       "    <tr>\n",
       "      <th id=\"T_043a3_level0_row1\" class=\"row_heading level0 row1\" >1</th>\n",
       "      <td id=\"T_043a3_row1_col0\" class=\"data row1 col0\" >(41.1708, 79.1708)</td>\n",
       "      <td id=\"T_043a3_row1_col1\" class=\"data row1 col1\" >(-0.106, 0.518)</td>\n",
       "      <td id=\"T_043a3_row1_col2\" class=\"data row1 col2\" >16.000000</td>\n",
       "      <td id=\"T_043a3_row1_col3\" class=\"data row1 col3\" >0.239980</td>\n",
       "      <td id=\"T_043a3_row1_col4\" class=\"data row1 col4\" >27.597664</td>\n",
       "      <td id=\"T_043a3_row1_col5\" class=\"data row1 col5\" >134.505816</td>\n",
       "      <td id=\"T_043a3_row1_col6\" class=\"data row1 col6\" >4.873812</td>\n",
       "      <td id=\"T_043a3_row1_col7\" class=\"data row1 col7\" >256.000000</td>\n",
       "      <td id=\"T_043a3_row1_col8\" class=\"data row1 col8\" >9.276147</td>\n",
       "    </tr>\n",
       "    <tr>\n",
       "      <th id=\"T_043a3_level0_row2\" class=\"row_heading level0 row2\" >2</th>\n",
       "      <td id=\"T_043a3_row2_col0\" class=\"data row2 col0\" >(79.1708, 117.1708)</td>\n",
       "      <td id=\"T_043a3_row2_col1\" class=\"data row2 col1\" >(0.518, 1.141)</td>\n",
       "      <td id=\"T_043a3_row2_col2\" class=\"data row2 col2\" >1.000000</td>\n",
       "      <td id=\"T_043a3_row2_col3\" class=\"data row2 col3\" >0.175294</td>\n",
       "      <td id=\"T_043a3_row2_col4\" class=\"data row2 col4\" >20.158830</td>\n",
       "      <td id=\"T_043a3_row2_col5\" class=\"data row2 col5\" >367.060764</td>\n",
       "      <td id=\"T_043a3_row2_col6\" class=\"data row2 col6\" >18.208436</td>\n",
       "      <td id=\"T_043a3_row2_col7\" class=\"data row2 col7\" >1.000000</td>\n",
       "      <td id=\"T_043a3_row2_col8\" class=\"data row2 col8\" >0.049606</td>\n",
       "    </tr>\n",
       "    <tr>\n",
       "      <th id=\"T_043a3_level0_row3\" class=\"row_heading level0 row3\" >3</th>\n",
       "      <td id=\"T_043a3_row3_col0\" class=\"data row3 col0\" >(117.1708, 155.1708)</td>\n",
       "      <td id=\"T_043a3_row3_col1\" class=\"data row3 col1\" >(1.141, 1.764)</td>\n",
       "      <td id=\"T_043a3_row3_col2\" class=\"data row3 col2\" >1.000000</td>\n",
       "      <td id=\"T_043a3_row3_col3\" class=\"data row3 col3\" >0.088069</td>\n",
       "      <td id=\"T_043a3_row3_col4\" class=\"data row3 col4\" >10.127932</td>\n",
       "      <td id=\"T_043a3_row3_col5\" class=\"data row3 col5\" >83.319138</td>\n",
       "      <td id=\"T_043a3_row3_col6\" class=\"data row3 col6\" >8.226669</td>\n",
       "      <td id=\"T_043a3_row3_col7\" class=\"data row3 col7\" >1.000000</td>\n",
       "      <td id=\"T_043a3_row3_col8\" class=\"data row3 col8\" >0.098737</td>\n",
       "    </tr>\n",
       "    <tr>\n",
       "      <th id=\"T_043a3_level0_row4\" class=\"row_heading level0 row4\" >4</th>\n",
       "      <td id=\"T_043a3_row4_col0\" class=\"data row4 col0\" >(155.1708, 193.1708)</td>\n",
       "      <td id=\"T_043a3_row4_col1\" class=\"data row4 col1\" >(1.764, 2.387)</td>\n",
       "      <td id=\"T_043a3_row4_col2\" class=\"data row4 col2\" >0.000000</td>\n",
       "      <td id=\"T_043a3_row4_col3\" class=\"data row4 col3\" >0.030373</td>\n",
       "      <td id=\"T_043a3_row4_col4\" class=\"data row4 col4\" >3.492866</td>\n",
       "      <td id=\"T_043a3_row4_col5\" class=\"data row4 col5\" >12.200110</td>\n",
       "      <td id=\"T_043a3_row4_col6\" class=\"data row4 col6\" >3.492866</td>\n",
       "      <td id=\"T_043a3_row4_col7\" class=\"data row4 col7\" >0.000000</td>\n",
       "      <td id=\"T_043a3_row4_col8\" class=\"data row4 col8\" >0.000000</td>\n",
       "    </tr>\n",
       "    <tr>\n",
       "      <th id=\"T_043a3_level0_row5\" class=\"row_heading level0 row5\" >5</th>\n",
       "      <td id=\"T_043a3_row5_col0\" class=\"data row5 col0\" >(193.1708, 231.1708)</td>\n",
       "      <td id=\"T_043a3_row5_col1\" class=\"data row5 col1\" >(2.387, 3.011)</td>\n",
       "      <td id=\"T_043a3_row5_col2\" class=\"data row5 col2\" >4.000000</td>\n",
       "      <td id=\"T_043a3_row5_col3\" class=\"data row5 col3\" >0.007191</td>\n",
       "      <td id=\"T_043a3_row5_col4\" class=\"data row5 col4\" >0.827000</td>\n",
       "      <td id=\"T_043a3_row5_col5\" class=\"data row5 col5\" >10.067931</td>\n",
       "      <td id=\"T_043a3_row5_col6\" class=\"data row5 col6\" >12.174045</td>\n",
       "      <td id=\"T_043a3_row5_col7\" class=\"data row5 col7\" >16.000000</td>\n",
       "      <td id=\"T_043a3_row5_col8\" class=\"data row5 col8\" >19.347045</td>\n",
       "    </tr>\n",
       "    <tr>\n",
       "      <th id=\"T_043a3_level0_row6\" class=\"row_heading level0 row6\" >6</th>\n",
       "      <td id=\"T_043a3_row6_col0\" class=\"data row6 col0\" >(231.1708, 269.1708)</td>\n",
       "      <td id=\"T_043a3_row6_col1\" class=\"data row6 col1\" >(3.011, inf)</td>\n",
       "      <td id=\"T_043a3_row6_col2\" class=\"data row6 col2\" >6.000000</td>\n",
       "      <td id=\"T_043a3_row6_col3\" class=\"data row6 col3\" >0.001302</td>\n",
       "      <td id=\"T_043a3_row6_col4\" class=\"data row6 col4\" >0.149724</td>\n",
       "      <td id=\"T_043a3_row6_col5\" class=\"data row6 col5\" >34.225734</td>\n",
       "      <td id=\"T_043a3_row6_col6\" class=\"data row6 col6\" >228.592796</td>\n",
       "      <td id=\"T_043a3_row6_col7\" class=\"data row6 col7\" >36.000000</td>\n",
       "      <td id=\"T_043a3_row6_col8\" class=\"data row6 col8\" >240.443072</td>\n",
       "    </tr>\n",
       "  </tbody>\n",
       "</table>\n"
      ],
      "text/plain": [
       "<pandas.io.formats.style.Styler at 0x7ff1d8e184c0>"
      ]
     },
     "execution_count": 10,
     "metadata": {},
     "output_type": "execute_result"
    }
   ],
   "source": [
    "table2 = pd.DataFrame({'интервал': intervals2['interval'],\n",
    "                       'z': interv2,\n",
    "                      '$n_i$': intervals2['относительная частота'] * N})\n",
    "\n",
    "table2['$p_i$'] = [((stats.norm.cdf(table2['z'][i][1]) - 0.5) - (stats.norm.cdf(table2['z'][i][0]) - 0.5)) for i in range(k)]\n",
    "table2[\"$n'_i$\"] = N * table2['$p_i$']\n",
    "table2[\"$(n_i - n'_i)^2$\"] = (table2[\"$n_i$\"] - table2[\"$n'_i$\"]) ** 2\n",
    "table2[\"$(n_i - n'_i)^2/n'_i$\"] = table2[\"$(n_i - n'_i)^2$\"] / table2[\"$n'_i$\"]\n",
    "table2[\"$n_i^ 2$\"] = table2[\"$n_i$\"] ** 2\n",
    "table2[\"$n_i^ 2/n'_i$\"] = table2[\"$n_i^ 2$\"] / table2[\"$n'_i$\"]\n",
    "\n",
    "(table2\n",
    " .style\n",
    " .set_table_styles([{'selector': 'th', \n",
    "                     'props': [('width', '100px')]\n",
    "                     }])\n",
    ")"
   ]
  },
  {
   "cell_type": "code",
   "execution_count": 11,
   "id": "f1ffb740",
   "metadata": {},
   "outputs": [
    {
     "data": {
      "text/plain": [
       "(297.98625464585257, 9.487729036781154, False)"
      ]
     },
     "execution_count": 11,
     "metadata": {},
     "output_type": "execute_result"
    }
   ],
   "source": [
    "chi2 = sum(table2[\"$(n_i - n'_i)^2/n'_i$\"])\n",
    "chiCrit2 = stats.chi2.ppf(1 - alpha, k-3)\n",
    "chi2, chiCrit2, chi2 <= chiCrit2"
   ]
  },
  {
   "cell_type": "markdown",
   "id": "8c675d96",
   "metadata": {},
   "source": [
    "Были вычислены $\\chi^2_{Набл} = 297.986$ и $\\chi^2_{крит} = 9.49$. Поскольку $\\chi^2_{Набл} > \\chi^2_{крит}$, нулевая гипотеза отвергается. То есть принимается альтернативная гипотеза и утверждение, что закон распределения случайной величины не соответствует нормальному.\n",
    "\n",
    "## Выводы"
   ]
  },
  {
   "cell_type": "markdown",
   "id": "ccf71b6f",
   "metadata": {},
   "source": [
    "В ходе выполнения работы были вычислены точность и доверительный интервал для математического ожидания при неизвестном среднеквадратичном отклонении для доверительных точностей 0.95 и 0.99. \n",
    "Для признака 'Age' было определено, что с надежностью 0.95 математическое ожидание находится в интервале (28.756, 34.1744), и с надежностью 0.99 оно находится в интервале (27.8826, 35.0478).\n",
    "Для признака 'Fare' было определено, что с надежностью 0.95 математическое ожидание находится в интервале (36.352, 58.8766), а с надежностю 0.99 находится в интервале (32.7211, 62.5074).\n",
    "\n",
    "Также были вычислены доверительные интервалы для среднеквадратичного отклонения. \n",
    "Для признака 'Age' было определено, что с надежностью 0.95 среднеквадратичное отклонение находится в интервале (12.5686, 16.763) и с надежностью 0.99 находится в интервале (11.762, 17.5697). \n",
    "Для признака 'Fare' было определено, что с надежностью 0.95 среднеквадратичное отклонение находится в интервале (52.2485, 69.6851) и с надежностью 0.99 находится в интервале (48.8954, 73.0382).\n",
    "\n",
    "Кроме того, была проверена гипотеза о нормальности заданного распределения с помощью критерия Пирсона. Для обоих признаков была принята альтернативная гипотеза."
   ]
  }
 ],
 "metadata": {
  "kernelspec": {
   "display_name": "Python 3 (ipykernel)",
   "language": "python",
   "name": "python3"
  },
  "language_info": {
   "codemirror_mode": {
    "name": "ipython",
    "version": 3
   },
   "file_extension": ".py",
   "mimetype": "text/x-python",
   "name": "python",
   "nbconvert_exporter": "python",
   "pygments_lexer": "ipython3",
   "version": "3.10.6"
  }
 },
 "nbformat": 4,
 "nbformat_minor": 5
}
