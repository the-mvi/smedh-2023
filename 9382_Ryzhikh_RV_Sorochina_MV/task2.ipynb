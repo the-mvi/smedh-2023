{
 "cells": [
  {
   "cell_type": "markdown",
   "id": "357e6a5f",
   "metadata": {},
   "source": [
    "# Практическая работа №2: Обработка выборочных данных. Нахождение точечных оценок параметров распределения\n",
    "\n",
    "Выполнили студенты гр. 9382 Рыжих Роман и Сорочина Мария. Вариант №2"
   ]
  },
  {
   "cell_type": "markdown",
   "id": "22b22fb0",
   "metadata": {},
   "source": [
    "## Цель работы\n",
    "\n",
    "Получение практических навыков нахождения точечных статистических оценок параметров распределения."
   ]
  },
  {
   "cell_type": "markdown",
   "id": "e5eaa612",
   "metadata": {},
   "source": [
    "## Основные теоретические положения\n",
    "\n",
    "**Статистической оценкой** $\\theta^*$ неизвестного параметра теоретического распределения $\\theta$ называется функция от наблюдаемых значений случайной величины:\n",
    "\n",
    "$\\theta^* = f(x_1,x_2,...,x_n)$\n",
    "\n",
    "**Точечные статистические оценки** - статистические оценки, определяемые одним числом\n",
    "\n",
    "Для того, чтобы оценки были достаточно надёжными, к ним предъявляются требования **несмещённости, состоятельности и эффективности**\n",
    "\n",
    "Оценка называется **несмещённой**, если её математическое ожидание равно оцениваемому параметру $\\theta$ при любом объёме выборки n\n",
    "\n",
    "Оценка называется **эффективной**, если при заданном объёме выборки n она имеет наименьшую возможную дисперсию\n",
    "\n",
    "Оценка называется **состоятельной**, если она сходится по вероятности к оцениваемому параметру при неограниченном возрастании объёма выборки\n",
    "\n",
    "**Метод моментов** - метод оценки неизвестных параметров распределения, основанный на предполагаемых свойствах моментов. Идея заключается в замене истинных соотношений выборочными аналогами\n",
    "\n",
    "Для упрощения вычислений эмпирических моментов вводят **условные варианты**\n",
    "\n",
    "$u_j=\\frac{x_j-C}{h}$\n",
    "\n",
    ", где C - условный ноль, h - шаг\n",
    "\n",
    "В результате, все условные варианты оказываются целыми числами\n",
    "\n",
    "**Выборочное среднее**: $\\overline{x_в} = \\overline{M_1} = \\overline{M_1^*}h + C$\n",
    "\n",
    "**Выборочная дисперсия**: $D_в = \\overline{m_2} = \\frac{1}{N}\\sum{n_j(x_j - \\overline{x_в})^2}$\n",
    "\n",
    "Статистическая оценка дисперсии является смещённой оценкой. Поэтому следует использовать исправленную оценку дисперсии.\n",
    "\n",
    "**Исправленная выборочная дисперсия**: $s^2 = \\frac{N}{N-1}D_в$\n",
    "\n",
    "**Выборочное СКО**: $\\sigma_в = \\sqrt{D_в}$\n",
    "\n",
    "**Исправленное СКО**: $s = \\sqrt{s^2}$\n",
    "\n",
    "**Выборочная асимметрия**: $\\overline{A_s} = \\frac{\\overline{m_3}}{s^3}$\n",
    "\n",
    "**Эксцесс**: $\\overline{E} = \\frac{\\overline{m_4}}{s^4}-3$"
   ]
  },
  {
   "cell_type": "markdown",
   "id": "c5fbabfd",
   "metadata": {},
   "source": [
    "## Постановка задачи\n",
    "\n",
    "Для заданных выборочных данных вычислить с использованием метода моментов и условных вариант точечные статистические оценки математического ожидания, дисперсии, среднеквадратичного отклонения, асимметрии и эксцесса исследуемой случайной величины. Полученные результаты содержательно проинтерпретировать."
   ]
  },
  {
   "cell_type": "markdown",
   "id": "7c8eac33",
   "metadata": {},
   "source": [
    "## Выполнение работы"
   ]
  },
  {
   "cell_type": "markdown",
   "id": "539089c8",
   "metadata": {},
   "source": [
    "### Подготовка к выполнению работы\n",
    "\n",
    "Возьмём датасет из практической работы №1"
   ]
  },
  {
   "cell_type": "code",
   "execution_count": 1,
   "id": "7378842d",
   "metadata": {},
   "outputs": [],
   "source": [
    "import pandas as pd\n",
    "import numpy as np\n",
    "import math\n",
    "from IPython.display import display, HTML\n",
    "import matplotlib.pyplot as plt\n",
    "\n",
    "df = pd.read_csv('titanic_dataset.csv')\n",
    "df1 = df[np.isnan(df['Age'])]\n",
    "data = df.drop(df1.index, axis=0)[:115][['Age', 'Fare']]\n",
    "\n",
    "data.to_csv('data.csv', index=False)\n",
    "\n",
    "k = 1 + math.floor(3.31 * math.log10(len(data)))"
   ]
  },
  {
   "cell_type": "markdown",
   "id": "c5b598cc",
   "metadata": {},
   "source": [
    "#### Интервалы, их середины и частота попадания для первого признака (Age)"
   ]
  },
  {
   "cell_type": "code",
   "execution_count": 2,
   "id": "c00679f7",
   "metadata": {},
   "outputs": [
    {
     "data": {
      "text/html": [
       "<div>\n",
       "<style scoped>\n",
       "    .dataframe tbody tr th:only-of-type {\n",
       "        vertical-align: middle;\n",
       "    }\n",
       "\n",
       "    .dataframe tbody tr th {\n",
       "        vertical-align: top;\n",
       "    }\n",
       "\n",
       "    .dataframe thead th {\n",
       "        text-align: right;\n",
       "    }\n",
       "</style>\n",
       "<table border=\"1\" class=\"dataframe\">\n",
       "  <thead>\n",
       "    <tr style=\"text-align: right;\">\n",
       "      <th></th>\n",
       "      <th>interval</th>\n",
       "      <th>середина интервала</th>\n",
       "      <th>относительная частота</th>\n",
       "    </tr>\n",
       "  </thead>\n",
       "  <tbody>\n",
       "    <tr>\n",
       "      <th>1</th>\n",
       "      <td>[1.0, 12.0)</td>\n",
       "      <td>6.5</td>\n",
       "      <td>0.052174</td>\n",
       "    </tr>\n",
       "    <tr>\n",
       "      <th>2</th>\n",
       "      <td>[12.0, 23.0)</td>\n",
       "      <td>17.5</td>\n",
       "      <td>0.243478</td>\n",
       "    </tr>\n",
       "    <tr>\n",
       "      <th>3</th>\n",
       "      <td>[23.0, 34.0)</td>\n",
       "      <td>28.5</td>\n",
       "      <td>0.365217</td>\n",
       "    </tr>\n",
       "    <tr>\n",
       "      <th>4</th>\n",
       "      <td>[34.0, 45.0)</td>\n",
       "      <td>39.5</td>\n",
       "      <td>0.147826</td>\n",
       "    </tr>\n",
       "    <tr>\n",
       "      <th>5</th>\n",
       "      <td>[45.0, 56.0)</td>\n",
       "      <td>50.5</td>\n",
       "      <td>0.121739</td>\n",
       "    </tr>\n",
       "    <tr>\n",
       "      <th>6</th>\n",
       "      <td>[56.0, 67.0)</td>\n",
       "      <td>61.5</td>\n",
       "      <td>0.052174</td>\n",
       "    </tr>\n",
       "    <tr>\n",
       "      <th>7</th>\n",
       "      <td>[67.0, 78.0)</td>\n",
       "      <td>72.5</td>\n",
       "      <td>0.017391</td>\n",
       "    </tr>\n",
       "  </tbody>\n",
       "</table>\n",
       "</div>"
      ],
      "text/plain": [
       "       interval  середина интервала  относительная частота\n",
       "1   [1.0, 12.0)                 6.5               0.052174\n",
       "2  [12.0, 23.0)                17.5               0.243478\n",
       "3  [23.0, 34.0)                28.5               0.365217\n",
       "4  [34.0, 45.0)                39.5               0.147826\n",
       "5  [45.0, 56.0)                50.5               0.121739\n",
       "6  [56.0, 67.0)                61.5               0.052174\n",
       "7  [67.0, 78.0)                72.5               0.017391"
      ]
     },
     "execution_count": 2,
     "metadata": {},
     "output_type": "execute_result"
    }
   ],
   "source": [
    "feature1 = data.loc[:, ['Age']]\n",
    "ranked1 = feature1.sort_values(by='Age').set_index(pd.Index([i for i in range(1, 116)]))\n",
    "\n",
    "x_min1 = ranked1['Age'][1]\n",
    "x_max1 = ranked1['Age'][115]\n",
    "h1 = math.ceil((x_max1 - x_min1) / k)\n",
    "\n",
    "bins1 = np.arange(x_min1, x_max1+h1, h1)\n",
    "cuted1 = pd.cut(ranked1[\"Age\"], bins1, right=False)\n",
    "\n",
    "intervals1 = ranked1.groupby(cuted1, as_index=False)['Age'].count()\n",
    "intervals1 = intervals1.rename(columns={'Age': 'частота попадания'})\n",
    "\n",
    "cuted1 = sorted(list(set(cuted1)), key=lambda x: x.left) \n",
    "\n",
    "intervals1['interval'] = cuted1\n",
    "intervals1[\"середина интервала\"] = [i.right-h1/2 for i in cuted1]\n",
    "intervals1['относительная частота'] = intervals1['частота попадания'] / len(data)\n",
    "#intervals1 = intervals1.drop(['частота попадания'], axis=1)\n",
    "intervals1.iloc[:, [1, 2,3]].set_index(pd.Index([i for i in range(1, 8)]))\n"
   ]
  },
  {
   "cell_type": "code",
   "execution_count": 3,
   "id": "88c42593",
   "metadata": {},
   "outputs": [],
   "source": [
    "age_intervals = intervals1['interval']\n",
    "intervals1 = intervals1.drop(['interval'], axis=1)\n",
    "#age_intervals"
   ]
  },
  {
   "cell_type": "markdown",
   "id": "5f6898a7",
   "metadata": {},
   "source": [
    "#### Интервалы, их середины и частота попадания для второго признака (Fare)"
   ]
  },
  {
   "cell_type": "code",
   "execution_count": 4,
   "id": "19fb928b",
   "metadata": {
    "scrolled": true
   },
   "outputs": [
    {
     "data": {
      "text/html": [
       "<div>\n",
       "<style scoped>\n",
       "    .dataframe tbody tr th:only-of-type {\n",
       "        vertical-align: middle;\n",
       "    }\n",
       "\n",
       "    .dataframe tbody tr th {\n",
       "        vertical-align: top;\n",
       "    }\n",
       "\n",
       "    .dataframe thead th {\n",
       "        text-align: right;\n",
       "    }\n",
       "</style>\n",
       "<table border=\"1\" class=\"dataframe\">\n",
       "  <thead>\n",
       "    <tr style=\"text-align: right;\">\n",
       "      <th></th>\n",
       "      <th>interval</th>\n",
       "      <th>середина интервала</th>\n",
       "      <th>относительная частота</th>\n",
       "    </tr>\n",
       "  </thead>\n",
       "  <tbody>\n",
       "    <tr>\n",
       "      <th>1</th>\n",
       "      <td>(3.1708, 41.1708)</td>\n",
       "      <td>22.1708</td>\n",
       "      <td>0.756522</td>\n",
       "    </tr>\n",
       "    <tr>\n",
       "      <th>2</th>\n",
       "      <td>(41.1708, 79.1708)</td>\n",
       "      <td>60.1708</td>\n",
       "      <td>0.139130</td>\n",
       "    </tr>\n",
       "    <tr>\n",
       "      <th>3</th>\n",
       "      <td>(79.1708, 117.1708)</td>\n",
       "      <td>98.1708</td>\n",
       "      <td>0.008696</td>\n",
       "    </tr>\n",
       "    <tr>\n",
       "      <th>4</th>\n",
       "      <td>(117.1708, 155.1708)</td>\n",
       "      <td>136.1708</td>\n",
       "      <td>0.008696</td>\n",
       "    </tr>\n",
       "    <tr>\n",
       "      <th>5</th>\n",
       "      <td>(155.1708, 193.1708)</td>\n",
       "      <td>174.1708</td>\n",
       "      <td>0.000000</td>\n",
       "    </tr>\n",
       "    <tr>\n",
       "      <th>6</th>\n",
       "      <td>(193.1708, 231.1708)</td>\n",
       "      <td>212.1708</td>\n",
       "      <td>0.034783</td>\n",
       "    </tr>\n",
       "    <tr>\n",
       "      <th>7</th>\n",
       "      <td>(231.1708, 269.1708)</td>\n",
       "      <td>250.1708</td>\n",
       "      <td>0.052174</td>\n",
       "    </tr>\n",
       "  </tbody>\n",
       "</table>\n",
       "</div>"
      ],
      "text/plain": [
       "               interval  середина интервала  относительная частота\n",
       "1     (3.1708, 41.1708)             22.1708               0.756522\n",
       "2    (41.1708, 79.1708)             60.1708               0.139130\n",
       "3   (79.1708, 117.1708)             98.1708               0.008696\n",
       "4  (117.1708, 155.1708)            136.1708               0.008696\n",
       "5  (155.1708, 193.1708)            174.1708               0.000000\n",
       "6  (193.1708, 231.1708)            212.1708               0.034783\n",
       "7  (231.1708, 269.1708)            250.1708               0.052174"
      ]
     },
     "execution_count": 4,
     "metadata": {},
     "output_type": "execute_result"
    }
   ],
   "source": [
    "feature2 = data.loc[:, ['Fare']]\n",
    "ranked2 = feature2.sort_values(by='Fare').set_index(pd.Index([i for i in range(1, 116)]))\n",
    "\n",
    "x_min2 = ranked2['Fare'][1]\n",
    "x_max2 = ranked2['Fare'][115]\n",
    "h2 = math.ceil((x_max2 - x_min2) / k)\n",
    "\n",
    "bins2 = np.arange(x_min2, x_max2+h2, h2)\n",
    "cuted2 = pd.cut(ranked2[\"Fare\"], bins2, right=False)\n",
    "\n",
    "intervals2 = ranked2.groupby(cuted2, as_index=False)['Fare'].count()\n",
    "intervals2 = intervals2.rename(columns={'Fare': 'частота попадания'})\n",
    "\n",
    "\n",
    "cuted2 = [(round(bins2[i], 4), round(bins2[i+1], 4)) for i in range(len(bins2) - 1)]\n",
    "\n",
    "intervals2['interval'] = cuted2\n",
    "intervals2[\"середина интервала\"] = [i[1]-h2/2 for i in cuted2]\n",
    "intervals2['относительная частота'] = intervals2['частота попадания'] / len(data)\n",
    "#intervals2 = intervals2.drop(['частота попадания'], axis=1)\n",
    "\n",
    "intervals2.iloc[:, [1, 2, 3]].set_index(pd.Index([i for i in range(1, 8)]))"
   ]
  },
  {
   "cell_type": "code",
   "execution_count": 5,
   "id": "32da57dd",
   "metadata": {},
   "outputs": [],
   "source": [
    "fare_intervals = intervals2['interval']\n",
    "intervals2 = intervals2.drop(['interval'], axis=1)"
   ]
  },
  {
   "cell_type": "markdown",
   "id": "c1b77ac9",
   "metadata": {},
   "source": [
    "### Для середин интервального ряда, полученного в практической работе №1, вычислим условные варианты."
   ]
  },
  {
   "cell_type": "markdown",
   "id": "639a4f6f",
   "metadata": {},
   "source": [
    "#### Для первого признака (Age)"
   ]
  },
  {
   "cell_type": "markdown",
   "id": "7aea0808",
   "metadata": {},
   "source": [
    "h(шаг) = 17.5 - 6.5 = 11\n",
    "\n",
    "C(ложный нуль) - варианта с наибольшей частотой = 28.5"
   ]
  },
  {
   "cell_type": "code",
   "execution_count": 6,
   "id": "f418d5f1",
   "metadata": {},
   "outputs": [
    {
     "data": {
      "text/html": [
       "<div>\n",
       "<style scoped>\n",
       "    .dataframe tbody tr th:only-of-type {\n",
       "        vertical-align: middle;\n",
       "    }\n",
       "\n",
       "    .dataframe tbody tr th {\n",
       "        vertical-align: top;\n",
       "    }\n",
       "\n",
       "    .dataframe thead th {\n",
       "        text-align: right;\n",
       "    }\n",
       "</style>\n",
       "<table border=\"1\" class=\"dataframe\">\n",
       "  <thead>\n",
       "    <tr style=\"text-align: right;\">\n",
       "      <th></th>\n",
       "      <th>частота попадания</th>\n",
       "      <th>xi</th>\n",
       "      <th>ni</th>\n",
       "      <th>ui</th>\n",
       "      <th>ni*ui</th>\n",
       "      <th>ni*ui^2</th>\n",
       "      <th>ni*ui^3</th>\n",
       "      <th>ni*ui^4</th>\n",
       "      <th>ni*(ui+1)^4</th>\n",
       "    </tr>\n",
       "  </thead>\n",
       "  <tbody>\n",
       "    <tr>\n",
       "      <th>1</th>\n",
       "      <td>6.0</td>\n",
       "      <td>6.5</td>\n",
       "      <td>0.052174</td>\n",
       "      <td>-2.0</td>\n",
       "      <td>-0.104348</td>\n",
       "      <td>0.208696</td>\n",
       "      <td>-0.417391</td>\n",
       "      <td>0.834783</td>\n",
       "      <td>0.052174</td>\n",
       "    </tr>\n",
       "    <tr>\n",
       "      <th>2</th>\n",
       "      <td>28.0</td>\n",
       "      <td>17.5</td>\n",
       "      <td>0.243478</td>\n",
       "      <td>-1.0</td>\n",
       "      <td>-0.243478</td>\n",
       "      <td>0.243478</td>\n",
       "      <td>-0.243478</td>\n",
       "      <td>0.243478</td>\n",
       "      <td>0.000000</td>\n",
       "    </tr>\n",
       "    <tr>\n",
       "      <th>3</th>\n",
       "      <td>42.0</td>\n",
       "      <td>28.5</td>\n",
       "      <td>0.365217</td>\n",
       "      <td>0.0</td>\n",
       "      <td>0.000000</td>\n",
       "      <td>0.000000</td>\n",
       "      <td>0.000000</td>\n",
       "      <td>0.000000</td>\n",
       "      <td>0.365217</td>\n",
       "    </tr>\n",
       "    <tr>\n",
       "      <th>4</th>\n",
       "      <td>17.0</td>\n",
       "      <td>39.5</td>\n",
       "      <td>0.147826</td>\n",
       "      <td>1.0</td>\n",
       "      <td>0.147826</td>\n",
       "      <td>0.147826</td>\n",
       "      <td>0.147826</td>\n",
       "      <td>0.147826</td>\n",
       "      <td>2.365217</td>\n",
       "    </tr>\n",
       "    <tr>\n",
       "      <th>5</th>\n",
       "      <td>14.0</td>\n",
       "      <td>50.5</td>\n",
       "      <td>0.121739</td>\n",
       "      <td>2.0</td>\n",
       "      <td>0.243478</td>\n",
       "      <td>0.486957</td>\n",
       "      <td>0.973913</td>\n",
       "      <td>1.947826</td>\n",
       "      <td>9.860870</td>\n",
       "    </tr>\n",
       "    <tr>\n",
       "      <th>6</th>\n",
       "      <td>6.0</td>\n",
       "      <td>61.5</td>\n",
       "      <td>0.052174</td>\n",
       "      <td>3.0</td>\n",
       "      <td>0.156522</td>\n",
       "      <td>0.469565</td>\n",
       "      <td>1.408696</td>\n",
       "      <td>4.226087</td>\n",
       "      <td>13.356522</td>\n",
       "    </tr>\n",
       "    <tr>\n",
       "      <th>7</th>\n",
       "      <td>2.0</td>\n",
       "      <td>72.5</td>\n",
       "      <td>0.017391</td>\n",
       "      <td>4.0</td>\n",
       "      <td>0.069565</td>\n",
       "      <td>0.278261</td>\n",
       "      <td>1.113043</td>\n",
       "      <td>4.452174</td>\n",
       "      <td>10.869565</td>\n",
       "    </tr>\n",
       "    <tr>\n",
       "      <th>Σ</th>\n",
       "      <td>115.0</td>\n",
       "      <td>276.5</td>\n",
       "      <td>1.000000</td>\n",
       "      <td>7.0</td>\n",
       "      <td>0.269565</td>\n",
       "      <td>1.834783</td>\n",
       "      <td>2.982609</td>\n",
       "      <td>11.852174</td>\n",
       "      <td>36.869565</td>\n",
       "    </tr>\n",
       "  </tbody>\n",
       "</table>\n",
       "</div>"
      ],
      "text/plain": [
       "   частота попадания     xi        ni   ui     ni*ui   ni*ui^2   ni*ui^3  \\\n",
       "1                6.0    6.5  0.052174 -2.0 -0.104348  0.208696 -0.417391   \n",
       "2               28.0   17.5  0.243478 -1.0 -0.243478  0.243478 -0.243478   \n",
       "3               42.0   28.5  0.365217  0.0  0.000000  0.000000  0.000000   \n",
       "4               17.0   39.5  0.147826  1.0  0.147826  0.147826  0.147826   \n",
       "5               14.0   50.5  0.121739  2.0  0.243478  0.486957  0.973913   \n",
       "6                6.0   61.5  0.052174  3.0  0.156522  0.469565  1.408696   \n",
       "7                2.0   72.5  0.017391  4.0  0.069565  0.278261  1.113043   \n",
       "Σ              115.0  276.5  1.000000  7.0  0.269565  1.834783  2.982609   \n",
       "\n",
       "     ni*ui^4  ni*(ui+1)^4  \n",
       "1   0.834783     0.052174  \n",
       "2   0.243478     0.000000  \n",
       "3   0.000000     0.365217  \n",
       "4   0.147826     2.365217  \n",
       "5   1.947826     9.860870  \n",
       "6   4.226087    13.356522  \n",
       "7   4.452174    10.869565  \n",
       "Σ  11.852174    36.869565  "
      ]
     },
     "execution_count": 6,
     "metadata": {},
     "output_type": "execute_result"
    }
   ],
   "source": [
    "intervals1 = intervals1.rename({'середина интервала': 'xi', 'относительная частота': 'ni'}, axis=1)\n",
    "\n",
    "h1 = intervals1['xi'][1] - intervals1['xi'][0]\n",
    "C1 = intervals1.idxmax(axis=0)['ni']\n",
    "C1 = intervals1['xi'][C1]\n",
    "\n",
    "intervals1[\"ui\"] = [(i-C1)/h1 for i in intervals1['xi']]\n",
    "intervals1[\"ni*ui\"] = [intervals1['ni'][i]*intervals1['ui'][i] for i in range(len(intervals1))]\n",
    "intervals1[\"ni*ui^2\"] = [intervals1['ni'][i]*(intervals1['ui'][i]**2) for i in range(len(intervals1))]\n",
    "intervals1[\"ni*ui^3\"] = [intervals1['ni'][i]*(intervals1['ui'][i]**3) for i in range(len(intervals1))]\n",
    "intervals1[\"ni*ui^4\"] = [intervals1['ni'][i]*(intervals1['ui'][i]**4) for i in range(len(intervals1))]\n",
    "intervals1[\"ni*(ui+1)^4\"] = [intervals1['ni'][i]*((intervals1['ui'][i]+1)**4) for i in range(len(intervals1))]\n",
    "\n",
    "sums1 = []\n",
    "\n",
    "for name, values in intervals1.iloc[:,:].iteritems():\n",
    "    sums1.append(sum(intervals1[name]))\n",
    "\n",
    "intervals1.loc[len(intervals1.index)] = sums1\n",
    "\n",
    "intervals1.iloc[:, [0, 1, 2, 3, 4, 5, 6, 7, 8]].set_index(pd.Index(list('1234567Σ')))"
   ]
  },
  {
   "cell_type": "code",
   "execution_count": 7,
   "id": "6a4fc515",
   "metadata": {},
   "outputs": [
    {
     "name": "stdout",
     "output_type": "stream",
     "text": [
      "36.869565217391305\n",
      "True\n"
     ]
    }
   ],
   "source": [
    "contr_sum1 = 1 + 4*intervals1['ni*ui'][len(intervals1.index)-1] + 6*intervals1['ni*ui^2'][len(intervals1.index)-1] + \\\n",
    "            4*intervals1['ni*ui^3'][len(intervals1.index)-1] + intervals1['ni*ui^4'][len(intervals1.index)-1]\n",
    "print(contr_sum1)\n",
    "print(contr_sum1 == intervals1['ni*(ui+1)^4'][len(intervals1.index)-1])"
   ]
  },
  {
   "attachments": {
    "image.png": {
     "image/png": "[encoded data removed]"
    }
   },
   "cell_type": "markdown",
   "id": "d433eb08",
   "metadata": {},
   "source": [
    "Сумма относительных частот равна 1 (верно)\n",
    "\n",
    "Последним действием было проверено, что контрольная сумма совпадает\n",
    "\n",
    "![image.png](attachment:image.png)\n",
    "\n",
    "Следовательно, расчёты верны"
   ]
  },
  {
   "cell_type": "markdown",
   "id": "05eb1cd4",
   "metadata": {},
   "source": [
    "#### Для второго признака (Fare)"
   ]
  },
  {
   "cell_type": "markdown",
   "id": "10259f03",
   "metadata": {},
   "source": [
    "h(шаг) = 60.1708 - 22.1708 = 38\n",
    "\n",
    "C(ложный нуль) - варианта с наибольшей частотой = 22.1708"
   ]
  },
  {
   "cell_type": "code",
   "execution_count": 8,
   "id": "d5d82ea9",
   "metadata": {
    "scrolled": true
   },
   "outputs": [
    {
     "name": "stdout",
     "output_type": "stream",
     "text": [
      "38.0 22.1708\n"
     ]
    },
    {
     "data": {
      "text/html": [
       "<div>\n",
       "<style scoped>\n",
       "    .dataframe tbody tr th:only-of-type {\n",
       "        vertical-align: middle;\n",
       "    }\n",
       "\n",
       "    .dataframe tbody tr th {\n",
       "        vertical-align: top;\n",
       "    }\n",
       "\n",
       "    .dataframe thead th {\n",
       "        text-align: right;\n",
       "    }\n",
       "</style>\n",
       "<table border=\"1\" class=\"dataframe\">\n",
       "  <thead>\n",
       "    <tr style=\"text-align: right;\">\n",
       "      <th></th>\n",
       "      <th>частота попадания</th>\n",
       "      <th>xi</th>\n",
       "      <th>ni</th>\n",
       "      <th>ui</th>\n",
       "      <th>ni*ui</th>\n",
       "      <th>ni*ui^2</th>\n",
       "      <th>ni*ui^3</th>\n",
       "      <th>ni*ui^4</th>\n",
       "      <th>ni*(ui+1)^4</th>\n",
       "    </tr>\n",
       "  </thead>\n",
       "  <tbody>\n",
       "    <tr>\n",
       "      <th>1</th>\n",
       "      <td>87.0</td>\n",
       "      <td>22.1708</td>\n",
       "      <td>0.756522</td>\n",
       "      <td>0.0</td>\n",
       "      <td>0.000000</td>\n",
       "      <td>0.000000</td>\n",
       "      <td>0.000000</td>\n",
       "      <td>0.000000</td>\n",
       "      <td>0.756522</td>\n",
       "    </tr>\n",
       "    <tr>\n",
       "      <th>2</th>\n",
       "      <td>16.0</td>\n",
       "      <td>60.1708</td>\n",
       "      <td>0.139130</td>\n",
       "      <td>1.0</td>\n",
       "      <td>0.139130</td>\n",
       "      <td>0.139130</td>\n",
       "      <td>0.139130</td>\n",
       "      <td>0.139130</td>\n",
       "      <td>2.226087</td>\n",
       "    </tr>\n",
       "    <tr>\n",
       "      <th>3</th>\n",
       "      <td>1.0</td>\n",
       "      <td>98.1708</td>\n",
       "      <td>0.008696</td>\n",
       "      <td>2.0</td>\n",
       "      <td>0.017391</td>\n",
       "      <td>0.034783</td>\n",
       "      <td>0.069565</td>\n",
       "      <td>0.139130</td>\n",
       "      <td>0.704348</td>\n",
       "    </tr>\n",
       "    <tr>\n",
       "      <th>4</th>\n",
       "      <td>1.0</td>\n",
       "      <td>136.1708</td>\n",
       "      <td>0.008696</td>\n",
       "      <td>3.0</td>\n",
       "      <td>0.026087</td>\n",
       "      <td>0.078261</td>\n",
       "      <td>0.234783</td>\n",
       "      <td>0.704348</td>\n",
       "      <td>2.226087</td>\n",
       "    </tr>\n",
       "    <tr>\n",
       "      <th>5</th>\n",
       "      <td>0.0</td>\n",
       "      <td>174.1708</td>\n",
       "      <td>0.000000</td>\n",
       "      <td>4.0</td>\n",
       "      <td>0.000000</td>\n",
       "      <td>0.000000</td>\n",
       "      <td>0.000000</td>\n",
       "      <td>0.000000</td>\n",
       "      <td>0.000000</td>\n",
       "    </tr>\n",
       "    <tr>\n",
       "      <th>6</th>\n",
       "      <td>4.0</td>\n",
       "      <td>212.1708</td>\n",
       "      <td>0.034783</td>\n",
       "      <td>5.0</td>\n",
       "      <td>0.173913</td>\n",
       "      <td>0.869565</td>\n",
       "      <td>4.347826</td>\n",
       "      <td>21.739130</td>\n",
       "      <td>45.078261</td>\n",
       "    </tr>\n",
       "    <tr>\n",
       "      <th>7</th>\n",
       "      <td>6.0</td>\n",
       "      <td>250.1708</td>\n",
       "      <td>0.052174</td>\n",
       "      <td>6.0</td>\n",
       "      <td>0.313043</td>\n",
       "      <td>1.878261</td>\n",
       "      <td>11.269565</td>\n",
       "      <td>67.617391</td>\n",
       "      <td>125.269565</td>\n",
       "    </tr>\n",
       "    <tr>\n",
       "      <th>Σ</th>\n",
       "      <td>115.0</td>\n",
       "      <td>953.1956</td>\n",
       "      <td>1.000000</td>\n",
       "      <td>21.0</td>\n",
       "      <td>0.669565</td>\n",
       "      <td>3.000000</td>\n",
       "      <td>16.060870</td>\n",
       "      <td>90.339130</td>\n",
       "      <td>176.260870</td>\n",
       "    </tr>\n",
       "  </tbody>\n",
       "</table>\n",
       "</div>"
      ],
      "text/plain": [
       "   частота попадания        xi        ni    ui     ni*ui   ni*ui^2    ni*ui^3  \\\n",
       "1               87.0   22.1708  0.756522   0.0  0.000000  0.000000   0.000000   \n",
       "2               16.0   60.1708  0.139130   1.0  0.139130  0.139130   0.139130   \n",
       "3                1.0   98.1708  0.008696   2.0  0.017391  0.034783   0.069565   \n",
       "4                1.0  136.1708  0.008696   3.0  0.026087  0.078261   0.234783   \n",
       "5                0.0  174.1708  0.000000   4.0  0.000000  0.000000   0.000000   \n",
       "6                4.0  212.1708  0.034783   5.0  0.173913  0.869565   4.347826   \n",
       "7                6.0  250.1708  0.052174   6.0  0.313043  1.878261  11.269565   \n",
       "Σ              115.0  953.1956  1.000000  21.0  0.669565  3.000000  16.060870   \n",
       "\n",
       "     ni*ui^4  ni*(ui+1)^4  \n",
       "1   0.000000     0.756522  \n",
       "2   0.139130     2.226087  \n",
       "3   0.139130     0.704348  \n",
       "4   0.704348     2.226087  \n",
       "5   0.000000     0.000000  \n",
       "6  21.739130    45.078261  \n",
       "7  67.617391   125.269565  \n",
       "Σ  90.339130   176.260870  "
      ]
     },
     "execution_count": 8,
     "metadata": {},
     "output_type": "execute_result"
    }
   ],
   "source": [
    "intervals2 = intervals2.rename({'середина интервала': 'xi', 'относительная частота': 'ni'}, axis=1)\n",
    "\n",
    "h2 = intervals2['xi'][1] - intervals2['xi'][0]\n",
    "C2 = intervals2.idxmax(axis=0)['ni']\n",
    "C2 = intervals2['xi'][C2]\n",
    "print(h2, C2)\n",
    "\n",
    "intervals2[\"ui\"] = [(i-C2)/h2 for i in intervals2['xi']]\n",
    "intervals2[\"ni*ui\"] = [intervals2['ni'][i]*intervals2['ui'][i] for i in range(len(intervals2))]\n",
    "intervals2[\"ni*ui^2\"] = [intervals2['ni'][i]*(intervals2['ui'][i]**2) for i in range(len(intervals2))]\n",
    "intervals2[\"ni*ui^3\"] = [intervals2['ni'][i]*(intervals2['ui'][i]**3) for i in range(len(intervals2))]\n",
    "intervals2[\"ni*ui^4\"] = [intervals2['ni'][i]*(intervals2['ui'][i]**4) for i in range(len(intervals2))]\n",
    "intervals2[\"ni*(ui+1)^4\"] = [intervals2['ni'][i]*((intervals2['ui'][i]+1)**4) for i in range(len(intervals2))]\n",
    "\n",
    "sums2 = []\n",
    "\n",
    "for name, values in intervals2.iloc[:,:].iteritems():\n",
    "    sums2.append(sum(intervals2[name]))\n",
    "\n",
    "intervals2.loc[len(intervals2.index)] = sums2\n",
    "\n",
    "intervals2.iloc[:, [0, 1, 2, 3, 4, 5, 6, 7, 8]].set_index(pd.Index(list('1234567Σ')))"
   ]
  },
  {
   "cell_type": "code",
   "execution_count": 9,
   "id": "0a3dd217",
   "metadata": {},
   "outputs": [
    {
     "name": "stdout",
     "output_type": "stream",
     "text": [
      "176.26086956521738\n",
      "True\n"
     ]
    }
   ],
   "source": [
    "contr_sum2 = 1 + 4*intervals2['ni*ui'][len(intervals2.index)-1] + 6*intervals2['ni*ui^2'][len(intervals2.index)-1] + \\\n",
    "            4*intervals2['ni*ui^3'][len(intervals2.index)-1] + intervals2['ni*ui^4'][len(intervals2.index)-1]\n",
    "print(contr_sum2)\n",
    "print(contr_sum2 == intervals2['ni*(ui+1)^4'][len(intervals2.index)-1])"
   ]
  },
  {
   "attachments": {
    "image.png": {
     "image/png": "[encoded data removed]"
    }
   },
   "cell_type": "markdown",
   "id": "44eba2ed",
   "metadata": {},
   "source": [
    "Сумма относительных частот равна 1 (верно)\n",
    "\n",
    "Последним действием было проверено, что контрольная сумма совпадает\n",
    "\n",
    "![image.png](attachment:image.png)\n",
    "\n",
    "Следовательно, расчёты верны"
   ]
  },
  {
   "cell_type": "markdown",
   "id": "fa8e461d",
   "metadata": {},
   "source": [
    "### Вычислить условные эмпирические моменты $ν^*_i$ через условные варианты. С помощью условных эмпирических моментов вычислить центральные эмпирические моменты $μ^∗_i$."
   ]
  },
  {
   "cell_type": "markdown",
   "id": "b1db181a",
   "metadata": {},
   "source": [
    "#### Для первого признака (Age)"
   ]
  },
  {
   "cell_type": "code",
   "execution_count": 10,
   "id": "1483bb69",
   "metadata": {},
   "outputs": [
    {
     "data": {
      "text/html": [
       "<div>\n",
       "<style scoped>\n",
       "    .dataframe tbody tr th:only-of-type {\n",
       "        vertical-align: middle;\n",
       "    }\n",
       "\n",
       "    .dataframe tbody tr th {\n",
       "        vertical-align: top;\n",
       "    }\n",
       "\n",
       "    .dataframe thead th {\n",
       "        text-align: right;\n",
       "    }\n",
       "</style>\n",
       "<table border=\"1\" class=\"dataframe\">\n",
       "  <thead>\n",
       "    <tr style=\"text-align: right;\">\n",
       "      <th></th>\n",
       "      <th>частота попадания</th>\n",
       "      <th>xi</th>\n",
       "      <th>ni</th>\n",
       "      <th>ui</th>\n",
       "      <th>ni*ui</th>\n",
       "      <th>ni*ui^2</th>\n",
       "      <th>ni*ui^3</th>\n",
       "      <th>ni*ui^4</th>\n",
       "      <th>ni*(ui+1)^4</th>\n",
       "    </tr>\n",
       "  </thead>\n",
       "  <tbody>\n",
       "    <tr>\n",
       "      <th>0</th>\n",
       "      <td>6.0</td>\n",
       "      <td>6.5</td>\n",
       "      <td>0.052174</td>\n",
       "      <td>-2.0</td>\n",
       "      <td>-0.104348</td>\n",
       "      <td>0.208696</td>\n",
       "      <td>-0.417391</td>\n",
       "      <td>0.834783</td>\n",
       "      <td>0.052174</td>\n",
       "    </tr>\n",
       "    <tr>\n",
       "      <th>1</th>\n",
       "      <td>28.0</td>\n",
       "      <td>17.5</td>\n",
       "      <td>0.243478</td>\n",
       "      <td>-1.0</td>\n",
       "      <td>-0.243478</td>\n",
       "      <td>0.243478</td>\n",
       "      <td>-0.243478</td>\n",
       "      <td>0.243478</td>\n",
       "      <td>0.000000</td>\n",
       "    </tr>\n",
       "    <tr>\n",
       "      <th>2</th>\n",
       "      <td>42.0</td>\n",
       "      <td>28.5</td>\n",
       "      <td>0.365217</td>\n",
       "      <td>0.0</td>\n",
       "      <td>0.000000</td>\n",
       "      <td>0.000000</td>\n",
       "      <td>0.000000</td>\n",
       "      <td>0.000000</td>\n",
       "      <td>0.365217</td>\n",
       "    </tr>\n",
       "    <tr>\n",
       "      <th>3</th>\n",
       "      <td>17.0</td>\n",
       "      <td>39.5</td>\n",
       "      <td>0.147826</td>\n",
       "      <td>1.0</td>\n",
       "      <td>0.147826</td>\n",
       "      <td>0.147826</td>\n",
       "      <td>0.147826</td>\n",
       "      <td>0.147826</td>\n",
       "      <td>2.365217</td>\n",
       "    </tr>\n",
       "    <tr>\n",
       "      <th>4</th>\n",
       "      <td>14.0</td>\n",
       "      <td>50.5</td>\n",
       "      <td>0.121739</td>\n",
       "      <td>2.0</td>\n",
       "      <td>0.243478</td>\n",
       "      <td>0.486957</td>\n",
       "      <td>0.973913</td>\n",
       "      <td>1.947826</td>\n",
       "      <td>9.860870</td>\n",
       "    </tr>\n",
       "    <tr>\n",
       "      <th>5</th>\n",
       "      <td>6.0</td>\n",
       "      <td>61.5</td>\n",
       "      <td>0.052174</td>\n",
       "      <td>3.0</td>\n",
       "      <td>0.156522</td>\n",
       "      <td>0.469565</td>\n",
       "      <td>1.408696</td>\n",
       "      <td>4.226087</td>\n",
       "      <td>13.356522</td>\n",
       "    </tr>\n",
       "    <tr>\n",
       "      <th>6</th>\n",
       "      <td>2.0</td>\n",
       "      <td>72.5</td>\n",
       "      <td>0.017391</td>\n",
       "      <td>4.0</td>\n",
       "      <td>0.069565</td>\n",
       "      <td>0.278261</td>\n",
       "      <td>1.113043</td>\n",
       "      <td>4.452174</td>\n",
       "      <td>10.869565</td>\n",
       "    </tr>\n",
       "  </tbody>\n",
       "</table>\n",
       "</div>"
      ],
      "text/plain": [
       "   частота попадания    xi        ni   ui     ni*ui   ni*ui^2   ni*ui^3  \\\n",
       "0                6.0   6.5  0.052174 -2.0 -0.104348  0.208696 -0.417391   \n",
       "1               28.0  17.5  0.243478 -1.0 -0.243478  0.243478 -0.243478   \n",
       "2               42.0  28.5  0.365217  0.0  0.000000  0.000000  0.000000   \n",
       "3               17.0  39.5  0.147826  1.0  0.147826  0.147826  0.147826   \n",
       "4               14.0  50.5  0.121739  2.0  0.243478  0.486957  0.973913   \n",
       "5                6.0  61.5  0.052174  3.0  0.156522  0.469565  1.408696   \n",
       "6                2.0  72.5  0.017391  4.0  0.069565  0.278261  1.113043   \n",
       "\n",
       "    ni*ui^4  ni*(ui+1)^4  \n",
       "0  0.834783     0.052174  \n",
       "1  0.243478     0.000000  \n",
       "2  0.000000     0.365217  \n",
       "3  0.147826     2.365217  \n",
       "4  1.947826     9.860870  \n",
       "5  4.226087    13.356522  \n",
       "6  4.452174    10.869565  "
      ]
     },
     "execution_count": 10,
     "metadata": {},
     "output_type": "execute_result"
    }
   ],
   "source": [
    "table1 = intervals1.drop(len(intervals1.index)-1, axis=0)\n",
    "table1"
   ]
  },
  {
   "cell_type": "code",
   "execution_count": 11,
   "id": "c906b857",
   "metadata": {},
   "outputs": [
    {
     "name": "stdout",
     "output_type": "stream",
     "text": [
      "Условные эмперические моменты:\n",
      "M1 =  0.26956521739130435\n",
      "M2 =  1.834782608695652\n",
      "M3 =  2.982608695652174\n",
      "M4 =  11.852173913043478\n",
      "Центральные эмперические моменты:\n",
      "m1 =  -2.1094237467877974e-15\n",
      "m2 =  213.21618147448012\n",
      "m3 =  2047.0834697131586\n",
      "m4 =  137921.94214075562\n"
     ]
    }
   ],
   "source": [
    "M1 = sum(table1[\"ni*ui\"])\n",
    "M2 = sum(table1[\"ni*ui^2\"])\n",
    "M3 = sum(table1[\"ni*ui^3\"])\n",
    "M4 = sum(table1[\"ni*ui^4\"])\n",
    "print('Условные эмперические моменты:')\n",
    "print('M1 = ', M1)\n",
    "print('M2 = ', M2)\n",
    "print('M3 = ', M3)\n",
    "print('M4 = ', M4)\n",
    "\n",
    "XB1 = M1*h1 + C1\n",
    "#print(XB1)\n",
    "\n",
    "m1_test = 0\n",
    "m2_test = 0\n",
    "m3_test = 0\n",
    "m4_test = 0\n",
    "\n",
    "m2 = (M2 - M1**2)*h1**2\n",
    "m3 = (M3 - 3*M2*M1 + 2*M1**3)*h1**3\n",
    "m4 = (M4 - 4*M3*M1 + 6*M2*M1**2 - 3*M1**4)*h1**4\n",
    "\n",
    "for i in range(0,7):\n",
    "    m1_test += (table1[\"xi\"][i]-XB1)*table1[\"ni\"][i]\n",
    "    m2_test += (table1[\"xi\"][i]-XB1)**2*table1[\"ni\"][i]\n",
    "    m3_test += (table1[\"xi\"][i]-XB1)**3*table1[\"ni\"][i]\n",
    "    m4_test += (table1[\"xi\"][i]-XB1)**4*table1[\"ni\"][i]\n",
    "\n",
    "#print((M2-M1**2)*h1**2)\n",
    "print('Центральные эмперические моменты:')\n",
    "print('m1 = ', m1_test)\n",
    "print('m2 = ', m2)\n",
    "print('m3 = ', m3)\n",
    "print('m4 = ', m4)"
   ]
  },
  {
   "cell_type": "markdown",
   "id": "0456f153",
   "metadata": {},
   "source": [
    "Проверим, что центральные эмпирические моменты, вычисленные через условные эмпирические моменты, совпадают с моментами, центральными моментами, вычисленными по обычной формуле"
   ]
  },
  {
   "cell_type": "code",
   "execution_count": 12,
   "id": "5919fc87",
   "metadata": {},
   "outputs": [
    {
     "name": "stdout",
     "output_type": "stream",
     "text": [
      "m1 =  -2.1094237467877974e-15\n",
      "m2 =  213.21618147448015\n",
      "m3 =  2047.0834697131572\n",
      "m4 =  137921.94214075562\n"
     ]
    }
   ],
   "source": [
    "print('m1 = ', m1_test)\n",
    "print('m2 = ', m2_test)\n",
    "print('m3 = ', m3_test)\n",
    "print('m4 = ', m4_test)"
   ]
  },
  {
   "cell_type": "markdown",
   "id": "b7ddf6fd",
   "metadata": {},
   "source": [
    "Первый момент равен 0 (программа выводит не 0 из-за погрешности округления), остальные моменты совпадают (различия, которые возникают, тоже связаны с погрешностью округления) "
   ]
  },
  {
   "cell_type": "markdown",
   "id": "de40ebc6",
   "metadata": {},
   "source": [
    "#### Для второго признака (Fare)"
   ]
  },
  {
   "cell_type": "code",
   "execution_count": 13,
   "id": "fcad9a97",
   "metadata": {},
   "outputs": [
    {
     "data": {
      "text/html": [
       "<div>\n",
       "<style scoped>\n",
       "    .dataframe tbody tr th:only-of-type {\n",
       "        vertical-align: middle;\n",
       "    }\n",
       "\n",
       "    .dataframe tbody tr th {\n",
       "        vertical-align: top;\n",
       "    }\n",
       "\n",
       "    .dataframe thead th {\n",
       "        text-align: right;\n",
       "    }\n",
       "</style>\n",
       "<table border=\"1\" class=\"dataframe\">\n",
       "  <thead>\n",
       "    <tr style=\"text-align: right;\">\n",
       "      <th></th>\n",
       "      <th>частота попадания</th>\n",
       "      <th>xi</th>\n",
       "      <th>ni</th>\n",
       "      <th>ui</th>\n",
       "      <th>ni*ui</th>\n",
       "      <th>ni*ui^2</th>\n",
       "      <th>ni*ui^3</th>\n",
       "      <th>ni*ui^4</th>\n",
       "      <th>ni*(ui+1)^4</th>\n",
       "    </tr>\n",
       "  </thead>\n",
       "  <tbody>\n",
       "    <tr>\n",
       "      <th>0</th>\n",
       "      <td>87.0</td>\n",
       "      <td>22.1708</td>\n",
       "      <td>0.756522</td>\n",
       "      <td>0.0</td>\n",
       "      <td>0.000000</td>\n",
       "      <td>0.000000</td>\n",
       "      <td>0.000000</td>\n",
       "      <td>0.000000</td>\n",
       "      <td>0.756522</td>\n",
       "    </tr>\n",
       "    <tr>\n",
       "      <th>1</th>\n",
       "      <td>16.0</td>\n",
       "      <td>60.1708</td>\n",
       "      <td>0.139130</td>\n",
       "      <td>1.0</td>\n",
       "      <td>0.139130</td>\n",
       "      <td>0.139130</td>\n",
       "      <td>0.139130</td>\n",
       "      <td>0.139130</td>\n",
       "      <td>2.226087</td>\n",
       "    </tr>\n",
       "    <tr>\n",
       "      <th>2</th>\n",
       "      <td>1.0</td>\n",
       "      <td>98.1708</td>\n",
       "      <td>0.008696</td>\n",
       "      <td>2.0</td>\n",
       "      <td>0.017391</td>\n",
       "      <td>0.034783</td>\n",
       "      <td>0.069565</td>\n",
       "      <td>0.139130</td>\n",
       "      <td>0.704348</td>\n",
       "    </tr>\n",
       "    <tr>\n",
       "      <th>3</th>\n",
       "      <td>1.0</td>\n",
       "      <td>136.1708</td>\n",
       "      <td>0.008696</td>\n",
       "      <td>3.0</td>\n",
       "      <td>0.026087</td>\n",
       "      <td>0.078261</td>\n",
       "      <td>0.234783</td>\n",
       "      <td>0.704348</td>\n",
       "      <td>2.226087</td>\n",
       "    </tr>\n",
       "    <tr>\n",
       "      <th>4</th>\n",
       "      <td>0.0</td>\n",
       "      <td>174.1708</td>\n",
       "      <td>0.000000</td>\n",
       "      <td>4.0</td>\n",
       "      <td>0.000000</td>\n",
       "      <td>0.000000</td>\n",
       "      <td>0.000000</td>\n",
       "      <td>0.000000</td>\n",
       "      <td>0.000000</td>\n",
       "    </tr>\n",
       "    <tr>\n",
       "      <th>5</th>\n",
       "      <td>4.0</td>\n",
       "      <td>212.1708</td>\n",
       "      <td>0.034783</td>\n",
       "      <td>5.0</td>\n",
       "      <td>0.173913</td>\n",
       "      <td>0.869565</td>\n",
       "      <td>4.347826</td>\n",
       "      <td>21.739130</td>\n",
       "      <td>45.078261</td>\n",
       "    </tr>\n",
       "    <tr>\n",
       "      <th>6</th>\n",
       "      <td>6.0</td>\n",
       "      <td>250.1708</td>\n",
       "      <td>0.052174</td>\n",
       "      <td>6.0</td>\n",
       "      <td>0.313043</td>\n",
       "      <td>1.878261</td>\n",
       "      <td>11.269565</td>\n",
       "      <td>67.617391</td>\n",
       "      <td>125.269565</td>\n",
       "    </tr>\n",
       "  </tbody>\n",
       "</table>\n",
       "</div>"
      ],
      "text/plain": [
       "   частота попадания        xi        ni   ui     ni*ui   ni*ui^2    ni*ui^3  \\\n",
       "0               87.0   22.1708  0.756522  0.0  0.000000  0.000000   0.000000   \n",
       "1               16.0   60.1708  0.139130  1.0  0.139130  0.139130   0.139130   \n",
       "2                1.0   98.1708  0.008696  2.0  0.017391  0.034783   0.069565   \n",
       "3                1.0  136.1708  0.008696  3.0  0.026087  0.078261   0.234783   \n",
       "4                0.0  174.1708  0.000000  4.0  0.000000  0.000000   0.000000   \n",
       "5                4.0  212.1708  0.034783  5.0  0.173913  0.869565   4.347826   \n",
       "6                6.0  250.1708  0.052174  6.0  0.313043  1.878261  11.269565   \n",
       "\n",
       "     ni*ui^4  ni*(ui+1)^4  \n",
       "0   0.000000     0.756522  \n",
       "1   0.139130     2.226087  \n",
       "2   0.139130     0.704348  \n",
       "3   0.704348     2.226087  \n",
       "4   0.000000     0.000000  \n",
       "5  21.739130    45.078261  \n",
       "6  67.617391   125.269565  "
      ]
     },
     "execution_count": 13,
     "metadata": {},
     "output_type": "execute_result"
    }
   ],
   "source": [
    "table2 = intervals2.drop(len(intervals2.index)-1, axis=0)\n",
    "table2"
   ]
  },
  {
   "cell_type": "code",
   "execution_count": 14,
   "id": "0409e623",
   "metadata": {
    "scrolled": true
   },
   "outputs": [
    {
     "name": "stdout",
     "output_type": "stream",
     "text": [
      "Условные эмперические моменты:\n",
      "M1 =  0.6695652173913044\n",
      "M2 =  3.0\n",
      "M3 =  16.060869565217388\n",
      "M4 =  90.3391304347826\n",
      "Центральные эмперические моменты:\n",
      "m1 =  -5.329070518200751e-15\n",
      "m2 =  3684.629413988658\n",
      "m3 =  583571.3101681595\n",
      "m4 =  114246024.40909444\n"
     ]
    }
   ],
   "source": [
    "M21 = sum(table2[\"ni*ui\"])\n",
    "M22 = sum(table2[\"ni*ui^2\"])\n",
    "M23 = sum(table2[\"ni*ui^3\"])\n",
    "M24 = sum(table2[\"ni*ui^4\"])\n",
    "print('Условные эмперические моменты:')\n",
    "print('M1 = ', M21)\n",
    "print('M2 = ', M22)\n",
    "print('M3 = ', M23)\n",
    "print('M4 = ', M24)\n",
    "\n",
    "XB2 = M21*h2 + C2\n",
    "#print(XB1)\n",
    "\n",
    "m21_test = 0\n",
    "m22_test = 0\n",
    "m23_test = 0\n",
    "m24_test = 0\n",
    "\n",
    "m22 = (M22 - M21**2)*h2**2\n",
    "m23 = (M23 - 3*M22*M21 + 2*M21**3)*h2**3\n",
    "m24 = (M24 - 4*M23*M21 + 6*M22*M21**2 - 3*M21**4)*h2**4\n",
    "\n",
    "for i in range(0,7):\n",
    "    m21_test += (table2[\"xi\"][i]-XB2)*table2[\"ni\"][i]\n",
    "    m22_test += (table2[\"xi\"][i]-XB2)**2*table2[\"ni\"][i]\n",
    "    m23_test += (table2[\"xi\"][i]-XB2)**3*table2[\"ni\"][i]\n",
    "    m24_test += (table2[\"xi\"][i]-XB2)**4*table2[\"ni\"][i]\n",
    "\n",
    "#print((M2-M1**2)*h1**2)\n",
    "print('Центральные эмперические моменты:')\n",
    "print('m1 = ', m21_test)\n",
    "print('m2 = ', m22)\n",
    "print('m3 = ', m23)\n",
    "print('m4 = ', m24)"
   ]
  },
  {
   "cell_type": "markdown",
   "id": "214fa557",
   "metadata": {},
   "source": [
    "Проверим, что центральные эмпирические моменты, вычисленные через условные эмпирические моменты, совпадают с моментами, центральными моментами, вычисленными по обычной формуле"
   ]
  },
  {
   "cell_type": "code",
   "execution_count": 15,
   "id": "e65c76bd",
   "metadata": {},
   "outputs": [
    {
     "name": "stdout",
     "output_type": "stream",
     "text": [
      "m1 =  -5.329070518200751e-15\n",
      "m2 =  3684.6294139886572\n",
      "m3 =  583571.3101681597\n",
      "m4 =  114246024.40909438\n"
     ]
    }
   ],
   "source": [
    "print('m1 = ', m21_test)\n",
    "print('m2 = ', m22_test)\n",
    "print('m3 = ', m23_test)\n",
    "print('m4 = ', m24_test)"
   ]
  },
  {
   "cell_type": "markdown",
   "id": "c7a2466d",
   "metadata": {},
   "source": [
    "### Вычислить выборочные среднее и дисперсию с помощью стандартной формулы и с помощью условных вариант."
   ]
  },
  {
   "cell_type": "markdown",
   "id": "ad800bca",
   "metadata": {},
   "source": [
    "#### Для первого признака (Age)"
   ]
  },
  {
   "cell_type": "code",
   "execution_count": 16,
   "id": "de94d8e9",
   "metadata": {},
   "outputs": [
    {
     "name": "stdout",
     "output_type": "stream",
     "text": [
      "Выборочное среднее по стандартной формуле:  31.465217391304346\n",
      "Выборочное среднее через условные варианты:  31.46521739130435\n"
     ]
    }
   ],
   "source": [
    "XB1_standart = sum(table1['xi']*table1['ni'])\n",
    "print('Выборочное среднее по стандартной формуле: ', XB1_standart)\n",
    "print('Выборочное среднее через условные варианты: ', XB1)"
   ]
  },
  {
   "cell_type": "code",
   "execution_count": 17,
   "id": "b1f213ae",
   "metadata": {},
   "outputs": [
    {
     "name": "stdout",
     "output_type": "stream",
     "text": [
      "Дисперсия по стандартной формуле:  213.21618147448015\n",
      "Дисперсия через условные варианты:  213.21618147448012\n"
     ]
    }
   ],
   "source": [
    "D1_standart = sum((table1['xi'] - XB1_standart)**2*table1['ni'])\n",
    "print('Дисперсия по стандартной формуле: ', D1_standart)\n",
    "print('Дисперсия через условные варианты: ', m2)"
   ]
  },
  {
   "cell_type": "markdown",
   "id": "3a15cb26",
   "metadata": {},
   "source": [
    "#### Для второго признака (Fare)"
   ]
  },
  {
   "cell_type": "code",
   "execution_count": 18,
   "id": "11748e7a",
   "metadata": {},
   "outputs": [
    {
     "name": "stdout",
     "output_type": "stream",
     "text": [
      "Выборочное среднее по стандартной формуле:  47.61427826086956\n",
      "Выборочное среднее через условные варианты:  47.61427826086957\n"
     ]
    }
   ],
   "source": [
    "XB2_standart = sum(table2['xi']*table2['ni'])\n",
    "print('Выборочное среднее по стандартной формуле: ', XB2_standart)\n",
    "print('Выборочное среднее через условные варианты: ', XB2)"
   ]
  },
  {
   "cell_type": "code",
   "execution_count": 19,
   "id": "f7ac3257",
   "metadata": {},
   "outputs": [
    {
     "name": "stdout",
     "output_type": "stream",
     "text": [
      "Дисперсия по стандартной формуле:  3684.629413988658\n",
      "Дисперсия через условные варианты:  3684.629413988658\n"
     ]
    }
   ],
   "source": [
    "D2_standart = sum((table2['xi'] - XB2_standart)**2*table2['ni'])\n",
    "print('Дисперсия по стандартной формуле: ', D2_standart)\n",
    "print('Дисперсия через условные варианты: ', m22)"
   ]
  },
  {
   "cell_type": "markdown",
   "id": "1faa233c",
   "metadata": {},
   "source": [
    "Во всех случаях величины, вычисленные по стандартной формуле равны тем, что были вычислены через условные варианты"
   ]
  },
  {
   "cell_type": "markdown",
   "id": "554f3d86",
   "metadata": {},
   "source": [
    "### Вычислить исправленную выборочную дисперсию и исправленное СКО. Сравнить данные оценки с смещёнными оценками дисперсии."
   ]
  },
  {
   "cell_type": "markdown",
   "id": "ed77a5fb",
   "metadata": {},
   "source": [
    "#### Для первого признака (Age)"
   ]
  },
  {
   "cell_type": "code",
   "execution_count": 20,
   "id": "5bb36731",
   "metadata": {},
   "outputs": [
    {
     "name": "stdout",
     "output_type": "stream",
     "text": [
      "Исправленная выборочная дисперсия:  227.03574879227054\n",
      "Неисправленная выборочная дисперсия:  213.21618147448015\n"
     ]
    }
   ],
   "source": [
    "s_sqr = sum(table1['частота попадания'])/(sum(table1['частота попадания']-1))*D1_standart\n",
    "print('Исправленная выборочная дисперсия: ',s_sqr)\n",
    "print('Неисправленная выборочная дисперсия: ', D1_standart)"
   ]
  },
  {
   "cell_type": "code",
   "execution_count": 21,
   "id": "b7ada2f6",
   "metadata": {},
   "outputs": [
    {
     "name": "stdout",
     "output_type": "stream",
     "text": [
      "Исправленное СКО:  15.067705491954325\n",
      "Неисправленное СКО:  14.601923896339144\n"
     ]
    }
   ],
   "source": [
    "print('Исправленное СКО: ',s_sqr**(1/2))\n",
    "print('Неисправленное СКО: ', D1_standart**(1/2))"
   ]
  },
  {
   "cell_type": "markdown",
   "id": "68b462fd",
   "metadata": {},
   "source": [
    "#### Для второго признака (Fare)"
   ]
  },
  {
   "cell_type": "code",
   "execution_count": 22,
   "id": "8c1ab835",
   "metadata": {},
   "outputs": [
    {
     "name": "stdout",
     "output_type": "stream",
     "text": [
      "Исправленная выборочная дисперсия:  3923.447987117553\n",
      "Неисправленная выборочная дисперсия:  3684.629413988658\n"
     ]
    }
   ],
   "source": [
    "s_sqr2 = sum(table2['частота попадания'])/(sum(table2['частота попадания']-1))*D2_standart\n",
    "print('Исправленная выборочная дисперсия: ',s_sqr2)\n",
    "print('Неисправленная выборочная дисперсия: ', D2_standart)"
   ]
  },
  {
   "cell_type": "code",
   "execution_count": 23,
   "id": "22c6667f",
   "metadata": {},
   "outputs": [
    {
     "name": "stdout",
     "output_type": "stream",
     "text": [
      "Исправленное СКО:  62.63743279475583\n",
      "Неисправленное СКО:  60.70114837454608\n"
     ]
    }
   ],
   "source": [
    "print('Исправленное СКО: ',s_sqr2**(1/2))\n",
    "print('Неисправленное СКО: ', D2_standart**(1/2))"
   ]
  },
  {
   "cell_type": "markdown",
   "id": "28380b39",
   "metadata": {},
   "source": [
    "Исправленная выборочная дисперсия для обоих признаков больше; исправленное СКО, соответственно, тоже"
   ]
  },
  {
   "cell_type": "markdown",
   "id": "8f97fc9f",
   "metadata": {},
   "source": [
    "### Найти статистическую оценку коэффициентов асимметрии и эксцесса."
   ]
  },
  {
   "cell_type": "markdown",
   "id": "9279ff1d",
   "metadata": {},
   "source": [
    "#### Для первого признака (Age)"
   ]
  },
  {
   "cell_type": "code",
   "execution_count": 24,
   "id": "fd85e9ac",
   "metadata": {},
   "outputs": [
    {
     "name": "stdout",
     "output_type": "stream",
     "text": [
      "Статистическая оценка асимметрии:  0.5984035788228855\n",
      "Статистическая оценка эксцесса:  -0.3242540803391649\n"
     ]
    }
   ],
   "source": [
    "As1 = m3/((s_sqr**(1/2))**3)\n",
    "E1 = m4/((s_sqr**(1/2))**4) - 3\n",
    "print('Статистическая оценка асимметрии: ',As1)\n",
    "print('Статистическая оценка эксцесса: ',E1)"
   ]
  },
  {
   "cell_type": "markdown",
   "id": "69bfdbf4",
   "metadata": {},
   "source": [
    "#### Для второго признака (Fare)"
   ]
  },
  {
   "cell_type": "code",
   "execution_count": 25,
   "id": "128c9228",
   "metadata": {},
   "outputs": [
    {
     "name": "stdout",
     "output_type": "stream",
     "text": [
      "Статистическая оценка асимметрии:  2.374608857254942\n",
      "Статистическая оценка эксцесса:  4.421732499263419\n"
     ]
    }
   ],
   "source": [
    "As2 = m23/((s_sqr2**(1/2))**3)\n",
    "E2 = m24/((s_sqr2**(1/2))**4) - 3\n",
    "print('Статистическая оценка асимметрии: ',As2)\n",
    "print('Статистическая оценка эксцесса: ',E2)"
   ]
  },
  {
   "cell_type": "markdown",
   "id": "74c36737",
   "metadata": {},
   "source": [
    "Исходя из оценок асимметрии и эксцесса можно сказать, что распределение первого признака больше приближенно к нормальному, чем распределение второго признака\n",
    "\n",
    "Для первого признака график немного смещён влево (асимметрия > 0) и менее острый (эксцесс < 0) "
   ]
  },
  {
   "cell_type": "markdown",
   "id": "2f0bcf3a",
   "metadata": {},
   "source": [
    "### Для интервального ряда вычислить моду $M^∗_o$, медиану $M^∗_e$ и коэффициент вариации $V^∗$ заданного распределения."
   ]
  },
  {
   "cell_type": "markdown",
   "id": "bc70baca",
   "metadata": {},
   "source": [
    "#### Для первого признака (Age)"
   ]
  },
  {
   "cell_type": "code",
   "execution_count": 26,
   "id": "11e5f679",
   "metadata": {},
   "outputs": [
    {
     "name": "stdout",
     "output_type": "stream",
     "text": [
      "Мода:  26.94871794871795\n",
      "Медиана:  29.154761904761905\n",
      "Коэффициент вариации:  46.40655653113173\n"
     ]
    }
   ],
   "source": [
    "most_freq1 = table1.idxmax(axis=0)['ni']\n",
    "Mo1 = age_intervals[most_freq1].left + h1 * (table1['ni'][most_freq1] - table1['ni'][most_freq1-1])\\\n",
    "    /((table1['ni'][most_freq1] - table1['ni'][most_freq1-1]) + (table1['ni'][most_freq1] - table1['ni'][most_freq1+1]))\n",
    "print('Мода: ', Mo1)\n",
    "Me1 = age_intervals[most_freq1].left + h1/table1['ni'][most_freq1]*(0.5 - sum(table1['ni'][:most_freq1]))\n",
    "print('Медиана: ', Me1)\n",
    "V1 = D1_standart**(1/2)/XB1 * 100\n",
    "print('Коэффициент вариации: ', V1)"
   ]
  },
  {
   "cell_type": "markdown",
   "id": "68057571",
   "metadata": {},
   "source": [
    "#### Для второго признака (Fare)"
   ]
  },
  {
   "cell_type": "code",
   "execution_count": 27,
   "id": "6f9da176",
   "metadata": {},
   "outputs": [
    {
     "name": "stdout",
     "output_type": "stream",
     "text": [
      "Мода:  24.094850632911392\n",
      "Медиана:  28.285742528735632\n",
      "Коэффициент вариации:  127.48518005875474\n"
     ]
    }
   ],
   "source": [
    "most_freq2 = table2.idxmax(axis=0)['ni']\n",
    "\n",
    "Mo2 = fare_intervals[most_freq2][0] + h2 * (table2['ni'][most_freq2] - 0)\\\n",
    "    /((table2['ni'][most_freq2] - 0) + (table2['ni'][most_freq2] - table2['ni'][most_freq2+1])) #т.к. у нас первый интервал,\n",
    "print('Мода: ', Mo2)                                                                            #0 поставлен там, где берётся\n",
    "Me2 = fare_intervals[most_freq2][0] + h2/table2['ni'][most_freq2]*(0.5 - sum(table2['ni'][:most_freq2])) #предыдущий\n",
    "print('Медиана: ', Me2)\n",
    "V2 = D2_standart**(1/2)/XB2 * 100\n",
    "print('Коэффициент вариации: ', V2)"
   ]
  },
  {
   "cell_type": "markdown",
   "id": "8a03cdb8",
   "metadata": {},
   "source": [
    "У второго признака разброс относительно выборочного среднего намного больше, чем для первого признака"
   ]
  },
  {
   "cell_type": "markdown",
   "id": "8c675d96",
   "metadata": {},
   "source": [
    "## Выводы"
   ]
  },
  {
   "cell_type": "markdown",
   "id": "ccf71b6f",
   "metadata": {},
   "source": [
    "В ходе выполнения работы были обработаны данные, полученные из практической работы №1.\n",
    "\n",
    "Для каждого из признаков (age и fare) были вычислены точечные статистические оценки математического ожидания, дисперсии, среднеквадратичного отклонения, асимметрии, эксцесса, моды, медианы и коэффициента вариации с помощью метода моментов и условных вариант. \n",
    "\n",
    "По асимметрии и эксцессу было выявлено, что оба признака приближены к нормальному распределению."
   ]
  }
 ],
 "metadata": {
  "kernelspec": {
   "display_name": "Python 3 (ipykernel)",
   "language": "python",
   "name": "python3"
  },
  "language_info": {
   "codemirror_mode": {
    "name": "ipython",
    "version": 3
   },
   "file_extension": ".py",
   "mimetype": "text/x-python",
   "name": "python",
   "nbconvert_exporter": "python",
   "pygments_lexer": "ipython3",
   "version": "3.10.6"
  }
 },
 "nbformat": 4,
 "nbformat_minor": 5
}
