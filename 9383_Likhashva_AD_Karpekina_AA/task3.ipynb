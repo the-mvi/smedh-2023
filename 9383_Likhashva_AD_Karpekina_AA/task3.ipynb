{
  "cells": [
    {
      "cell_type": "markdown",
      "metadata": {
        "id": "9jqqhrbNpK-Q"
      },
      "source": [
        "# Практическая работа №3: Обработка выборочных данных. Нахождение интервальных оценок параметров распределения. Проверка статистической гипотезы о нормальном распределении\n",
        "\n",
        "Выполнили студентки гр. 9383 Лихашва Анастасия и Карпекина Анна. Вариант №5"
      ]
    },
    {
      "cell_type": "markdown",
      "metadata": {
        "id": "nrewvWqjpK-a"
      },
      "source": [
        "## Цель работы\n",
        "\n",
        "Получение практических навыков вычисления интервальных статистических оценок параметров распределения выборочных данных и проверки «справедливости» статистических гипотез."
      ]
    },
    {
      "cell_type": "markdown",
      "metadata": {
        "id": "hcooEX17pK-b"
      },
      "source": [
        "## Основные теоретические положения\n",
        "\n",
        "**Интервальной** называется статистическая оценка, которая задаётся двумя числами - концами интервала (в котором может находится значение параметра $\\Theta$ ).  \n",
        "**Точностью $\\Theta^*$** - статистической оценки параметра $\\Theta$ называется значение $\\delta$, удовлетворяющее неравенству: $\\delta>\\left|\\Theta^*-\\Theta\\right|$. Чем меньше значение $\\delta$, тем точнее оченка $\\Theta^*$  \n",
        "**Надежностью (доверительной точностью) оценки $\\Theta^*$** называется вероятность $\\gamma$, скоторой выполняется неравенство: $\\gamma=P\\left\\{\\delta>\\left|\\Theta-\\Theta^*\\right|\\right\\}$ или $\\gamma=P\\left\\{\\Theta^*-\\delta<\\Theta<\\Theta^*+\\delta\\right\\}$  \n",
        "**Доверительный интервал** $\\left(\\Theta^*-\\delta<\\Theta<\\Theta^*+\\delta\\right)$ с вероятностью $\\gamma$ содержит в себе истинное значение оцениваемого параметра $\\Theta$.  \n",
        "**Доверительный интервал для оценки математического ожидания при неизвестном СКО.** Требуемый доверительный интервал, покрывающий значение параметра а с надежностью $\\gamma\\left(x_d-t_\\gamma \\frac{S}{\\sqrt{N}}, x_a+t_\\gamma \\frac{S}{\\sqrt{N}}\\right)$, где значение $t_\\gamma$ может 6 ыть определено по заданным значениям $\\gamma$ и $N$ по соответствующей таблице.  \n",
        "**Доверительный интервал для оценки среднеквадратического отклонения (СКО)**. Требуемый доверительный интервал, покрывающий значение параметра $\\sigma$ с надежностью $\\gamma$ : $(S(1-q), S(1+q))$, где значение $q$ может быть определено по заданным значениям $\\gamma$ и $N$ по соответствующей таблице.  \n",
        "**Статистической гипотезой** называют гипотезу о виде неизвестного распределения исследуемой случайной величины или о значении параметров известных распределений.  \n",
        "Выдвинутую гипотезу называют **нулевой или основной гипотезой** и обозначают $H_0$.\n",
        "**Конкурирующей или альтернативной** называют гипотезу $H_1$, которая противоречит основной гипотезе.  \n",
        "**Ошибка первого рода** состоит в том, что нулевая гипотеза отвергается, хотя она верна, $\\alpha$ - вероятность ошибки первого рода.  \n",
        "**Ошибка второго рода** состоит в том, что нулевая гипотеза принимается, хотя она неверна, $\\beta$ - вероятность ошибки второго рода.  \n",
        "Величину 1 - $\\beta$ - вероятность того, что гипотеза отвергается когла она неверна, называют **мощностью критерия**.  \n",
        "Для проверки статистических гипотез предлагаются различные критерии, которые представляют собой значения случайных величин, имеющих те или иные известные законы распределения.  \n",
        "\n",
        "При проверке статистических гипотез на основе выборочных данных вычисляются значения этих случайных величин (наблюденные значения), которые сопоставляются с некоторыми, так называемыми, **критическими** (зависящими от заданного уровня значимости $\\alpha$ ) значениями этих случайных величин. На основании этого сопоставления принимается решение о принятии или не принятии нулевой гипотезы.  \n",
        "Область принятия гипотезы и критическая область разделены точками, которые называются **критическими значениями критерия $K_{\\text {кр }}$**  \n",
        "Для каждого критерия существуют таблицы критических значений и правила, по которым их можно рассчитать. Область непринятия гипотезы может быть односторонней (правосторонней или левосторонней) и двустороней.  \n",
        "**Правосторонней** называют критическую область, определяемую неравенством $K_{\\text {набл }}>K_{\\mathrm{кр}}$.  \n",
        "**Левосторонней** называют критическую область, определяемую неравенством $K_{\\text {набл }}<K_{кр}$.  \n",
        "**Двусторонней** называюот критическую область, определяемую неравенствами $K_{\\text {набл }}<K_{\\text {кр1 }}$ и $K_{\\text {набл }}>K_{кр2}$.  \n",
        "\n",
        "**Проверка статистической гипотезы о законе распределения**  \n",
        "В качестве критерия проверки гипотезы будем использовать так называемый **критерий $\\chi^2$ или критерий Пирсона**. Это правосторонний критерий. Согласно этому критерию на основании выборочных данных вычисляется \"наблюденное значение случайной величиныі $\\chi^2: \\chi_{\\text {набл }}^2=\\sum_{i=1}^K \\frac{\\left(n_t-n^{\\prime}\\right)^2}{n^{\\prime}}$, здесь $n_i^{\\prime}$ теоретические частоты - частоты, с которыми нормальо распределенная величина с параметрами $\\bar{x}_z$ и $S$ попадала бы в $i$-й интервал интервального ряда при проведении $N$ испытаний.  \n",
        "Для вычисления значения $\\chi_{\\text {набл }}^2$ необходимо вычислить значения теоретических частот $n_i^{\\prime}$:  \n",
        "Пересчитываются границы интервалов интервального ряда. При этом левая граница первого интервала $z_1=-\\infty$, а правая граница последнего интервала $z_{K+1}=+\\infty$. Остальные значения вычисляются по формуле: $z_i=\\frac{x_i-x_2}{S}, i=2,3, \\ldots, K$.   \n",
        "Вычисляются вероятности попадания случайной величины в каждый интервал интервального ряда $p_i=\\Phi\\left(z_{i+1}\\right)-\\Phi\\left(z_i\\right), i=1,2,3, \\ldots, K$. Нужно учитывать нечетность функции Лапласа и то, что $\\Phi(-\\infty)=-0.5, \\Phi(+\\infty)=0.5$.  \n",
        "Вычисляются значения теоретических частот:   $n_i^{\\prime}=N \\cdot p_i, i=1,2,3, \\ldots, K$."
      ]
    },
    {
      "cell_type": "markdown",
      "metadata": {
        "id": "LCdj5sNvpK-d"
      },
      "source": [
        "## Постановка задачи\n",
        "\n",
        "Для заданной надежности определить (на основании выборочных данных и результатов выполнения практической работы №2) границы доверительных интервалов для математического ожидания и среднеквадратичного отклонения случайной величины. Проверить гипотезу о нормальном распределении исследуемой случайной величины с помощью критерия Пирсона $\\chi^2$. Дать содержательную интерпретацию полученным результатам.\n",
        "\n"
      ]
    },
    {
      "cell_type": "markdown",
      "metadata": {
        "id": "LK_6W9lTpK-e"
      },
      "source": [
        "## Выполнение работы"
      ]
    },
    {
      "cell_type": "code",
      "execution_count": null,
      "metadata": {
        "id": "1gHhSORqpK-f",
        "colab": {
          "base_uri": "https://localhost:8080/",
          "height": 17
        },
        "outputId": "be193d05-ccc4-4746-9541-5ee77bcca0eb"
      },
      "outputs": [
        {
          "output_type": "display_data",
          "data": {
            "text/plain": [
              "<IPython.core.display.Javascript object>"
            ],
            "application/javascript": [
              "google.colab.output.setIframeHeight(0, true, {maxHeight: 300})"
            ]
          },
          "metadata": {}
        }
      ],
      "source": [
        "from IPython.display import Javascript\n",
        "def resize_colab_cell():\n",
        "  display(Javascript('google.colab.output.setIframeHeight(0, true, {maxHeight: 300})'))\n",
        "get_ipython().events.register('pre_run_cell', resize_colab_cell)"
      ]
    },
    {
      "cell_type": "code",
      "source": [
        "import pandas as pd\n",
        "import numpy as np\n",
        "from google.colab import files\n",
        "\n",
        "files.upload()\n",
        "df = pd.read_csv('student_clustering.csv')\n",
        "df_iq = df.drop('cgpa', axis=1)"
      ],
      "metadata": {
        "colab": {
          "base_uri": "https://localhost:8080/",
          "height": 73
        },
        "id": "z9rpyfkeuV32",
        "outputId": "6f10f5de-2191-414a-f4a2-0d3bd8b7bf62"
      },
      "execution_count": null,
      "outputs": [
        {
          "output_type": "display_data",
          "data": {
            "text/plain": [
              "<IPython.core.display.Javascript object>"
            ],
            "application/javascript": [
              "google.colab.output.setIframeHeight(0, true, {maxHeight: 300})"
            ]
          },
          "metadata": {}
        },
        {
          "output_type": "display_data",
          "data": {
            "text/plain": [
              "<IPython.core.display.Javascript object>"
            ],
            "application/javascript": [
              "google.colab.output.setIframeHeight(0, true, {maxHeight: 300})"
            ]
          },
          "metadata": {}
        },
        {
          "output_type": "display_data",
          "data": {
            "text/plain": [
              "<IPython.core.display.HTML object>"
            ],
            "text/html": [
              "\n",
              "     <input type=\"file\" id=\"files-810ec564-c846-4c66-970f-5183b33ee689\" name=\"files[]\" multiple disabled\n",
              "        style=\"border:none\" />\n",
              "     <output id=\"result-810ec564-c846-4c66-970f-5183b33ee689\">\n",
              "      Upload widget is only available when the cell has been executed in the\n",
              "      current browser session. Please rerun this cell to enable.\n",
              "      </output>\n",
              "      <script>// Copyright 2017 Google LLC\n",
              "//\n",
              "// Licensed under the Apache License, Version 2.0 (the \"License\");\n",
              "// you may not use this file except in compliance with the License.\n",
              "// You may obtain a copy of the License at\n",
              "//\n",
              "//      http://www.apache.org/licenses/LICENSE-2.0\n",
              "//\n",
              "// Unless required by applicable law or agreed to in writing, software\n",
              "// distributed under the License is distributed on an \"AS IS\" BASIS,\n",
              "// WITHOUT WARRANTIES OR CONDITIONS OF ANY KIND, either express or implied.\n",
              "// See the License for the specific language governing permissions and\n",
              "// limitations under the License.\n",
              "\n",
              "/**\n",
              " * @fileoverview Helpers for google.colab Python module.\n",
              " */\n",
              "(function(scope) {\n",
              "function span(text, styleAttributes = {}) {\n",
              "  const element = document.createElement('span');\n",
              "  element.textContent = text;\n",
              "  for (const key of Object.keys(styleAttributes)) {\n",
              "    element.style[key] = styleAttributes[key];\n",
              "  }\n",
              "  return element;\n",
              "}\n",
              "\n",
              "// Max number of bytes which will be uploaded at a time.\n",
              "const MAX_PAYLOAD_SIZE = 100 * 1024;\n",
              "\n",
              "function _uploadFiles(inputId, outputId) {\n",
              "  const steps = uploadFilesStep(inputId, outputId);\n",
              "  const outputElement = document.getElementById(outputId);\n",
              "  // Cache steps on the outputElement to make it available for the next call\n",
              "  // to uploadFilesContinue from Python.\n",
              "  outputElement.steps = steps;\n",
              "\n",
              "  return _uploadFilesContinue(outputId);\n",
              "}\n",
              "\n",
              "// This is roughly an async generator (not supported in the browser yet),\n",
              "// where there are multiple asynchronous steps and the Python side is going\n",
              "// to poll for completion of each step.\n",
              "// This uses a Promise to block the python side on completion of each step,\n",
              "// then passes the result of the previous step as the input to the next step.\n",
              "function _uploadFilesContinue(outputId) {\n",
              "  const outputElement = document.getElementById(outputId);\n",
              "  const steps = outputElement.steps;\n",
              "\n",
              "  const next = steps.next(outputElement.lastPromiseValue);\n",
              "  return Promise.resolve(next.value.promise).then((value) => {\n",
              "    // Cache the last promise value to make it available to the next\n",
              "    // step of the generator.\n",
              "    outputElement.lastPromiseValue = value;\n",
              "    return next.value.response;\n",
              "  });\n",
              "}\n",
              "\n",
              "/**\n",
              " * Generator function which is called between each async step of the upload\n",
              " * process.\n",
              " * @param {string} inputId Element ID of the input file picker element.\n",
              " * @param {string} outputId Element ID of the output display.\n",
              " * @return {!Iterable<!Object>} Iterable of next steps.\n",
              " */\n",
              "function* uploadFilesStep(inputId, outputId) {\n",
              "  const inputElement = document.getElementById(inputId);\n",
              "  inputElement.disabled = false;\n",
              "\n",
              "  const outputElement = document.getElementById(outputId);\n",
              "  outputElement.innerHTML = '';\n",
              "\n",
              "  const pickedPromise = new Promise((resolve) => {\n",
              "    inputElement.addEventListener('change', (e) => {\n",
              "      resolve(e.target.files);\n",
              "    });\n",
              "  });\n",
              "\n",
              "  const cancel = document.createElement('button');\n",
              "  inputElement.parentElement.appendChild(cancel);\n",
              "  cancel.textContent = 'Cancel upload';\n",
              "  const cancelPromise = new Promise((resolve) => {\n",
              "    cancel.onclick = () => {\n",
              "      resolve(null);\n",
              "    };\n",
              "  });\n",
              "\n",
              "  // Wait for the user to pick the files.\n",
              "  const files = yield {\n",
              "    promise: Promise.race([pickedPromise, cancelPromise]),\n",
              "    response: {\n",
              "      action: 'starting',\n",
              "    }\n",
              "  };\n",
              "\n",
              "  cancel.remove();\n",
              "\n",
              "  // Disable the input element since further picks are not allowed.\n",
              "  inputElement.disabled = true;\n",
              "\n",
              "  if (!files) {\n",
              "    return {\n",
              "      response: {\n",
              "        action: 'complete',\n",
              "      }\n",
              "    };\n",
              "  }\n",
              "\n",
              "  for (const file of files) {\n",
              "    const li = document.createElement('li');\n",
              "    li.append(span(file.name, {fontWeight: 'bold'}));\n",
              "    li.append(span(\n",
              "        `(${file.type || 'n/a'}) - ${file.size} bytes, ` +\n",
              "        `last modified: ${\n",
              "            file.lastModifiedDate ? file.lastModifiedDate.toLocaleDateString() :\n",
              "                                    'n/a'} - `));\n",
              "    const percent = span('0% done');\n",
              "    li.appendChild(percent);\n",
              "\n",
              "    outputElement.appendChild(li);\n",
              "\n",
              "    const fileDataPromise = new Promise((resolve) => {\n",
              "      const reader = new FileReader();\n",
              "      reader.onload = (e) => {\n",
              "        resolve(e.target.result);\n",
              "      };\n",
              "      reader.readAsArrayBuffer(file);\n",
              "    });\n",
              "    // Wait for the data to be ready.\n",
              "    let fileData = yield {\n",
              "      promise: fileDataPromise,\n",
              "      response: {\n",
              "        action: 'continue',\n",
              "      }\n",
              "    };\n",
              "\n",
              "    // Use a chunked sending to avoid message size limits. See b/62115660.\n",
              "    let position = 0;\n",
              "    do {\n",
              "      const length = Math.min(fileData.byteLength - position, MAX_PAYLOAD_SIZE);\n",
              "      const chunk = new Uint8Array(fileData, position, length);\n",
              "      position += length;\n",
              "\n",
              "      const base64 = btoa(String.fromCharCode.apply(null, chunk));\n",
              "      yield {\n",
              "        response: {\n",
              "          action: 'append',\n",
              "          file: file.name,\n",
              "          data: base64,\n",
              "        },\n",
              "      };\n",
              "\n",
              "      let percentDone = fileData.byteLength === 0 ?\n",
              "          100 :\n",
              "          Math.round((position / fileData.byteLength) * 100);\n",
              "      percent.textContent = `${percentDone}% done`;\n",
              "\n",
              "    } while (position < fileData.byteLength);\n",
              "  }\n",
              "\n",
              "  // All done.\n",
              "  yield {\n",
              "    response: {\n",
              "      action: 'complete',\n",
              "    }\n",
              "  };\n",
              "}\n",
              "\n",
              "scope.google = scope.google || {};\n",
              "scope.google.colab = scope.google.colab || {};\n",
              "scope.google.colab._files = {\n",
              "  _uploadFiles,\n",
              "  _uploadFilesContinue,\n",
              "};\n",
              "})(self);\n",
              "</script> "
            ]
          },
          "metadata": {}
        },
        {
          "output_type": "stream",
          "name": "stdout",
          "text": [
            "Saving student_clustering.csv to student_clustering (1).csv\n"
          ]
        }
      ]
    },
    {
      "cell_type": "code",
      "source": [
        "import math\n",
        "import statistics\n",
        "\n",
        "k = np.floor(1 + 3.322 * math.log10(df_iq.size))\n",
        "max = df_iq['iq'].max()\n",
        "min = df_iq['iq'].min()\n",
        "h = (max - min)/k\n",
        "borders = []\n",
        "for i in range(7):\n",
        "  borders.append(round((min+i*h), 3))\n",
        "\n",
        "borders.append(round((min+k*h), 3)) \n",
        "bins = pd.cut(df_iq['iq'], bins=[borders[i] for i in range(7)], right=False)\n",
        "\n",
        "counts = pd.value_counts(bins, sort=False)\n",
        "\n",
        "last_interval = pd.Interval(borders[-2], borders[-1], closed='both')\n",
        "counts[last_interval] = len(df[(df['iq'] >= borders[-2]) & (df['iq'] <= borders[-1])])\n",
        "\n",
        "df_interval_iq = pd.DataFrame(counts).reset_index()\n",
        "df_iqP = pd.DataFrame(counts).reset_index()\n",
        "df_interval_iq.columns = ['iq', 'Ni']\n",
        "df_iqP.columns = ['iq', 'Ni']\n",
        "df_interval_iq.insert(1, 'Xi', df_interval_iq['iq'].apply(lambda x: (x.left + x.right)/2))\n",
        "df_iqP.insert(1, 'Xi', df_iqP['iq'].apply(lambda x: (x.left)))\n",
        "df_iqP.insert(2, 'Xi+1', df_iqP['iq'].apply(lambda x: (x.right)))\n",
        "df_interval_iq = df_interval_iq.drop('iq', axis=1)\n",
        "df_iqP = df_iqP.drop('iq', axis=1)\n",
        "df_interval_iq['Pi'] = df_interval_iq['Ni'] / df_iq.size\n",
        "df_iqP['Pi'] = df_iqP['Ni'] / df_iq.size\n",
        "df_interval_iq = df_interval_iq.drop('Ni', axis=1)\n",
        "df_iqP = df_iqP.drop('Ni', axis=1)\n",
        "df_interval_iq = df_interval_iq.rename(columns = {'Pi': 'Ni'})\n",
        "df_iqP = df_iqP.rename(columns = {'Pi': 'Ni'})\n",
        "\n",
        "df_interval_iq"
      ],
      "metadata": {
        "colab": {
          "base_uri": "https://localhost:8080/",
          "height": 269
        },
        "id": "R6xeOGpEuYlw",
        "outputId": "1065879c-1719-45e6-e182-ecec0673e262"
      },
      "execution_count": null,
      "outputs": [
        {
          "output_type": "display_data",
          "data": {
            "text/plain": [
              "<IPython.core.display.Javascript object>"
            ],
            "application/javascript": [
              "google.colab.output.setIframeHeight(0, true, {maxHeight: 300})"
            ]
          },
          "metadata": {}
        },
        {
          "output_type": "display_data",
          "data": {
            "text/plain": [
              "<IPython.core.display.Javascript object>"
            ],
            "application/javascript": [
              "google.colab.output.setIframeHeight(0, true, {maxHeight: 300})"
            ]
          },
          "metadata": {}
        },
        {
          "output_type": "execute_result",
          "data": {
            "text/plain": [
              "         Xi        Ni\n",
              "0   85.7145  0.200000\n",
              "1   91.1430  0.084211\n",
              "2   96.5715  0.189474\n",
              "3  102.0000  0.010526\n",
              "4  107.4285  0.168421\n",
              "5  112.8570  0.157895\n",
              "6  118.2855  0.189474"
            ],
            "text/html": [
              "\n",
              "  <div id=\"df-02e6698b-bf83-4baf-a552-1be7a5a3a53c\">\n",
              "    <div class=\"colab-df-container\">\n",
              "      <div>\n",
              "<style scoped>\n",
              "    .dataframe tbody tr th:only-of-type {\n",
              "        vertical-align: middle;\n",
              "    }\n",
              "\n",
              "    .dataframe tbody tr th {\n",
              "        vertical-align: top;\n",
              "    }\n",
              "\n",
              "    .dataframe thead th {\n",
              "        text-align: right;\n",
              "    }\n",
              "</style>\n",
              "<table border=\"1\" class=\"dataframe\">\n",
              "  <thead>\n",
              "    <tr style=\"text-align: right;\">\n",
              "      <th></th>\n",
              "      <th>Xi</th>\n",
              "      <th>Ni</th>\n",
              "    </tr>\n",
              "  </thead>\n",
              "  <tbody>\n",
              "    <tr>\n",
              "      <th>0</th>\n",
              "      <td>85.7145</td>\n",
              "      <td>0.200000</td>\n",
              "    </tr>\n",
              "    <tr>\n",
              "      <th>1</th>\n",
              "      <td>91.1430</td>\n",
              "      <td>0.084211</td>\n",
              "    </tr>\n",
              "    <tr>\n",
              "      <th>2</th>\n",
              "      <td>96.5715</td>\n",
              "      <td>0.189474</td>\n",
              "    </tr>\n",
              "    <tr>\n",
              "      <th>3</th>\n",
              "      <td>102.0000</td>\n",
              "      <td>0.010526</td>\n",
              "    </tr>\n",
              "    <tr>\n",
              "      <th>4</th>\n",
              "      <td>107.4285</td>\n",
              "      <td>0.168421</td>\n",
              "    </tr>\n",
              "    <tr>\n",
              "      <th>5</th>\n",
              "      <td>112.8570</td>\n",
              "      <td>0.157895</td>\n",
              "    </tr>\n",
              "    <tr>\n",
              "      <th>6</th>\n",
              "      <td>118.2855</td>\n",
              "      <td>0.189474</td>\n",
              "    </tr>\n",
              "  </tbody>\n",
              "</table>\n",
              "</div>\n",
              "      <button class=\"colab-df-convert\" onclick=\"convertToInteractive('df-02e6698b-bf83-4baf-a552-1be7a5a3a53c')\"\n",
              "              title=\"Convert this dataframe to an interactive table.\"\n",
              "              style=\"display:none;\">\n",
              "        \n",
              "  <svg xmlns=\"http://www.w3.org/2000/svg\" height=\"24px\"viewBox=\"0 0 24 24\"\n",
              "       width=\"24px\">\n",
              "    <path d=\"M0 0h24v24H0V0z\" fill=\"none\"/>\n",
              "    <path d=\"M18.56 5.44l.94 2.06.94-2.06 2.06-.94-2.06-.94-.94-2.06-.94 2.06-2.06.94zm-11 1L8.5 8.5l.94-2.06 2.06-.94-2.06-.94L8.5 2.5l-.94 2.06-2.06.94zm10 10l.94 2.06.94-2.06 2.06-.94-2.06-.94-.94-2.06-.94 2.06-2.06.94z\"/><path d=\"M17.41 7.96l-1.37-1.37c-.4-.4-.92-.59-1.43-.59-.52 0-1.04.2-1.43.59L10.3 9.45l-7.72 7.72c-.78.78-.78 2.05 0 2.83L4 21.41c.39.39.9.59 1.41.59.51 0 1.02-.2 1.41-.59l7.78-7.78 2.81-2.81c.8-.78.8-2.07 0-2.86zM5.41 20L4 18.59l7.72-7.72 1.47 1.35L5.41 20z\"/>\n",
              "  </svg>\n",
              "      </button>\n",
              "      \n",
              "  <style>\n",
              "    .colab-df-container {\n",
              "      display:flex;\n",
              "      flex-wrap:wrap;\n",
              "      gap: 12px;\n",
              "    }\n",
              "\n",
              "    .colab-df-convert {\n",
              "      background-color: #E8F0FE;\n",
              "      border: none;\n",
              "      border-radius: 50%;\n",
              "      cursor: pointer;\n",
              "      display: none;\n",
              "      fill: #1967D2;\n",
              "      height: 32px;\n",
              "      padding: 0 0 0 0;\n",
              "      width: 32px;\n",
              "    }\n",
              "\n",
              "    .colab-df-convert:hover {\n",
              "      background-color: #E2EBFA;\n",
              "      box-shadow: 0px 1px 2px rgba(60, 64, 67, 0.3), 0px 1px 3px 1px rgba(60, 64, 67, 0.15);\n",
              "      fill: #174EA6;\n",
              "    }\n",
              "\n",
              "    [theme=dark] .colab-df-convert {\n",
              "      background-color: #3B4455;\n",
              "      fill: #D2E3FC;\n",
              "    }\n",
              "\n",
              "    [theme=dark] .colab-df-convert:hover {\n",
              "      background-color: #434B5C;\n",
              "      box-shadow: 0px 1px 3px 1px rgba(0, 0, 0, 0.15);\n",
              "      filter: drop-shadow(0px 1px 2px rgba(0, 0, 0, 0.3));\n",
              "      fill: #FFFFFF;\n",
              "    }\n",
              "  </style>\n",
              "\n",
              "      <script>\n",
              "        const buttonEl =\n",
              "          document.querySelector('#df-02e6698b-bf83-4baf-a552-1be7a5a3a53c button.colab-df-convert');\n",
              "        buttonEl.style.display =\n",
              "          google.colab.kernel.accessAllowed ? 'block' : 'none';\n",
              "\n",
              "        async function convertToInteractive(key) {\n",
              "          const element = document.querySelector('#df-02e6698b-bf83-4baf-a552-1be7a5a3a53c');\n",
              "          const dataTable =\n",
              "            await google.colab.kernel.invokeFunction('convertToInteractive',\n",
              "                                                     [key], {});\n",
              "          if (!dataTable) return;\n",
              "\n",
              "          const docLinkHtml = 'Like what you see? Visit the ' +\n",
              "            '<a target=\"_blank\" href=https://colab.research.google.com/notebooks/data_table.ipynb>data table notebook</a>'\n",
              "            + ' to learn more about interactive tables.';\n",
              "          element.innerHTML = '';\n",
              "          dataTable['output_type'] = 'display_data';\n",
              "          await google.colab.output.renderOutput(dataTable, element);\n",
              "          const docLink = document.createElement('div');\n",
              "          docLink.innerHTML = docLinkHtml;\n",
              "          element.appendChild(docLink);\n",
              "        }\n",
              "      </script>\n",
              "    </div>\n",
              "  </div>\n",
              "  "
            ]
          },
          "metadata": {},
          "execution_count": 21
        }
      ]
    },
    {
      "cell_type": "code",
      "source": [
        "x_st = 0\n",
        "for i in range(7):\n",
        "  x_st += df_interval_iq['Ni'][i]*df_interval_iq['Xi'][i]\n",
        "\n",
        "print(x_st)  "
      ],
      "metadata": {
        "colab": {
          "base_uri": "https://localhost:8080/",
          "height": 35
        },
        "id": "EyISFv5XvLfG",
        "outputId": "1c5bc89d-0232-48ba-cba2-682e1c91cb08"
      },
      "execution_count": null,
      "outputs": [
        {
          "output_type": "display_data",
          "data": {
            "text/plain": [
              "<IPython.core.display.Javascript object>"
            ],
            "application/javascript": [
              "google.colab.output.setIframeHeight(0, true, {maxHeight: 300})"
            ]
          },
          "metadata": {}
        },
        {
          "output_type": "display_data",
          "data": {
            "text/plain": [
              "<IPython.core.display.Javascript object>"
            ],
            "application/javascript": [
              "google.colab.output.setIframeHeight(0, true, {maxHeight: 300})"
            ]
          },
          "metadata": {}
        },
        {
          "output_type": "stream",
          "name": "stdout",
          "text": [
            "102.51427894736842\n"
          ]
        }
      ]
    },
    {
      "cell_type": "code",
      "source": [
        "D = 0\n",
        "for i in range(7):\n",
        "  D += df_interval_iq['Ni'][i]*(df_interval_iq['Xi'][i]-x_st)**2\n",
        "S = (df_iq.size/(df_iq.size-1))*D\n",
        "print(S)  "
      ],
      "metadata": {
        "colab": {
          "base_uri": "https://localhost:8080/",
          "height": 35
        },
        "id": "0XvOWTDTvRzX",
        "outputId": "5016b0b0-8963-489d-ebff-33065fb12143"
      },
      "execution_count": null,
      "outputs": [
        {
          "output_type": "display_data",
          "data": {
            "text/plain": [
              "<IPython.core.display.Javascript object>"
            ],
            "application/javascript": [
              "google.colab.output.setIframeHeight(0, true, {maxHeight: 300})"
            ]
          },
          "metadata": {}
        },
        {
          "output_type": "display_data",
          "data": {
            "text/plain": [
              "<IPython.core.display.Javascript object>"
            ],
            "application/javascript": [
              "google.colab.output.setIframeHeight(0, true, {maxHeight: 300})"
            ]
          },
          "metadata": {}
        },
        {
          "output_type": "stream",
          "name": "stdout",
          "text": [
            "143.62731014210524\n"
          ]
        }
      ]
    },
    {
      "cell_type": "markdown",
      "source": [
        "### Вычислить точность и доверительный интервал для математического ожидания при неизвестном среднеквадратичном отклонении при заданном объёме выборки для доверительной точности $\\gamma\\in\\{0.95,0.99\\}$. Сделать выводы."
      ],
      "metadata": {
        "id": "H-22b4fOkGDr"
      }
    },
    {
      "cell_type": "code",
      "source": [
        "import scipy.stats as st\n",
        "\n",
        "gamma = [0.95, 0.99]\n",
        "n = 95\n",
        "\n",
        "delta = abs(st.t.ppf((gamma[0]+1)/2, n))*math.sqrt(S/n)\n",
        "print(\"дельта для 0.95: \",delta)\n",
        "conf_int = st.t.interval(gamma[0], df=n, loc=x_st, scale=math.sqrt(S/n))\n",
        "print(\"доверительный интервал для 0.95: {}\".format(conf_int))\n",
        "\n",
        "delta = abs(st.t.ppf((gamma[1]+1)/2, n))*math.sqrt(S/n)\n",
        "print(\"дельта для 0.99: \",delta)\n",
        "conf_int = st.t.interval(gamma[1], df=n, loc=x_st, scale=math.sqrt(S/n))\n",
        "print(\"доверительный интервал для 0.99: {}\".format(conf_int))"
      ],
      "metadata": {
        "colab": {
          "base_uri": "https://localhost:8080/",
          "height": 90
        },
        "id": "3RTJQFUF7DSx",
        "outputId": "581ee386-a009-44f4-d0d4-7045e3795803"
      },
      "execution_count": null,
      "outputs": [
        {
          "output_type": "display_data",
          "data": {
            "text/plain": [
              "<IPython.core.display.Javascript object>"
            ],
            "application/javascript": [
              "google.colab.output.setIframeHeight(0, true, {maxHeight: 300})"
            ]
          },
          "metadata": {}
        },
        {
          "output_type": "display_data",
          "data": {
            "text/plain": [
              "<IPython.core.display.Javascript object>"
            ],
            "application/javascript": [
              "google.colab.output.setIframeHeight(0, true, {maxHeight: 300})"
            ]
          },
          "metadata": {}
        },
        {
          "output_type": "stream",
          "name": "stdout",
          "text": [
            "дельта для 0.95:  2.4410244816549023\n",
            "доверительный интервал для 0.95: (100.07325446571352, 104.95530342902333)\n",
            "дельта для 0.99:  3.232043479919818\n",
            "доверительный интервал для 0.99: (99.2822354674486, 105.74632242728825)\n"
          ]
        }
      ]
    },
    {
      "cell_type": "markdown",
      "source": [
        "Итак, при увеличении доверительной точности растет доверительный интервал для математического ожидания."
      ],
      "metadata": {
        "id": "d_ev970phKE2"
      }
    },
    {
      "cell_type": "markdown",
      "source": [
        "### Для вычисления границ доверительного интервала для среднеквадратичного отклонения определить значение q при заданных γ и n. Построить доверительные интервалы, сделать выводы."
      ],
      "metadata": {
        "id": "4N5b7levj-Kt"
      }
    },
    {
      "cell_type": "markdown",
      "source": [
        "Воспользуемся таблицей из приложения 7, тогда при 0.95 $q \\approx 0.147$, а при 0.99 $q \\approx 0.204$."
      ],
      "metadata": {
        "id": "BVf-O0DqtEkj"
      }
    },
    {
      "cell_type": "code",
      "source": [
        "q = [0.147, 0.204]\n",
        "\n",
        "print(\"доверительный интервал для среднеквадратичного отклонения при 0.95: ({0}, {1})\".format(S*(1-q[0]), S*(1+q[0])))\n",
        "print(\"доверительный интервал для среднеквадратичного отклонения при 0.99: ({0}, {1})\".format(S*(1-q[1]), S*(1+q[1])))"
      ],
      "metadata": {
        "id": "slqtENOZkwiN",
        "colab": {
          "base_uri": "https://localhost:8080/",
          "height": 54
        },
        "outputId": "2bea2b7a-367d-4f28-f3ab-0c16fccf320a"
      },
      "execution_count": null,
      "outputs": [
        {
          "output_type": "display_data",
          "data": {
            "text/plain": [
              "<IPython.core.display.Javascript object>"
            ],
            "application/javascript": [
              "google.colab.output.setIframeHeight(0, true, {maxHeight: 300})"
            ]
          },
          "metadata": {}
        },
        {
          "output_type": "display_data",
          "data": {
            "text/plain": [
              "<IPython.core.display.Javascript object>"
            ],
            "application/javascript": [
              "google.colab.output.setIframeHeight(0, true, {maxHeight: 300})"
            ]
          },
          "metadata": {}
        },
        {
          "output_type": "stream",
          "name": "stdout",
          "text": [
            "доверительный интервал для среднеквадратичного отклонения при 0.95: (122.51409555121577, 164.74052473299471)\n",
            "доверительный интервал для среднеквадратичного отклонения при 0.99: (114.32733887311578, 172.9272814110947)\n"
          ]
        }
      ]
    },
    {
      "cell_type": "markdown",
      "source": [
        "Заметим, что при увеличении q растет доверительный интервал для среднеквадратичного отклонения."
      ],
      "metadata": {
        "id": "5roU1Y3yxdhg"
      }
    },
    {
      "cell_type": "markdown",
      "source": [
        "### Проверить гипотезу о нормальности заданного распределения с помощью критерия $\\chi^2$ (Пирсона). "
      ],
      "metadata": {
        "id": "MnAz847aPxOh"
      }
    },
    {
      "cell_type": "markdown",
      "source": [
        "\n",
        "Для этого необходимо найти теоретические частоты и вычислить наблюдаемое значение критерия. Для удобства вычисления необходимо заполнить табл. 1. Проконтролировать корректность вычисления $\\chi^2_{набл}$. Далее по заданному уровню значимости $\\alpha = 0.05$ и числу степеней свободы \n",
        "$df$ найти критическую точку $\\chi^2_{крит}$ и сравнить с наблюдаемым значением. Сделать выводы."
      ],
      "metadata": {
        "id": "qyWweDD3QPlA"
      }
    },
    {
      "cell_type": "code",
      "source": [
        "from scipy.special import erf\n",
        "\n",
        "def laplace(x):\n",
        "        return (1/2) + (1/2) * erf(x/math.sqrt(2))\n",
        "\n",
        "df_iqP[\"Zi\"] = (df_iqP[\"Xi\"] - x_st)/math.sqrt(S)\n",
        "df_iqP[\"Zi+1\"] = (df_iqP[\"Xi+1\"] - x_st)/math.sqrt(S)\n",
        "df_iqP[\"Zi\"].iloc[0], df_iqP[\"Zi+1\"].iloc[-1] = -math.inf, +math.inf\n",
        "\n",
        "df_iqP[\"Pi\"] = df_iqP[\"Zi+1\"].apply(lambda x: laplace(x)) - df_iqP[\"Zi\"].apply(lambda x: laplace(x))\n",
        "df_iqP[\"Ni'\"] = df_iqP[\"Pi\"] * 95\n",
        "df_iqP[\"(Ni-Ni')^2\"] = (df_iqP[\"Ni\"] - df_iqP[\"Ni'\"]) ** 2\n",
        "df_iqP[\"((Ni-Ni')^2)/Ni'\"] = df_iqP[\"(Ni-Ni')^2\"]/df_iqP[\"Ni'\"]\n",
        "df_iqP[\"Ni^2\"] = df_iqP[\"Ni\"] ** 2\n",
        "df_iqP[\"Ni^2/Ni'\"] = df_iqP[\"Ni^2\"]/df_iqP[\"Ni'\"]\n",
        "\n",
        "df_iqP"
      ],
      "metadata": {
        "colab": {
          "base_uri": "https://localhost:8080/",
          "height": 269
        },
        "id": "TYirJyuRbtwv",
        "outputId": "6ec56972-91e1-4b32-8dd3-411e19fc7bea"
      },
      "execution_count": null,
      "outputs": [
        {
          "output_type": "display_data",
          "data": {
            "text/plain": [
              "<IPython.core.display.Javascript object>"
            ],
            "application/javascript": [
              "google.colab.output.setIframeHeight(0, true, {maxHeight: 300})"
            ]
          },
          "metadata": {}
        },
        {
          "output_type": "display_data",
          "data": {
            "text/plain": [
              "<IPython.core.display.Javascript object>"
            ],
            "application/javascript": [
              "google.colab.output.setIframeHeight(0, true, {maxHeight: 300})"
            ]
          },
          "metadata": {}
        },
        {
          "output_type": "execute_result",
          "data": {
            "text/plain": [
              "        Xi     Xi+1        Ni        Zi      Zi+1        Pi        Ni'  \\\n",
              "0   83.000   88.429  0.200000      -inf -1.175295  0.119938  11.394141   \n",
              "1   88.429   93.857  0.084211 -1.175295 -0.722375  0.115094  10.933887   \n",
              "2   93.857   99.286  0.189474 -0.722375 -0.269372  0.158790  15.085032   \n",
              "3   99.286  104.714  0.010526 -0.269372  0.183548  0.178994  17.004447   \n",
              "4  104.714  110.143  0.168421  0.183548  0.636551  0.164975  15.672668   \n",
              "5  110.143  115.571  0.157895  0.636551  1.089471  0.124236  11.802374   \n",
              "6  115.571  121.000  0.189474  1.089471       inf  0.137973  13.107450   \n",
              "\n",
              "   (Ni-Ni')^2  ((Ni-Ni')^2)/Ni'      Ni^2  Ni^2/Ni'  \n",
              "0  125.308800         10.997652  0.040000  0.003511  \n",
              "1  117.715484         10.766115  0.007091  0.000649  \n",
              "2  221.877670         14.708465  0.035900  0.002380  \n",
              "3  288.793354         16.983401  0.000111  0.000007  \n",
              "4  240.381681         15.337636  0.028366  0.001810  \n",
              "5  135.593895         11.488697  0.024931  0.002112  \n",
              "6  166.874099         12.731241  0.035900  0.002739  "
            ],
            "text/html": [
              "\n",
              "  <div id=\"df-5846805e-607f-43e2-9a59-dfe9c86f5c84\">\n",
              "    <div class=\"colab-df-container\">\n",
              "      <div>\n",
              "<style scoped>\n",
              "    .dataframe tbody tr th:only-of-type {\n",
              "        vertical-align: middle;\n",
              "    }\n",
              "\n",
              "    .dataframe tbody tr th {\n",
              "        vertical-align: top;\n",
              "    }\n",
              "\n",
              "    .dataframe thead th {\n",
              "        text-align: right;\n",
              "    }\n",
              "</style>\n",
              "<table border=\"1\" class=\"dataframe\">\n",
              "  <thead>\n",
              "    <tr style=\"text-align: right;\">\n",
              "      <th></th>\n",
              "      <th>Xi</th>\n",
              "      <th>Xi+1</th>\n",
              "      <th>Ni</th>\n",
              "      <th>Zi</th>\n",
              "      <th>Zi+1</th>\n",
              "      <th>Pi</th>\n",
              "      <th>Ni'</th>\n",
              "      <th>(Ni-Ni')^2</th>\n",
              "      <th>((Ni-Ni')^2)/Ni'</th>\n",
              "      <th>Ni^2</th>\n",
              "      <th>Ni^2/Ni'</th>\n",
              "    </tr>\n",
              "  </thead>\n",
              "  <tbody>\n",
              "    <tr>\n",
              "      <th>0</th>\n",
              "      <td>83.000</td>\n",
              "      <td>88.429</td>\n",
              "      <td>0.200000</td>\n",
              "      <td>-inf</td>\n",
              "      <td>-1.175295</td>\n",
              "      <td>0.119938</td>\n",
              "      <td>11.394141</td>\n",
              "      <td>125.308800</td>\n",
              "      <td>10.997652</td>\n",
              "      <td>0.040000</td>\n",
              "      <td>0.003511</td>\n",
              "    </tr>\n",
              "    <tr>\n",
              "      <th>1</th>\n",
              "      <td>88.429</td>\n",
              "      <td>93.857</td>\n",
              "      <td>0.084211</td>\n",
              "      <td>-1.175295</td>\n",
              "      <td>-0.722375</td>\n",
              "      <td>0.115094</td>\n",
              "      <td>10.933887</td>\n",
              "      <td>117.715484</td>\n",
              "      <td>10.766115</td>\n",
              "      <td>0.007091</td>\n",
              "      <td>0.000649</td>\n",
              "    </tr>\n",
              "    <tr>\n",
              "      <th>2</th>\n",
              "      <td>93.857</td>\n",
              "      <td>99.286</td>\n",
              "      <td>0.189474</td>\n",
              "      <td>-0.722375</td>\n",
              "      <td>-0.269372</td>\n",
              "      <td>0.158790</td>\n",
              "      <td>15.085032</td>\n",
              "      <td>221.877670</td>\n",
              "      <td>14.708465</td>\n",
              "      <td>0.035900</td>\n",
              "      <td>0.002380</td>\n",
              "    </tr>\n",
              "    <tr>\n",
              "      <th>3</th>\n",
              "      <td>99.286</td>\n",
              "      <td>104.714</td>\n",
              "      <td>0.010526</td>\n",
              "      <td>-0.269372</td>\n",
              "      <td>0.183548</td>\n",
              "      <td>0.178994</td>\n",
              "      <td>17.004447</td>\n",
              "      <td>288.793354</td>\n",
              "      <td>16.983401</td>\n",
              "      <td>0.000111</td>\n",
              "      <td>0.000007</td>\n",
              "    </tr>\n",
              "    <tr>\n",
              "      <th>4</th>\n",
              "      <td>104.714</td>\n",
              "      <td>110.143</td>\n",
              "      <td>0.168421</td>\n",
              "      <td>0.183548</td>\n",
              "      <td>0.636551</td>\n",
              "      <td>0.164975</td>\n",
              "      <td>15.672668</td>\n",
              "      <td>240.381681</td>\n",
              "      <td>15.337636</td>\n",
              "      <td>0.028366</td>\n",
              "      <td>0.001810</td>\n",
              "    </tr>\n",
              "    <tr>\n",
              "      <th>5</th>\n",
              "      <td>110.143</td>\n",
              "      <td>115.571</td>\n",
              "      <td>0.157895</td>\n",
              "      <td>0.636551</td>\n",
              "      <td>1.089471</td>\n",
              "      <td>0.124236</td>\n",
              "      <td>11.802374</td>\n",
              "      <td>135.593895</td>\n",
              "      <td>11.488697</td>\n",
              "      <td>0.024931</td>\n",
              "      <td>0.002112</td>\n",
              "    </tr>\n",
              "    <tr>\n",
              "      <th>6</th>\n",
              "      <td>115.571</td>\n",
              "      <td>121.000</td>\n",
              "      <td>0.189474</td>\n",
              "      <td>1.089471</td>\n",
              "      <td>inf</td>\n",
              "      <td>0.137973</td>\n",
              "      <td>13.107450</td>\n",
              "      <td>166.874099</td>\n",
              "      <td>12.731241</td>\n",
              "      <td>0.035900</td>\n",
              "      <td>0.002739</td>\n",
              "    </tr>\n",
              "  </tbody>\n",
              "</table>\n",
              "</div>\n",
              "      <button class=\"colab-df-convert\" onclick=\"convertToInteractive('df-5846805e-607f-43e2-9a59-dfe9c86f5c84')\"\n",
              "              title=\"Convert this dataframe to an interactive table.\"\n",
              "              style=\"display:none;\">\n",
              "        \n",
              "  <svg xmlns=\"http://www.w3.org/2000/svg\" height=\"24px\"viewBox=\"0 0 24 24\"\n",
              "       width=\"24px\">\n",
              "    <path d=\"M0 0h24v24H0V0z\" fill=\"none\"/>\n",
              "    <path d=\"M18.56 5.44l.94 2.06.94-2.06 2.06-.94-2.06-.94-.94-2.06-.94 2.06-2.06.94zm-11 1L8.5 8.5l.94-2.06 2.06-.94-2.06-.94L8.5 2.5l-.94 2.06-2.06.94zm10 10l.94 2.06.94-2.06 2.06-.94-2.06-.94-.94-2.06-.94 2.06-2.06.94z\"/><path d=\"M17.41 7.96l-1.37-1.37c-.4-.4-.92-.59-1.43-.59-.52 0-1.04.2-1.43.59L10.3 9.45l-7.72 7.72c-.78.78-.78 2.05 0 2.83L4 21.41c.39.39.9.59 1.41.59.51 0 1.02-.2 1.41-.59l7.78-7.78 2.81-2.81c.8-.78.8-2.07 0-2.86zM5.41 20L4 18.59l7.72-7.72 1.47 1.35L5.41 20z\"/>\n",
              "  </svg>\n",
              "      </button>\n",
              "      \n",
              "  <style>\n",
              "    .colab-df-container {\n",
              "      display:flex;\n",
              "      flex-wrap:wrap;\n",
              "      gap: 12px;\n",
              "    }\n",
              "\n",
              "    .colab-df-convert {\n",
              "      background-color: #E8F0FE;\n",
              "      border: none;\n",
              "      border-radius: 50%;\n",
              "      cursor: pointer;\n",
              "      display: none;\n",
              "      fill: #1967D2;\n",
              "      height: 32px;\n",
              "      padding: 0 0 0 0;\n",
              "      width: 32px;\n",
              "    }\n",
              "\n",
              "    .colab-df-convert:hover {\n",
              "      background-color: #E2EBFA;\n",
              "      box-shadow: 0px 1px 2px rgba(60, 64, 67, 0.3), 0px 1px 3px 1px rgba(60, 64, 67, 0.15);\n",
              "      fill: #174EA6;\n",
              "    }\n",
              "\n",
              "    [theme=dark] .colab-df-convert {\n",
              "      background-color: #3B4455;\n",
              "      fill: #D2E3FC;\n",
              "    }\n",
              "\n",
              "    [theme=dark] .colab-df-convert:hover {\n",
              "      background-color: #434B5C;\n",
              "      box-shadow: 0px 1px 3px 1px rgba(0, 0, 0, 0.15);\n",
              "      filter: drop-shadow(0px 1px 2px rgba(0, 0, 0, 0.3));\n",
              "      fill: #FFFFFF;\n",
              "    }\n",
              "  </style>\n",
              "\n",
              "      <script>\n",
              "        const buttonEl =\n",
              "          document.querySelector('#df-5846805e-607f-43e2-9a59-dfe9c86f5c84 button.colab-df-convert');\n",
              "        buttonEl.style.display =\n",
              "          google.colab.kernel.accessAllowed ? 'block' : 'none';\n",
              "\n",
              "        async function convertToInteractive(key) {\n",
              "          const element = document.querySelector('#df-5846805e-607f-43e2-9a59-dfe9c86f5c84');\n",
              "          const dataTable =\n",
              "            await google.colab.kernel.invokeFunction('convertToInteractive',\n",
              "                                                     [key], {});\n",
              "          if (!dataTable) return;\n",
              "\n",
              "          const docLinkHtml = 'Like what you see? Visit the ' +\n",
              "            '<a target=\"_blank\" href=https://colab.research.google.com/notebooks/data_table.ipynb>data table notebook</a>'\n",
              "            + ' to learn more about interactive tables.';\n",
              "          element.innerHTML = '';\n",
              "          dataTable['output_type'] = 'display_data';\n",
              "          await google.colab.output.renderOutput(dataTable, element);\n",
              "          const docLink = document.createElement('div');\n",
              "          docLink.innerHTML = docLinkHtml;\n",
              "          element.appendChild(docLink);\n",
              "        }\n",
              "      </script>\n",
              "    </div>\n",
              "  </div>\n",
              "  "
            ]
          },
          "metadata": {},
          "execution_count": 28
        }
      ]
    },
    {
      "cell_type": "code",
      "source": [
        "chi2 = sum(df_iqP[\"((Ni-Ni')^2)/Ni'\"])\n",
        "chi2_crit = st.chi2.ppf(0.95, 4)\n",
        "print('chi2: ', chi2)\n",
        "print('chi2_crit: ', chi2_crit)"
      ],
      "metadata": {
        "colab": {
          "base_uri": "https://localhost:8080/",
          "height": 54
        },
        "id": "zwvJiJf9fUuk",
        "outputId": "67ce79b5-b4f2-4c5d-8aa6-a2e95fd0e632"
      },
      "execution_count": null,
      "outputs": [
        {
          "output_type": "display_data",
          "data": {
            "text/plain": [
              "<IPython.core.display.Javascript object>"
            ],
            "application/javascript": [
              "google.colab.output.setIframeHeight(0, true, {maxHeight: 300})"
            ]
          },
          "metadata": {}
        },
        {
          "output_type": "display_data",
          "data": {
            "text/plain": [
              "<IPython.core.display.Javascript object>"
            ],
            "application/javascript": [
              "google.colab.output.setIframeHeight(0, true, {maxHeight: 300})"
            ]
          },
          "metadata": {}
        },
        {
          "output_type": "stream",
          "name": "stdout",
          "text": [
            "chi2:  93.01320667702456\n",
            "chi2_crit:  9.487729036781154\n"
          ]
        }
      ]
    },
    {
      "cell_type": "markdown",
      "source": [
        "Таким образом, $\\chi^2_{крит} < \\chi^2_{набл}$ из чего следует, что гипотеза не верна, поэтому распределение не является нормальным."
      ],
      "metadata": {
        "id": "GkpK2UAi1b4N"
      }
    },
    {
      "cell_type": "markdown",
      "metadata": {
        "id": "2YQMLlF2pK-l"
      },
      "source": [
        "## Выводы\n",
        "\n",
        "В ходе выполнения работы для заданной надежности были определены (на основании выборочных данных и результатов выполнения практической работы №2) границы доверительных интервалов для математического ожидания и среднеквадратичного отклонения случайной величины. Было подмечено, что при увеличении доверительной точности растет доверительный интервал для математического ожидания. \n",
        "Проверка гипотезы о нормальном распределении исследуемой случайной величины с помощью критерия Пирсона $\\chi^2$ показала, что распределение не является нормальным."
      ]
    }
  ],
  "metadata": {
    "kernelspec": {
      "display_name": "Python 3",
      "language": "python",
      "name": "python3"
    },
    "language_info": {
      "codemirror_mode": {
        "name": "ipython",
        "version": 3
      },
      "file_extension": ".py",
      "mimetype": "text/x-python",
      "name": "python",
      "nbconvert_exporter": "python",
      "pygments_lexer": "ipython3",
      "version": "3.8.10"
    },
    "colab": {
      "provenance": []
    }
  },
  "nbformat": 4,
  "nbformat_minor": 0
}