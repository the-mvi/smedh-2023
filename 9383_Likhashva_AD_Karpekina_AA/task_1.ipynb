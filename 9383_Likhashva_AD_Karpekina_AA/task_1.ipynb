{
  "nbformat": 4,
  "nbformat_minor": 0,
  "metadata": {
    "colab": {
      "provenance": []
    },
    "kernelspec": {
      "name": "python3",
      "display_name": "Python 3"
    },
    "language_info": {
      "name": "python"
    }
  },
  "cells": [
    {
      "cell_type": "markdown",
      "source": [
        "# Практическая работа №1: Формирование и первичная обработка выборки. Ранжированный и интервальный ряды\n",
        "\n",
        "Выполнили Карпекина Анна и Лихашва Анастасия, группа 9383.\n",
        "\n",
        "## Цель работы\n",
        "\n",
        "Ознакомление с основными правилами формирования выборки и подготовки выборочных данных к статистическому анализу.\n",
        "\n",
        "## Постановка задачи.\n",
        "\n",
        "Осуществить формирование репрезентативной выборки заданного объема из имеющейся генеральной совокупности экспериментальных данных. Осуществить последовательное преобразование полученной выборки в ранжированный, вариационный и интервальный ряды. Применительно к интервальному ряду построить и отобразить графически полигон, гистограмму и эмпирическую функцию распределения для абсолютных и относительных частот. Полученные результаты содержательно проинтерпретировать.\n",
        "\n",
        "## Порядок выполнения работы\n",
        "\n",
        "1.   Выбрать программное обеспечение или язык программирования и обосновать его выбор.\n",
        "2.   Выбрать двумерную генеральную совокупность, предварительно согласовав её с преподавателем. Указать, откуда была взята генеральная совокупность и предоставить ссылку.\n",
        "3.   Из генеральной совокупности сформировать выборку заданного объёма в соответствии с полученным от преподавателя номером. Указать, каким образом была сформирована выборка.\n",
        "4.   Последовательно преобразовать выборку в ранжированный, вариационный и интервальный ряды. Интервальный ряд представить в виде табл. 1. Результаты содержательно проинтерпретировать.\n",
        "5.   Для абсолютных частот построить и отобразить графически полигон, гистограмму и эмпирическую функцию. Сделать выводы.\n",
        "6.   Выполнить п. 5 для относительных частот. Сравнить результаты и сделать выводы.\n",
        "\n",
        "## Основные теоретические требования\n",
        "\n",
        "**Статистический ряд** - последовательность элементов выборки, расположенных в порядке их получения (наблюдения).  \n",
        "**Ранжированный ряд** - последовательность элементов выборки, расположенных в порядке возрастания их значений. Номер элемента ранжированного ряда в последовательности называется рангом.  \n",
        "**Вариационый ряд** - получается из ранжированного ряда в результате объединения одинаковых элементов. Элементы вариационного ряда называются вариантами.  \n",
        "#### Построение (выборочного) статистического закона распределения\n",
        "Составляется таблица в которой указываются значения вариант $x_j$ и соответствующих им частот $n_j$ или относительных частот $\\bar{n}_i$.  \n",
        "$\\begin{array}{ccccc}\\mathrm{X} & \\mathrm{X}_1 & \\mathrm{X}_2 & \\ldots & \\mathrm{X}_{\\mathrm{k}} \\\\ N & n_1 & n_2 & \\ldots & n_{\\mathrm{k}} \\\\ \\bar{n} & \\bar{n}_1 & \\bar{n}_2 & \\ldots & \\bar{n}_k\\end{array}$  \n",
        "$k$ - количество вариант.  \n",
        "$n_i$ - частота повторения варианты в выборке.  \n",
        "$\\bar{n}_i=\\frac{n_i}{N}$ - относительная частота появления варианты в выборке.  \n",
        "${N}$ - объем выборки.  \n",
        "#### Построение интервального ряда\n",
        "Если количество вариант $K$ достаточно велико, то необходимо разделять вариационный ряд на интервалы. В этом случае ряд называется интервальным. Количество интервалов $k$ зависит от объема выборки $N$ и может быть вычислено по формуле Стерджесса:\n",
        "$$\n",
        "k=1+3.31 \\cdot \\lg N\n",
        "$$\n",
        "Полученное значение округляется до целого.\n",
        "Рекомендуется выбирать нечетное количество интервалов. Затем вычисляется ширина интервала $h$ по формуле:\n",
        "$$\n",
        "h=\\frac{x_{\\max }-x_{\\min }}{k}\n",
        "$$\n",
        "#### Построение интервального ряда\n",
        "Определяют гранищы интервалов:\n",
        "$$\n",
        "\\left[x_{\\min }+(i-1) \\cdot h ; x_{\\min }+i \\cdot h\\right), i=1,2, \\ldots, k-1\n",
        "$$\n",
        "где $i$-номер интервала.   \n",
        "Последний интервал определяется по формуле:\n",
        "$$\n",
        "\\left[x_{\\min }+(k-1) \\cdot h ; x_{\\min }+k \\cdot h\\right]\n",
        "$$\n",
        "Затем подсчитывают частоту попадания значений вариант в интервалы и вычисляют середины интервалов $\\tilde{x}_i, i=1, k$. \n",
        "#### Построение полигона частот\n",
        "Полигон частот – это ломаная, соединяющая точки $(x_1, n_1), (x_2, n_2),..., (x_k, n_k)$, где $x_i$ – это варианты или наблюдаемые значения, а $n_i$ – частота вариантов.  \n",
        "Существует также полигон относительных частот, представляющий собой ломаную, которая образуется при соединении точек $(x_1, \\bar{n}_1), (x_2, \\bar{n}_2),..., (x_k, \\bar{n}_k)$.  \n",
        "#### Построение гистограммы\n",
        "Гистограммой частот называют ступенчатую фигуру, состоящую из прямоугольников, основаниями которых служат частичные интервалы длиною $h_i$, а высоты (в случае равных интервалов) должны быть пропорциональны частотам. При построении гистограммы с неравными интервалами по оси ординат наносят не частоты, а плотность частоты $\\frac{n_i}{h_i}$. Это необходимо сделать для устранения влияния величины интервала на распределение и иметь возможность сравнивать частоты.  \n",
        "В случае построения гистограммы относительных частот (гистограммы частостей) высоты в случае равных интегралов должны быть пропорциональны относительной частоте $\\bar{n}_i$, а в случае неравных интервалов высота равна плотности относительной частоты $\\frac{\\bar{n}_i}{h_i}$.\n",
        "#### Эмпирическая функция распределения\n",
        "Эмпирической функцией распределения (функцией распределения выборки) называют функцию $F^*(x)$, определяющую для каждого значения $x$ относительную частоту события $X<x$.  \n",
        "График $F^*(x)$ представляет собой лестничный график, длина каждой ступеньки которого равна длине соответствующего интервала, а высота - отношению накопленной частоты до середины этого интервала к объему выборки, т.е.\n",
        "$$\n",
        "F^*\\left(\\tilde{x}_i\\right)=\\frac{m_i^{нак}}{N} ; m_i^{\\text {нак }}=\\sum_{j=1}^{i-1} m_j ; i=1,2, \\ldots, k\n",
        "$$"
      ],
      "metadata": {
        "id": "7pzufqj5i7zv"
      }
    },
    {
      "cell_type": "markdown",
      "source": [
        "# Выполнение работы"
      ],
      "metadata": {
        "id": "ZegolGBd5ceC"
      }
    },
    {
      "cell_type": "markdown",
      "source": [
        "Для выполнения работы возьмем язык программирования Python из-за удобных библиотек, подходящих для выполнения задания.  \n",
        "Возьмем двумерную генеральную совокупность, отражающую зависимость между iq и средним баллом студента. Первоисточник представлен на сайте [Kaggle]( https://www.kaggle.com/datasets/kuchhbhi/cpga-iq-placement).  \n",
        "Из генеральной совокупности, путем отбора первых 95 значений, сформируем выборку.  "
      ],
      "metadata": {
        "id": "_U4Tv3jGADD_"
      }
    },
    {
      "cell_type": "code",
      "source": [
        "from IPython.display import Javascript\n",
        "def resize_colab_cell():\n",
        "  display(Javascript('google.colab.output.setIframeHeight(0, true, {maxHeight: 300})'))\n",
        "get_ipython().events.register('pre_run_cell', resize_colab_cell)"
      ],
      "metadata": {
        "id": "MjMBE1IPK9li"
      },
      "execution_count": 2,
      "outputs": []
    },
    {
      "cell_type": "code",
      "source": [
        "import pandas as pd\n",
        "import numpy as np\n",
        "from google.colab import files\n",
        "\n",
        "files.upload()\n",
        "df = pd.read_csv('student_clustering.csv')\n",
        "\n",
        "print(df.to_markdown())"
      ],
      "metadata": {
        "colab": {
          "base_uri": "https://localhost:8080/",
          "height": 300
        },
        "id": "RX1CSEvUDKxO",
        "outputId": "93cfcdd5-5cb4-4fe0-c685-24b7233d6c3c"
      },
      "execution_count": 3,
      "outputs": [
        {
          "output_type": "display_data",
          "data": {
            "text/plain": [
              "<IPython.core.display.Javascript object>"
            ],
            "application/javascript": [
              "google.colab.output.setIframeHeight(0, true, {maxHeight: 300})"
            ]
          },
          "metadata": {}
        },
        {
          "output_type": "display_data",
          "data": {
            "text/plain": [
              "<IPython.core.display.HTML object>"
            ],
            "text/html": [
              "\n",
              "     <input type=\"file\" id=\"files-37966696-d26f-41b3-a5e7-39ad08c63101\" name=\"files[]\" multiple disabled\n",
              "        style=\"border:none\" />\n",
              "     <output id=\"result-37966696-d26f-41b3-a5e7-39ad08c63101\">\n",
              "      Upload widget is only available when the cell has been executed in the\n",
              "      current browser session. Please rerun this cell to enable.\n",
              "      </output>\n",
              "      <script>// Copyright 2017 Google LLC\n",
              "//\n",
              "// Licensed under the Apache License, Version 2.0 (the \"License\");\n",
              "// you may not use this file except in compliance with the License.\n",
              "// You may obtain a copy of the License at\n",
              "//\n",
              "//      http://www.apache.org/licenses/LICENSE-2.0\n",
              "//\n",
              "// Unless required by applicable law or agreed to in writing, software\n",
              "// distributed under the License is distributed on an \"AS IS\" BASIS,\n",
              "// WITHOUT WARRANTIES OR CONDITIONS OF ANY KIND, either express or implied.\n",
              "// See the License for the specific language governing permissions and\n",
              "// limitations under the License.\n",
              "\n",
              "/**\n",
              " * @fileoverview Helpers for google.colab Python module.\n",
              " */\n",
              "(function(scope) {\n",
              "function span(text, styleAttributes = {}) {\n",
              "  const element = document.createElement('span');\n",
              "  element.textContent = text;\n",
              "  for (const key of Object.keys(styleAttributes)) {\n",
              "    element.style[key] = styleAttributes[key];\n",
              "  }\n",
              "  return element;\n",
              "}\n",
              "\n",
              "// Max number of bytes which will be uploaded at a time.\n",
              "const MAX_PAYLOAD_SIZE = 100 * 1024;\n",
              "\n",
              "function _uploadFiles(inputId, outputId) {\n",
              "  const steps = uploadFilesStep(inputId, outputId);\n",
              "  const outputElement = document.getElementById(outputId);\n",
              "  // Cache steps on the outputElement to make it available for the next call\n",
              "  // to uploadFilesContinue from Python.\n",
              "  outputElement.steps = steps;\n",
              "\n",
              "  return _uploadFilesContinue(outputId);\n",
              "}\n",
              "\n",
              "// This is roughly an async generator (not supported in the browser yet),\n",
              "// where there are multiple asynchronous steps and the Python side is going\n",
              "// to poll for completion of each step.\n",
              "// This uses a Promise to block the python side on completion of each step,\n",
              "// then passes the result of the previous step as the input to the next step.\n",
              "function _uploadFilesContinue(outputId) {\n",
              "  const outputElement = document.getElementById(outputId);\n",
              "  const steps = outputElement.steps;\n",
              "\n",
              "  const next = steps.next(outputElement.lastPromiseValue);\n",
              "  return Promise.resolve(next.value.promise).then((value) => {\n",
              "    // Cache the last promise value to make it available to the next\n",
              "    // step of the generator.\n",
              "    outputElement.lastPromiseValue = value;\n",
              "    return next.value.response;\n",
              "  });\n",
              "}\n",
              "\n",
              "/**\n",
              " * Generator function which is called between each async step of the upload\n",
              " * process.\n",
              " * @param {string} inputId Element ID of the input file picker element.\n",
              " * @param {string} outputId Element ID of the output display.\n",
              " * @return {!Iterable<!Object>} Iterable of next steps.\n",
              " */\n",
              "function* uploadFilesStep(inputId, outputId) {\n",
              "  const inputElement = document.getElementById(inputId);\n",
              "  inputElement.disabled = false;\n",
              "\n",
              "  const outputElement = document.getElementById(outputId);\n",
              "  outputElement.innerHTML = '';\n",
              "\n",
              "  const pickedPromise = new Promise((resolve) => {\n",
              "    inputElement.addEventListener('change', (e) => {\n",
              "      resolve(e.target.files);\n",
              "    });\n",
              "  });\n",
              "\n",
              "  const cancel = document.createElement('button');\n",
              "  inputElement.parentElement.appendChild(cancel);\n",
              "  cancel.textContent = 'Cancel upload';\n",
              "  const cancelPromise = new Promise((resolve) => {\n",
              "    cancel.onclick = () => {\n",
              "      resolve(null);\n",
              "    };\n",
              "  });\n",
              "\n",
              "  // Wait for the user to pick the files.\n",
              "  const files = yield {\n",
              "    promise: Promise.race([pickedPromise, cancelPromise]),\n",
              "    response: {\n",
              "      action: 'starting',\n",
              "    }\n",
              "  };\n",
              "\n",
              "  cancel.remove();\n",
              "\n",
              "  // Disable the input element since further picks are not allowed.\n",
              "  inputElement.disabled = true;\n",
              "\n",
              "  if (!files) {\n",
              "    return {\n",
              "      response: {\n",
              "        action: 'complete',\n",
              "      }\n",
              "    };\n",
              "  }\n",
              "\n",
              "  for (const file of files) {\n",
              "    const li = document.createElement('li');\n",
              "    li.append(span(file.name, {fontWeight: 'bold'}));\n",
              "    li.append(span(\n",
              "        `(${file.type || 'n/a'}) - ${file.size} bytes, ` +\n",
              "        `last modified: ${\n",
              "            file.lastModifiedDate ? file.lastModifiedDate.toLocaleDateString() :\n",
              "                                    'n/a'} - `));\n",
              "    const percent = span('0% done');\n",
              "    li.appendChild(percent);\n",
              "\n",
              "    outputElement.appendChild(li);\n",
              "\n",
              "    const fileDataPromise = new Promise((resolve) => {\n",
              "      const reader = new FileReader();\n",
              "      reader.onload = (e) => {\n",
              "        resolve(e.target.result);\n",
              "      };\n",
              "      reader.readAsArrayBuffer(file);\n",
              "    });\n",
              "    // Wait for the data to be ready.\n",
              "    let fileData = yield {\n",
              "      promise: fileDataPromise,\n",
              "      response: {\n",
              "        action: 'continue',\n",
              "      }\n",
              "    };\n",
              "\n",
              "    // Use a chunked sending to avoid message size limits. See b/62115660.\n",
              "    let position = 0;\n",
              "    do {\n",
              "      const length = Math.min(fileData.byteLength - position, MAX_PAYLOAD_SIZE);\n",
              "      const chunk = new Uint8Array(fileData, position, length);\n",
              "      position += length;\n",
              "\n",
              "      const base64 = btoa(String.fromCharCode.apply(null, chunk));\n",
              "      yield {\n",
              "        response: {\n",
              "          action: 'append',\n",
              "          file: file.name,\n",
              "          data: base64,\n",
              "        },\n",
              "      };\n",
              "\n",
              "      let percentDone = fileData.byteLength === 0 ?\n",
              "          100 :\n",
              "          Math.round((position / fileData.byteLength) * 100);\n",
              "      percent.textContent = `${percentDone}% done`;\n",
              "\n",
              "    } while (position < fileData.byteLength);\n",
              "  }\n",
              "\n",
              "  // All done.\n",
              "  yield {\n",
              "    response: {\n",
              "      action: 'complete',\n",
              "    }\n",
              "  };\n",
              "}\n",
              "\n",
              "scope.google = scope.google || {};\n",
              "scope.google.colab = scope.google.colab || {};\n",
              "scope.google.colab._files = {\n",
              "  _uploadFiles,\n",
              "  _uploadFilesContinue,\n",
              "};\n",
              "})(self);\n",
              "</script> "
            ]
          },
          "metadata": {}
        },
        {
          "output_type": "stream",
          "name": "stdout",
          "text": [
            "Saving student_clustering.csv to student_clustering.csv\n",
            "|    |   cgpa |   iq |\n",
            "|---:|-------:|-----:|\n",
            "|  0 |   5.13 |   88 |\n",
            "|  1 |   5.9  |  113 |\n",
            "|  2 |   8.36 |   93 |\n",
            "|  3 |   8.27 |   97 |\n",
            "|  4 |   5.45 |  110 |\n",
            "|  5 |   5.88 |  109 |\n",
            "|  6 |   8.41 |   98 |\n",
            "|  7 |   8.8  |  115 |\n",
            "|  8 |   5.79 |  110 |\n",
            "|  9 |   8.09 |   94 |\n",
            "| 10 |   4.6  |   86 |\n",
            "| 11 |   6.1  |  110 |\n",
            "| 12 |   8.16 |   97 |\n",
            "| 13 |   5    |   88 |\n",
            "| 14 |   5.71 |  108 |\n",
            "| 15 |   8.31 |   95 |\n",
            "| 16 |   5.5  |  111 |\n",
            "| 17 |   7.87 |   91 |\n",
            "| 18 |   6.05 |  111 |\n",
            "| 19 |   5.84 |  113 |\n",
            "| 20 |   7.47 |   98 |\n",
            "| 21 |   4.86 |   86 |\n",
            "| 22 |   7.78 |   92 |\n",
            "| 23 |   4.78 |   87 |\n",
            "| 24 |   4.96 |   88 |\n",
            "| 25 |   7.93 |   98 |\n",
            "| 26 |   4.86 |   87 |\n",
            "| 27 |   9.18 |  119 |\n",
            "| 28 |   8.04 |   94 |\n",
            "| 29 |   5.43 |  106 |\n",
            "| 30 |   8.86 |  117 |\n",
            "| 31 |   6.01 |  112 |\n",
            "| 32 |   8.83 |  118 |\n",
            "| 33 |   5.32 |  106 |\n",
            "| 34 |   7.77 |   96 |\n",
            "| 35 |   8    |   96 |\n",
            "| 36 |   8.56 |  118 |\n",
            "| 37 |   5.91 |  108 |\n",
            "| 38 |   5.44 |   84 |\n",
            "| 39 |   5.57 |  113 |\n",
            "| 40 |   5.34 |   85 |\n",
            "| 41 |   8.43 |   96 |\n",
            "| 42 |   8.02 |   93 |\n",
            "| 43 |   5.31 |   86 |\n",
            "| 44 |   8.96 |  116 |\n",
            "| 45 |   8.78 |  116 |\n",
            "| 46 |   8.14 |   94 |\n",
            "| 47 |   6.4  |  108 |\n",
            "| 48 |   8.45 |  119 |\n",
            "| 49 |   5.67 |  109 |\n",
            "| 50 |   5.14 |   83 |\n",
            "| 51 |   4.95 |   86 |\n",
            "| 52 |   8.79 |  116 |\n",
            "| 53 |   8.12 |   96 |\n",
            "| 54 |   8.81 |  115 |\n",
            "| 55 |   6.05 |  108 |\n",
            "| 56 |   5.85 |  111 |\n",
            "| 57 |   8.88 |  115 |\n",
            "| 58 |   5.87 |  109 |\n",
            "| 59 |   9.07 |  117 |\n",
            "| 60 |   6.02 |  104 |\n",
            "| 61 |   8.34 |   96 |\n",
            "| 62 |   8.65 |   95 |\n",
            "| 63 |   8.92 |  118 |\n",
            "| 64 |   5.21 |   87 |\n",
            "| 65 |   8.75 |  113 |\n",
            "| 66 |   8.53 |   93 |\n",
            "| 67 |   4.91 |   85 |\n",
            "| 68 |   5.77 |  111 |\n",
            "| 69 |   8.29 |   95 |\n",
            "| 70 |   6.06 |  109 |\n",
            "| 71 |   8.71 |  116 |\n",
            "| 72 |   7.93 |   94 |\n",
            "| 73 |   5.28 |   83 |\n",
            "| 74 |   5.55 |  109 |\n",
            "| 75 |   8.86 |  118 |\n",
            "| 76 |   5.81 |  112 |\n",
            "| 77 |   9.3  |  117 |\n",
            "| 78 |   5.15 |   88 |\n",
            "| 79 |   8.72 |   92 |\n",
            "| 80 |   8.14 |   91 |\n",
            "| 81 |   9.01 |  121 |\n",
            "| 82 |   5.47 |  111 |\n",
            "| 83 |   4.9  |   85 |\n",
            "| 84 |   8.97 |  116 |\n",
            "| 85 |   4.89 |   88 |\n",
            "| 86 |   9    |  117 |\n",
            "| 87 |   5.74 |  109 |\n",
            "| 88 |   8.76 |  117 |\n",
            "| 89 |   5.8  |  108 |\n",
            "| 90 |   8.78 |  117 |\n",
            "| 91 |   9.23 |  114 |\n",
            "| 92 |   8.2  |   92 |\n",
            "| 93 |   5.05 |   86 |\n",
            "| 94 |   8.67 |   95 |\n"
          ]
        }
      ]
    },
    {
      "cell_type": "markdown",
      "source": [
        "# Выборка для IQ студентов (iq)"
      ],
      "metadata": {
        "id": "NvNXFTm6m1Vl"
      }
    },
    {
      "cell_type": "markdown",
      "source": [
        "Выборка относительно переменной iq представлена ниже."
      ],
      "metadata": {
        "id": "Vv7Wor7grKoo"
      }
    },
    {
      "cell_type": "code",
      "source": [
        "df_iq = df.drop('cgpa', axis=1)\n",
        "print(df_iq.to_markdown())"
      ],
      "metadata": {
        "colab": {
          "base_uri": "https://localhost:8080/",
          "height": 300
        },
        "id": "-fkC0BlLm7e4",
        "outputId": "d69acef5-565c-40f2-aada-b6cb2383e04d"
      },
      "execution_count": 4,
      "outputs": [
        {
          "output_type": "display_data",
          "data": {
            "text/plain": [
              "<IPython.core.display.Javascript object>"
            ],
            "application/javascript": [
              "google.colab.output.setIframeHeight(0, true, {maxHeight: 300})"
            ]
          },
          "metadata": {}
        },
        {
          "output_type": "stream",
          "name": "stdout",
          "text": [
            "|    |   iq |\n",
            "|---:|-----:|\n",
            "|  0 |   88 |\n",
            "|  1 |  113 |\n",
            "|  2 |   93 |\n",
            "|  3 |   97 |\n",
            "|  4 |  110 |\n",
            "|  5 |  109 |\n",
            "|  6 |   98 |\n",
            "|  7 |  115 |\n",
            "|  8 |  110 |\n",
            "|  9 |   94 |\n",
            "| 10 |   86 |\n",
            "| 11 |  110 |\n",
            "| 12 |   97 |\n",
            "| 13 |   88 |\n",
            "| 14 |  108 |\n",
            "| 15 |   95 |\n",
            "| 16 |  111 |\n",
            "| 17 |   91 |\n",
            "| 18 |  111 |\n",
            "| 19 |  113 |\n",
            "| 20 |   98 |\n",
            "| 21 |   86 |\n",
            "| 22 |   92 |\n",
            "| 23 |   87 |\n",
            "| 24 |   88 |\n",
            "| 25 |   98 |\n",
            "| 26 |   87 |\n",
            "| 27 |  119 |\n",
            "| 28 |   94 |\n",
            "| 29 |  106 |\n",
            "| 30 |  117 |\n",
            "| 31 |  112 |\n",
            "| 32 |  118 |\n",
            "| 33 |  106 |\n",
            "| 34 |   96 |\n",
            "| 35 |   96 |\n",
            "| 36 |  118 |\n",
            "| 37 |  108 |\n",
            "| 38 |   84 |\n",
            "| 39 |  113 |\n",
            "| 40 |   85 |\n",
            "| 41 |   96 |\n",
            "| 42 |   93 |\n",
            "| 43 |   86 |\n",
            "| 44 |  116 |\n",
            "| 45 |  116 |\n",
            "| 46 |   94 |\n",
            "| 47 |  108 |\n",
            "| 48 |  119 |\n",
            "| 49 |  109 |\n",
            "| 50 |   83 |\n",
            "| 51 |   86 |\n",
            "| 52 |  116 |\n",
            "| 53 |   96 |\n",
            "| 54 |  115 |\n",
            "| 55 |  108 |\n",
            "| 56 |  111 |\n",
            "| 57 |  115 |\n",
            "| 58 |  109 |\n",
            "| 59 |  117 |\n",
            "| 60 |  104 |\n",
            "| 61 |   96 |\n",
            "| 62 |   95 |\n",
            "| 63 |  118 |\n",
            "| 64 |   87 |\n",
            "| 65 |  113 |\n",
            "| 66 |   93 |\n",
            "| 67 |   85 |\n",
            "| 68 |  111 |\n",
            "| 69 |   95 |\n",
            "| 70 |  109 |\n",
            "| 71 |  116 |\n",
            "| 72 |   94 |\n",
            "| 73 |   83 |\n",
            "| 74 |  109 |\n",
            "| 75 |  118 |\n",
            "| 76 |  112 |\n",
            "| 77 |  117 |\n",
            "| 78 |   88 |\n",
            "| 79 |   92 |\n",
            "| 80 |   91 |\n",
            "| 81 |  121 |\n",
            "| 82 |  111 |\n",
            "| 83 |   85 |\n",
            "| 84 |  116 |\n",
            "| 85 |   88 |\n",
            "| 86 |  117 |\n",
            "| 87 |  109 |\n",
            "| 88 |  117 |\n",
            "| 89 |  108 |\n",
            "| 90 |  117 |\n",
            "| 91 |  114 |\n",
            "| 92 |   92 |\n",
            "| 93 |   86 |\n",
            "| 94 |   95 |\n"
          ]
        }
      ]
    },
    {
      "cell_type": "markdown",
      "source": [
        "# Ранжированный ряд"
      ],
      "metadata": {
        "id": "cnTPsUymnz-E"
      }
    },
    {
      "cell_type": "markdown",
      "source": [
        "Преобразование выборки в ранжированный ряд представлен ниже."
      ],
      "metadata": {
        "id": "UR9PK1tmrOkI"
      }
    },
    {
      "cell_type": "code",
      "source": [
        "df_iq = df_iq.sort_values(by=['iq'], ignore_index = True)\n",
        "print(df_iq.to_markdown())"
      ],
      "metadata": {
        "colab": {
          "base_uri": "https://localhost:8080/",
          "height": 300
        },
        "id": "QX3cAClsn3be",
        "outputId": "357c0507-0866-4e41-d6e9-46b2931da8f1"
      },
      "execution_count": 5,
      "outputs": [
        {
          "output_type": "display_data",
          "data": {
            "text/plain": [
              "<IPython.core.display.Javascript object>"
            ],
            "application/javascript": [
              "google.colab.output.setIframeHeight(0, true, {maxHeight: 300})"
            ]
          },
          "metadata": {}
        },
        {
          "output_type": "stream",
          "name": "stdout",
          "text": [
            "|    |   iq |\n",
            "|---:|-----:|\n",
            "|  0 |   83 |\n",
            "|  1 |   83 |\n",
            "|  2 |   84 |\n",
            "|  3 |   85 |\n",
            "|  4 |   85 |\n",
            "|  5 |   85 |\n",
            "|  6 |   86 |\n",
            "|  7 |   86 |\n",
            "|  8 |   86 |\n",
            "|  9 |   86 |\n",
            "| 10 |   86 |\n",
            "| 11 |   87 |\n",
            "| 12 |   87 |\n",
            "| 13 |   87 |\n",
            "| 14 |   88 |\n",
            "| 15 |   88 |\n",
            "| 16 |   88 |\n",
            "| 17 |   88 |\n",
            "| 18 |   88 |\n",
            "| 19 |   91 |\n",
            "| 20 |   91 |\n",
            "| 21 |   92 |\n",
            "| 22 |   92 |\n",
            "| 23 |   92 |\n",
            "| 24 |   93 |\n",
            "| 25 |   93 |\n",
            "| 26 |   93 |\n",
            "| 27 |   94 |\n",
            "| 28 |   94 |\n",
            "| 29 |   94 |\n",
            "| 30 |   94 |\n",
            "| 31 |   95 |\n",
            "| 32 |   95 |\n",
            "| 33 |   95 |\n",
            "| 34 |   95 |\n",
            "| 35 |   96 |\n",
            "| 36 |   96 |\n",
            "| 37 |   96 |\n",
            "| 38 |   96 |\n",
            "| 39 |   96 |\n",
            "| 40 |   97 |\n",
            "| 41 |   97 |\n",
            "| 42 |   98 |\n",
            "| 43 |   98 |\n",
            "| 44 |   98 |\n",
            "| 45 |  104 |\n",
            "| 46 |  106 |\n",
            "| 47 |  106 |\n",
            "| 48 |  108 |\n",
            "| 49 |  108 |\n",
            "| 50 |  108 |\n",
            "| 51 |  108 |\n",
            "| 52 |  108 |\n",
            "| 53 |  109 |\n",
            "| 54 |  109 |\n",
            "| 55 |  109 |\n",
            "| 56 |  109 |\n",
            "| 57 |  109 |\n",
            "| 58 |  109 |\n",
            "| 59 |  110 |\n",
            "| 60 |  110 |\n",
            "| 61 |  110 |\n",
            "| 62 |  111 |\n",
            "| 63 |  111 |\n",
            "| 64 |  111 |\n",
            "| 65 |  111 |\n",
            "| 66 |  111 |\n",
            "| 67 |  112 |\n",
            "| 68 |  112 |\n",
            "| 69 |  113 |\n",
            "| 70 |  113 |\n",
            "| 71 |  113 |\n",
            "| 72 |  113 |\n",
            "| 73 |  114 |\n",
            "| 74 |  115 |\n",
            "| 75 |  115 |\n",
            "| 76 |  115 |\n",
            "| 77 |  116 |\n",
            "| 78 |  116 |\n",
            "| 79 |  116 |\n",
            "| 80 |  116 |\n",
            "| 81 |  116 |\n",
            "| 82 |  117 |\n",
            "| 83 |  117 |\n",
            "| 84 |  117 |\n",
            "| 85 |  117 |\n",
            "| 86 |  117 |\n",
            "| 87 |  117 |\n",
            "| 88 |  118 |\n",
            "| 89 |  118 |\n",
            "| 90 |  118 |\n",
            "| 91 |  118 |\n",
            "| 92 |  119 |\n",
            "| 93 |  119 |\n",
            "| 94 |  121 |\n"
          ]
        }
      ]
    },
    {
      "cell_type": "markdown",
      "source": [
        "Из полученного ранжированного ряда можно сделать выводы, что минимальным значением IQ является 83, а максимальным значение 121."
      ],
      "metadata": {
        "id": "lTITeG24re38"
      }
    },
    {
      "cell_type": "markdown",
      "source": [
        "# Вариационный ряд"
      ],
      "metadata": {
        "id": "95xKzJ6Cn8h9"
      }
    },
    {
      "cell_type": "markdown",
      "source": [
        "Преобразование выборки в вариационный ряд представлен ниже."
      ],
      "metadata": {
        "id": "_VYvtOVGr-yc"
      }
    },
    {
      "cell_type": "code",
      "source": [
        "df_var_iq = pd.DataFrame(df_iq.groupby('iq').size()).reset_index()\n",
        "df_var_iq = df_var_iq.rename(columns={df_var_iq.columns[1]: 'Частота'})\n",
        "print(df_var_iq.to_markdown())"
      ],
      "metadata": {
        "colab": {
          "base_uri": "https://localhost:8080/",
          "height": 300
        },
        "id": "TpJQCxkVn_aL",
        "outputId": "7af82a33-d86b-44ce-f74b-305e86dfddce"
      },
      "execution_count": 6,
      "outputs": [
        {
          "output_type": "display_data",
          "data": {
            "text/plain": [
              "<IPython.core.display.Javascript object>"
            ],
            "application/javascript": [
              "google.colab.output.setIframeHeight(0, true, {maxHeight: 300})"
            ]
          },
          "metadata": {}
        },
        {
          "output_type": "stream",
          "name": "stdout",
          "text": [
            "|    |   iq |   Частота |\n",
            "|---:|-----:|----------:|\n",
            "|  0 |   83 |         2 |\n",
            "|  1 |   84 |         1 |\n",
            "|  2 |   85 |         3 |\n",
            "|  3 |   86 |         5 |\n",
            "|  4 |   87 |         3 |\n",
            "|  5 |   88 |         5 |\n",
            "|  6 |   91 |         2 |\n",
            "|  7 |   92 |         3 |\n",
            "|  8 |   93 |         3 |\n",
            "|  9 |   94 |         4 |\n",
            "| 10 |   95 |         4 |\n",
            "| 11 |   96 |         5 |\n",
            "| 12 |   97 |         2 |\n",
            "| 13 |   98 |         3 |\n",
            "| 14 |  104 |         1 |\n",
            "| 15 |  106 |         2 |\n",
            "| 16 |  108 |         5 |\n",
            "| 17 |  109 |         6 |\n",
            "| 18 |  110 |         3 |\n",
            "| 19 |  111 |         5 |\n",
            "| 20 |  112 |         2 |\n",
            "| 21 |  113 |         4 |\n",
            "| 22 |  114 |         1 |\n",
            "| 23 |  115 |         3 |\n",
            "| 24 |  116 |         5 |\n",
            "| 25 |  117 |         6 |\n",
            "| 26 |  118 |         4 |\n",
            "| 27 |  119 |         2 |\n",
            "| 28 |  121 |         1 |\n"
          ]
        }
      ]
    },
    {
      "cell_type": "markdown",
      "source": [
        "По полученному вариационному ряду можно сделать выводы, что чаще всего в выборке встречается значения 109 и 117, чьи частоты равняется 6. "
      ],
      "metadata": {
        "id": "yY6R6xoYsK4N"
      }
    },
    {
      "cell_type": "markdown",
      "source": [
        "# Интервальный ряд"
      ],
      "metadata": {
        "id": "FGjTtAyqszYW"
      }
    },
    {
      "cell_type": "markdown",
      "source": [
        "По формуле Стерджесса посчитаем количество интервалов:"
      ],
      "metadata": {
        "id": "s3Y3tCY2P29c"
      }
    },
    {
      "cell_type": "code",
      "source": [
        "import math\n",
        "k = np.floor(1 + 3.322 * math.log10(df_iq.size))\n",
        "print(k)"
      ],
      "metadata": {
        "colab": {
          "base_uri": "https://localhost:8080/",
          "height": 34
        },
        "id": "hrQkATmBs2Sp",
        "outputId": "efb7c447-4515-45c1-ba77-8ae523c28539"
      },
      "execution_count": 16,
      "outputs": [
        {
          "output_type": "display_data",
          "data": {
            "text/plain": [
              "<IPython.core.display.Javascript object>"
            ],
            "application/javascript": [
              "google.colab.output.setIframeHeight(0, true, {maxHeight: 300})"
            ]
          },
          "metadata": {}
        },
        {
          "output_type": "stream",
          "name": "stdout",
          "text": [
            "7.0\n"
          ]
        }
      ]
    },
    {
      "cell_type": "markdown",
      "source": [
        "Количество интервалов: 7"
      ],
      "metadata": {
        "id": "IasRhEcDPjiU"
      }
    },
    {
      "cell_type": "markdown",
      "source": [
        "Далее вычислим ширину интервала:"
      ],
      "metadata": {
        "id": "3QJNyxqLs85b"
      }
    },
    {
      "cell_type": "code",
      "source": [
        "max = df_iq['iq'].max()\n",
        "min = df_iq['iq'].min()\n",
        "h = (max - min)/k\n",
        "print(h)"
      ],
      "metadata": {
        "colab": {
          "base_uri": "https://localhost:8080/",
          "height": 34
        },
        "id": "UqQgHzDFtEoi",
        "outputId": "bc4c64fb-509f-43a0-ab02-76cee925c72e"
      },
      "execution_count": 17,
      "outputs": [
        {
          "output_type": "display_data",
          "data": {
            "text/plain": [
              "<IPython.core.display.Javascript object>"
            ],
            "application/javascript": [
              "google.colab.output.setIframeHeight(0, true, {maxHeight: 300})"
            ]
          },
          "metadata": {}
        },
        {
          "output_type": "stream",
          "name": "stdout",
          "text": [
            "5.428571428571429\n"
          ]
        }
      ]
    },
    {
      "cell_type": "markdown",
      "source": [
        "Определим границы интервалов:"
      ],
      "metadata": {
        "id": "HLUCBURKQPDZ"
      }
    },
    {
      "cell_type": "code",
      "source": [
        "borders = []\n",
        "for i in range(7):\n",
        "  borders.append(round((min+i*h), 3))\n",
        "\n",
        "borders.append(round((min+k*h), 3)) \n",
        "print(borders) \n"
      ],
      "metadata": {
        "colab": {
          "base_uri": "https://localhost:8080/",
          "height": 34
        },
        "id": "A5_7aWn_tMpJ",
        "outputId": "914464e7-0d60-4c69-d31d-53b1ed8484ff"
      },
      "execution_count": 90,
      "outputs": [
        {
          "output_type": "display_data",
          "data": {
            "text/plain": [
              "<IPython.core.display.Javascript object>"
            ],
            "application/javascript": [
              "google.colab.output.setIframeHeight(0, true, {maxHeight: 300})"
            ]
          },
          "metadata": {}
        },
        {
          "output_type": "stream",
          "name": "stdout",
          "text": [
            "[83.0, 88.429, 93.857, 99.286, 104.714, 110.143, 115.571, 121.0]\n"
          ]
        }
      ]
    },
    {
      "cell_type": "code",
      "source": [
        "bins = pd.cut(df_iq['iq'], bins=[borders[i] for i in range(7)], right=False)\n",
        "\n",
        "counts = pd.value_counts(bins, sort=False)\n",
        "\n",
        "last_interval = pd.Interval(borders[-2], borders[-1], closed='both')\n",
        "counts[last_interval] = len(df[(df['iq'] >= borders[-2]) & (df['iq'] <= borders[-1])])\n",
        "\n",
        "df_interval_iq = pd.DataFrame(counts).reset_index()\n",
        "df_interval_iq.columns = ['iq', 'Ni']\n",
        "print(df_interval_iq)\n",
        "print(type(df_interval_iq))"
      ],
      "metadata": {
        "colab": {
          "base_uri": "https://localhost:8080/",
          "height": 173
        },
        "id": "JOkgbTR_FDbf",
        "outputId": "babb20c0-54a6-401a-e4a1-d3ac351f7b4d"
      },
      "execution_count": 220,
      "outputs": [
        {
          "output_type": "display_data",
          "data": {
            "text/plain": [
              "<IPython.core.display.Javascript object>"
            ],
            "application/javascript": [
              "google.colab.output.setIframeHeight(0, true, {maxHeight: 300})"
            ]
          },
          "metadata": {}
        },
        {
          "output_type": "stream",
          "name": "stdout",
          "text": [
            "                   iq  Ni\n",
            "0      [83.0, 88.429)  19\n",
            "1    [88.429, 93.857)   8\n",
            "2    [93.857, 99.286)  18\n",
            "3   [99.286, 104.714)   1\n",
            "4  [104.714, 110.143)  16\n",
            "5  [110.143, 115.571)  15\n",
            "6    [115.571, 121.0]  18\n",
            "<class 'pandas.core.frame.DataFrame'>\n"
          ]
        }
      ]
    },
    {
      "cell_type": "markdown",
      "source": [
        "Преобразование выборки в интервальный ряд представлен ниже в виде таблицы."
      ],
      "metadata": {
        "id": "mA92OPa7tR6_"
      }
    },
    {
      "cell_type": "code",
      "source": [
        "df_interval_iq.insert(1, 'Xi', df_interval_iq['iq'].apply(lambda x: (x.left + x.right)/2))\n",
        "df_interval_iq['Pi'] = df_interval_iq['Ni'] / df_iq.size\n",
        "df_interval_iq['Ni_sum'] = df_interval_iq['Ni'].cumsum()\n",
        "df_interval_iq['Pi_sum'] = df_interval_iq['Pi'].cumsum()\n",
        "\n",
        "df_interval_iq"
      ],
      "metadata": {
        "colab": {
          "base_uri": "https://localhost:8080/",
          "height": 269
        },
        "id": "BNtXxs0-tV9E",
        "outputId": "237bf013-842f-44b0-f637-3a58929619cf"
      },
      "execution_count": 224,
      "outputs": [
        {
          "output_type": "display_data",
          "data": {
            "text/plain": [
              "<IPython.core.display.Javascript object>"
            ],
            "application/javascript": [
              "google.colab.output.setIframeHeight(0, true, {maxHeight: 300})"
            ]
          },
          "metadata": {}
        },
        {
          "output_type": "execute_result",
          "data": {
            "text/plain": [
              "                   iq        Xi  Ni        Pi  Ni_sum    Pi_sum\n",
              "0      [83.0, 88.429)   85.7145  19  0.200000      19  0.200000\n",
              "1    [88.429, 93.857)   91.1430   8  0.084211      27  0.284211\n",
              "2    [93.857, 99.286)   96.5715  18  0.189474      45  0.473684\n",
              "3   [99.286, 104.714)  102.0000   1  0.010526      46  0.484211\n",
              "4  [104.714, 110.143)  107.4285  16  0.168421      62  0.652632\n",
              "5  [110.143, 115.571)  112.8570  15  0.157895      77  0.810526\n",
              "6    [115.571, 121.0]  118.2855  18  0.189474      95  1.000000"
            ],
            "text/html": [
              "\n",
              "  <div id=\"df-a7d247db-0a43-455f-9762-513e1630d8df\">\n",
              "    <div class=\"colab-df-container\">\n",
              "      <div>\n",
              "<style scoped>\n",
              "    .dataframe tbody tr th:only-of-type {\n",
              "        vertical-align: middle;\n",
              "    }\n",
              "\n",
              "    .dataframe tbody tr th {\n",
              "        vertical-align: top;\n",
              "    }\n",
              "\n",
              "    .dataframe thead th {\n",
              "        text-align: right;\n",
              "    }\n",
              "</style>\n",
              "<table border=\"1\" class=\"dataframe\">\n",
              "  <thead>\n",
              "    <tr style=\"text-align: right;\">\n",
              "      <th></th>\n",
              "      <th>iq</th>\n",
              "      <th>Xi</th>\n",
              "      <th>Ni</th>\n",
              "      <th>Pi</th>\n",
              "      <th>Ni_sum</th>\n",
              "      <th>Pi_sum</th>\n",
              "    </tr>\n",
              "  </thead>\n",
              "  <tbody>\n",
              "    <tr>\n",
              "      <th>0</th>\n",
              "      <td>[83.0, 88.429)</td>\n",
              "      <td>85.7145</td>\n",
              "      <td>19</td>\n",
              "      <td>0.200000</td>\n",
              "      <td>19</td>\n",
              "      <td>0.200000</td>\n",
              "    </tr>\n",
              "    <tr>\n",
              "      <th>1</th>\n",
              "      <td>[88.429, 93.857)</td>\n",
              "      <td>91.1430</td>\n",
              "      <td>8</td>\n",
              "      <td>0.084211</td>\n",
              "      <td>27</td>\n",
              "      <td>0.284211</td>\n",
              "    </tr>\n",
              "    <tr>\n",
              "      <th>2</th>\n",
              "      <td>[93.857, 99.286)</td>\n",
              "      <td>96.5715</td>\n",
              "      <td>18</td>\n",
              "      <td>0.189474</td>\n",
              "      <td>45</td>\n",
              "      <td>0.473684</td>\n",
              "    </tr>\n",
              "    <tr>\n",
              "      <th>3</th>\n",
              "      <td>[99.286, 104.714)</td>\n",
              "      <td>102.0000</td>\n",
              "      <td>1</td>\n",
              "      <td>0.010526</td>\n",
              "      <td>46</td>\n",
              "      <td>0.484211</td>\n",
              "    </tr>\n",
              "    <tr>\n",
              "      <th>4</th>\n",
              "      <td>[104.714, 110.143)</td>\n",
              "      <td>107.4285</td>\n",
              "      <td>16</td>\n",
              "      <td>0.168421</td>\n",
              "      <td>62</td>\n",
              "      <td>0.652632</td>\n",
              "    </tr>\n",
              "    <tr>\n",
              "      <th>5</th>\n",
              "      <td>[110.143, 115.571)</td>\n",
              "      <td>112.8570</td>\n",
              "      <td>15</td>\n",
              "      <td>0.157895</td>\n",
              "      <td>77</td>\n",
              "      <td>0.810526</td>\n",
              "    </tr>\n",
              "    <tr>\n",
              "      <th>6</th>\n",
              "      <td>[115.571, 121.0]</td>\n",
              "      <td>118.2855</td>\n",
              "      <td>18</td>\n",
              "      <td>0.189474</td>\n",
              "      <td>95</td>\n",
              "      <td>1.000000</td>\n",
              "    </tr>\n",
              "  </tbody>\n",
              "</table>\n",
              "</div>\n",
              "      <button class=\"colab-df-convert\" onclick=\"convertToInteractive('df-a7d247db-0a43-455f-9762-513e1630d8df')\"\n",
              "              title=\"Convert this dataframe to an interactive table.\"\n",
              "              style=\"display:none;\">\n",
              "        \n",
              "  <svg xmlns=\"http://www.w3.org/2000/svg\" height=\"24px\"viewBox=\"0 0 24 24\"\n",
              "       width=\"24px\">\n",
              "    <path d=\"M0 0h24v24H0V0z\" fill=\"none\"/>\n",
              "    <path d=\"M18.56 5.44l.94 2.06.94-2.06 2.06-.94-2.06-.94-.94-2.06-.94 2.06-2.06.94zm-11 1L8.5 8.5l.94-2.06 2.06-.94-2.06-.94L8.5 2.5l-.94 2.06-2.06.94zm10 10l.94 2.06.94-2.06 2.06-.94-2.06-.94-.94-2.06-.94 2.06-2.06.94z\"/><path d=\"M17.41 7.96l-1.37-1.37c-.4-.4-.92-.59-1.43-.59-.52 0-1.04.2-1.43.59L10.3 9.45l-7.72 7.72c-.78.78-.78 2.05 0 2.83L4 21.41c.39.39.9.59 1.41.59.51 0 1.02-.2 1.41-.59l7.78-7.78 2.81-2.81c.8-.78.8-2.07 0-2.86zM5.41 20L4 18.59l7.72-7.72 1.47 1.35L5.41 20z\"/>\n",
              "  </svg>\n",
              "      </button>\n",
              "      \n",
              "  <style>\n",
              "    .colab-df-container {\n",
              "      display:flex;\n",
              "      flex-wrap:wrap;\n",
              "      gap: 12px;\n",
              "    }\n",
              "\n",
              "    .colab-df-convert {\n",
              "      background-color: #E8F0FE;\n",
              "      border: none;\n",
              "      border-radius: 50%;\n",
              "      cursor: pointer;\n",
              "      display: none;\n",
              "      fill: #1967D2;\n",
              "      height: 32px;\n",
              "      padding: 0 0 0 0;\n",
              "      width: 32px;\n",
              "    }\n",
              "\n",
              "    .colab-df-convert:hover {\n",
              "      background-color: #E2EBFA;\n",
              "      box-shadow: 0px 1px 2px rgba(60, 64, 67, 0.3), 0px 1px 3px 1px rgba(60, 64, 67, 0.15);\n",
              "      fill: #174EA6;\n",
              "    }\n",
              "\n",
              "    [theme=dark] .colab-df-convert {\n",
              "      background-color: #3B4455;\n",
              "      fill: #D2E3FC;\n",
              "    }\n",
              "\n",
              "    [theme=dark] .colab-df-convert:hover {\n",
              "      background-color: #434B5C;\n",
              "      box-shadow: 0px 1px 3px 1px rgba(0, 0, 0, 0.15);\n",
              "      filter: drop-shadow(0px 1px 2px rgba(0, 0, 0, 0.3));\n",
              "      fill: #FFFFFF;\n",
              "    }\n",
              "  </style>\n",
              "\n",
              "      <script>\n",
              "        const buttonEl =\n",
              "          document.querySelector('#df-a7d247db-0a43-455f-9762-513e1630d8df button.colab-df-convert');\n",
              "        buttonEl.style.display =\n",
              "          google.colab.kernel.accessAllowed ? 'block' : 'none';\n",
              "\n",
              "        async function convertToInteractive(key) {\n",
              "          const element = document.querySelector('#df-a7d247db-0a43-455f-9762-513e1630d8df');\n",
              "          const dataTable =\n",
              "            await google.colab.kernel.invokeFunction('convertToInteractive',\n",
              "                                                     [key], {});\n",
              "          if (!dataTable) return;\n",
              "\n",
              "          const docLinkHtml = 'Like what you see? Visit the ' +\n",
              "            '<a target=\"_blank\" href=https://colab.research.google.com/notebooks/data_table.ipynb>data table notebook</a>'\n",
              "            + ' to learn more about interactive tables.';\n",
              "          element.innerHTML = '';\n",
              "          dataTable['output_type'] = 'display_data';\n",
              "          await google.colab.output.renderOutput(dataTable, element);\n",
              "          const docLink = document.createElement('div');\n",
              "          docLink.innerHTML = docLinkHtml;\n",
              "          element.appendChild(docLink);\n",
              "        }\n",
              "      </script>\n",
              "    </div>\n",
              "  </div>\n",
              "  "
            ]
          },
          "metadata": {},
          "execution_count": 224
        }
      ]
    },
    {
      "cell_type": "markdown",
      "source": [
        "По полученному интервальному ряду можно сделать выводы, что больше всего значений находятся в интервале [83.0, 88.429).\n",
        "В сумме абсолютные частоты равняются 95, что равняется объемку выборки, а сумма относительных частот равняется 1. \n"
      ],
      "metadata": {
        "id": "wGjdJz72te6h"
      }
    },
    {
      "cell_type": "markdown",
      "source": [
        "# Полигон для абсолютных частот"
      ],
      "metadata": {
        "id": "XetWEJ7ksfbq"
      }
    },
    {
      "cell_type": "code",
      "source": [
        "import matplotlib.pyplot as plt\n",
        "\n",
        "fig, ax = plt.subplots()\n",
        "\n",
        "y_a = df_interval_iq['Ni'].values\n",
        "x_a = df_interval_iq['Xi'].values\n",
        "\n",
        "ax.plot(x_a, y_a, '-o', color='blue')\n",
        "ax.set_xlabel('Середина интервала')\n",
        "ax.set_ylabel('Частота')\n",
        "plt.title('Полигон для абсолютных частот')\n",
        "plt.grid()\n",
        "plt.show()"
      ],
      "metadata": {
        "colab": {
          "base_uri": "https://localhost:8080/",
          "height": 295
        },
        "id": "m4uSD5Tg27-s",
        "outputId": "fc1a89e3-0588-4d16-ec3e-c43ef754d848"
      },
      "execution_count": 225,
      "outputs": [
        {
          "output_type": "display_data",
          "data": {
            "text/plain": [
              "<IPython.core.display.Javascript object>"
            ],
            "application/javascript": [
              "google.colab.output.setIframeHeight(0, true, {maxHeight: 300})"
            ]
          },
          "metadata": {}
        },
        {
          "output_type": "display_data",
          "data": {
            "text/plain": [
              "<Figure size 432x288 with 1 Axes>"
            ],
            "image/png": "[encoded data removed]"
          },
          "metadata": {
            "needs_background": "light"
          }
        }
      ]
    },
    {
      "cell_type": "markdown",
      "source": [
        "# Полигон для относительных частот"
      ],
      "metadata": {
        "id": "qxkl3cnsy0YT"
      }
    },
    {
      "cell_type": "code",
      "source": [
        "fig, ax = plt.subplots()\n",
        "\n",
        "y_o = df_interval_iq['Pi'].values\n",
        "x_o = df_interval_iq['Xi'].values\n",
        "\n",
        "ax.plot(x_o, y_o, '-o', color='blue')\n",
        "ax.set_xlabel('Середина интервала')\n",
        "ax.set_ylabel('Частота')\n",
        "plt.title('Полигон для относительных частот')\n",
        "plt.grid()\n",
        "plt.show()"
      ],
      "metadata": {
        "colab": {
          "base_uri": "https://localhost:8080/",
          "height": 295
        },
        "id": "2xM-imKfyxJI",
        "outputId": "19197cae-06e7-4083-8a1a-df02d31e5267"
      },
      "execution_count": 226,
      "outputs": [
        {
          "output_type": "display_data",
          "data": {
            "text/plain": [
              "<IPython.core.display.Javascript object>"
            ],
            "application/javascript": [
              "google.colab.output.setIframeHeight(0, true, {maxHeight: 300})"
            ]
          },
          "metadata": {}
        },
        {
          "output_type": "display_data",
          "data": {
            "text/plain": [
              "<Figure size 432x288 with 1 Axes>"
            ],
            "image/png": "[encoded data removed]"
          },
          "metadata": {
            "needs_background": "light"
          }
        }
      ]
    },
    {
      "cell_type": "markdown",
      "source": [
        "# Гистограмма для абсолютных частот"
      ],
      "metadata": {
        "id": "wIyzx6_k7RWg"
      }
    },
    {
      "cell_type": "code",
      "source": [
        "fig, ax = plt.subplots()\n",
        "\n",
        "ax.bar(x_a, y_a, width=h, color='blue')\n",
        "ax.set_xlabel('Середина интервала')\n",
        "ax.set_ylabel('Частота')\n",
        "plt.title('Гистограмма для абсолютных частот')\n",
        "plt.grid()\n",
        "plt.show()"
      ],
      "metadata": {
        "colab": {
          "base_uri": "https://localhost:8080/",
          "height": 295
        },
        "id": "XPChacT07WRs",
        "outputId": "e14e9ff8-72f6-4a9c-a7aa-d0363f2abcb2"
      },
      "execution_count": 227,
      "outputs": [
        {
          "output_type": "display_data",
          "data": {
            "text/plain": [
              "<IPython.core.display.Javascript object>"
            ],
            "application/javascript": [
              "google.colab.output.setIframeHeight(0, true, {maxHeight: 300})"
            ]
          },
          "metadata": {}
        },
        {
          "output_type": "display_data",
          "data": {
            "text/plain": [
              "<Figure size 432x288 with 1 Axes>"
            ],
            "image/png": "[encoded data removed]"
          },
          "metadata": {
            "needs_background": "light"
          }
        }
      ]
    },
    {
      "cell_type": "markdown",
      "source": [
        "# Гистограмма для относительных частот"
      ],
      "metadata": {
        "id": "kXXvbBPK1NSH"
      }
    },
    {
      "cell_type": "code",
      "source": [
        "fig, ax = plt.subplots()\n",
        "\n",
        "ax.bar(x_o, y_o, width=h, color='blue')\n",
        "ax.set_xlabel('Середина интервала')\n",
        "ax.set_ylabel('Частота')\n",
        "plt.title('Гистограмма для относительных частот')\n",
        "plt.grid()\n",
        "plt.show()"
      ],
      "metadata": {
        "colab": {
          "base_uri": "https://localhost:8080/",
          "height": 295
        },
        "id": "yZoGGqG31U_n",
        "outputId": "f76bbade-7f09-4d47-cdf6-45428ffc0bb0"
      },
      "execution_count": 228,
      "outputs": [
        {
          "output_type": "display_data",
          "data": {
            "text/plain": [
              "<IPython.core.display.Javascript object>"
            ],
            "application/javascript": [
              "google.colab.output.setIframeHeight(0, true, {maxHeight: 300})"
            ]
          },
          "metadata": {}
        },
        {
          "output_type": "display_data",
          "data": {
            "text/plain": [
              "<Figure size 432x288 with 1 Axes>"
            ],
            "image/png": "[encoded data removed]"
          },
          "metadata": {
            "needs_background": "light"
          }
        }
      ]
    },
    {
      "cell_type": "markdown",
      "source": [
        "# Эмпирическая функция для абсолютных частот"
      ],
      "metadata": {
        "id": "XKAdF-Qc_jgI"
      }
    },
    {
      "cell_type": "code",
      "source": [
        "x = df_interval_iq['Xi'].values\n",
        "y = df_interval_iq['Ni_sum'].values\n",
        "plt.step(x, y)\n",
        "plt.title('Эмпирическая функция для абсолютных частот')\n",
        "plt.xlabel('IQ')\n",
        "plt.ylabel('Accumulated Absolute Frequency')\n",
        "plt.show()"
      ],
      "metadata": {
        "colab": {
          "base_uri": "https://localhost:8080/",
          "height": 295
        },
        "id": "Q4NlE_RB_o2S",
        "outputId": "251526f0-54a3-4d3e-f183-aa44642d560c"
      },
      "execution_count": 229,
      "outputs": [
        {
          "output_type": "display_data",
          "data": {
            "text/plain": [
              "<IPython.core.display.Javascript object>"
            ],
            "application/javascript": [
              "google.colab.output.setIframeHeight(0, true, {maxHeight: 300})"
            ]
          },
          "metadata": {}
        },
        {
          "output_type": "display_data",
          "data": {
            "text/plain": [
              "<Figure size 432x288 with 1 Axes>"
            ],
            "image/png": "[encoded data removed]"
          },
          "metadata": {
            "needs_background": "light"
          }
        }
      ]
    },
    {
      "cell_type": "markdown",
      "source": [
        "# Эмпирическая функция для относительных частот"
      ],
      "metadata": {
        "id": "RPjKy0771vB_"
      }
    },
    {
      "cell_type": "code",
      "source": [
        "x = df_interval_iq['Xi'].values\n",
        "y = df_interval_iq['Pi_sum'].values\n",
        "plt.step(x, y)\n",
        "plt.title('Эмпирическая функция для относительных частот')\n",
        "plt.xlabel('IQ')\n",
        "plt.ylabel('Accumulated Absolute Frequency')\n",
        "plt.show()"
      ],
      "metadata": {
        "colab": {
          "base_uri": "https://localhost:8080/",
          "height": 295
        },
        "id": "X8BdVCqN19f9",
        "outputId": "57d4b283-4484-4d25-d549-0892d1b56d34"
      },
      "execution_count": 230,
      "outputs": [
        {
          "output_type": "display_data",
          "data": {
            "text/plain": [
              "<IPython.core.display.Javascript object>"
            ],
            "application/javascript": [
              "google.colab.output.setIframeHeight(0, true, {maxHeight: 300})"
            ]
          },
          "metadata": {}
        },
        {
          "output_type": "display_data",
          "data": {
            "text/plain": [
              "<Figure size 432x288 with 1 Axes>"
            ],
            "image/png": "[encoded data removed]"
          },
          "metadata": {
            "needs_background": "light"
          }
        }
      ]
    },
    {
      "cell_type": "markdown",
      "source": [
        "# Вывод\n",
        "В ходе выполнения работы из генеральной совокупности была отобрана выборка, которая последовательно была преобразована в ранжированный, вариационный и интервальный ряды. В результате преобразований было выяснено, что iq меняется в диапазоне от 83 до 121. Чаще всего встренчаются показатели iq равные 109 и 117, каждое значение встречается по 6 раз. Больше всего значений в интервале от 83 до 88.  \n",
        "Применительно к интервальному ряду были построены и отображены графически полигон, гистограмма и эмпирическая функция распределения для абсолютных и относительных частот. Их внешний вид не зависит от того какие частоты используются - относительные или абсолютные. Также по полученным графикам можно предположить, что выборка была сделана из полимодального распределения."
      ],
      "metadata": {
        "id": "DpvsJV00Ikte"
      }
    }
  ]
}