{
  "cells": [
    {
      "cell_type": "markdown",
      "metadata": {
        "id": "zKOyCYH0NmVa"
      },
      "source": [
        "# Практическая работа №2: Обработка выборочных данных. Нахождение точечных оценок параметров распределения\n",
        "\n",
        "Выполнили студентки гр. 9383 Лихашва Анастасия и Карпекина Анна. Вариант №5"
      ]
    },
    {
      "cell_type": "markdown",
      "metadata": {
        "id": "NN-xROilNmVe"
      },
      "source": [
        "## Цель работы\n",
        "\n",
        "Получение практических навыков нахождения точечных статистических оценок параметров распределения."
      ]
    },
    {
      "cell_type": "markdown",
      "metadata": {
        "id": "sSzlMguWNmVe"
      },
      "source": [
        "## Основные теоретические положения\n",
        "\n",
        "Статистической оценкой $\\Theta^*$ неизвестного параметра теоретического распределения $\\Theta$ называется функцию от наблюдаемых случайной величины  $$\\Theta^*=f\\left(x_1, x_2, \\ldots, x_n\\right)$$   \n",
        "\n",
        "Статистические оценки, определяемые одним числом называется точечными.  \n",
        "Для того, чтобы оценки были надежными, к ним предъявляются требования несмещенности, состоятельности и эффективности.  \n",
        "Оценка называется несмещенной, если её математическое ожидание равно оцениваемому параметру $\\Theta$ при любом объеме выборки $n$, т.е. $$M\\left(\\Theta^*\\right)=\\Theta$$   \n",
        "\n",
        "Оценка $\\Theta^*$ называется эффективной, если при заданном объеме выборки $n$ она имеет наименьшую возможную дисперсию, т.е. $$D\\left(\\Theta^*\\right) \\rightarrow \\min$$  \n",
        "\n",
        "Оценка $\\Theta^*$ называется состоятельной для параметра $\\Theta$, если она сходится по вероятности к оцениваемому параметру при неограниченном возрастании объема выборки, т.е. $$\\lim _{N \\rightarrow \\infty} P\\left(\\left|\\Theta-\\Theta^*\\right| \\leq \\epsilon\\right)=1$$ где $\\epsilon>0$ - скольугодно малое положительное число. \n",
        "\n",
        "Для того, чтобы несмещенная оценка была состоятельной, необходимо и достаточно, чтобы было выполнено условие $$\\lim _{N \\rightarrow \\infty} D\\left(\\Theta^*\\right)=0$$  \n",
        "\n",
        "Начальным эмпирическим моменток $k$-го порядка называется среднее значение $k$-х степеней элементов вариационного или интервального ряда: $$\\bar{M}_k=\\frac{1}{N} \\sum n_j x_j^k$$ в частности $$\\bar{x}_\\sigma=\\bar{M}_1=\\frac{1}{N} \\sum n_j x_j$$  \n",
        "\n",
        "Центральным эмпирическим моментом $k$-го порядка называется среднее значение $k$-х степеней разностей $x_j-\\bar{x}_{\\varepsilon}$ для вариационного или интервального ряда: $$\\bar{m}_k=\\frac{1}{N} \\sum n_j\\left(x_j-\\bar{x}_{\\varepsilon}\\right)^k$$  \n",
        "\n",
        "В частности $$D_{\\varepsilon}=\\bar{m}_2=\\frac{1}{N} \\sum n_j\\left(x_j-\\bar{x}_{\\varepsilon}\\right)^2$$  \n",
        "\n",
        "Следует отметить что указанная статистическая оценка дисперсии является смещенной оценкой, поэтому следует использовать исправленую оценку дисперсии $$s^2=\\frac{N}{N-1} D_\\sigma$$  \n",
        "\n",
        "Статистические оценки СКO вычисляются как корень квадратный из соответствующих оценок дисперсии: $$\\sigma_\\sigma=\\sqrt{D_\\sigma} ; s=\\sqrt{s^2}$$  \n",
        "\n",
        "Статистические оценки ассиметрии и эксцесса вычисляются по формулам: $$\\bar{A}_s=\\frac{\\bar{m}_3}{s^3} ; \\bar{E}=\\frac{\\bar{m}_4}{s^4}-3$$  \n",
        "\n",
        "Для упрощения вычислений эмпирических моментов вводят в рассмотрение так называемые условные варианты $$\\quad u_j=\\frac{x_j-C}{h}$$  \n",
        "где $C$ - условный ноль, значение которого выбирается равным значению варианты интервального ряда, являющуюся средней или близкой к средней по значению в этом ряду. В результате все условные варианты оказываются целыми числами.  \n",
        "Вводятся в рассмотрение условные моменты к-го порядка:\n",
        "$$\n",
        "\\bar{M}_k^*=\\frac{1}{N} \\sum n_j\\left(\\frac{x_j-C}{h}\\right)^k=\\frac{1}{N} \\sum n_j u_j^k\n",
        "$$  \n",
        "Легко показать справедливость следующих соотношений:\n",
        "$$\n",
        "\\begin{gathered}\n",
        "\\bar{x}_6=\\bar{M}_1=\\bar{M}_1^* h+C \\\\\n",
        "\\bar{m}_2=\\left(\\bar{M}_2^*-\\left(\\bar{M}_1^*\\right)^2\\right) h^2 \\\\\n",
        "\\bar{m}_3=\\left(\\bar{M}_3^*-3 \\bar{M}_2^* \\bar{M}_1^*+2\\left(\\bar{M}_1^*\\right)^3\\right) h^3 \\\\\n",
        "\\bar{m}_4=\\left(\\bar{M}_4^*-4 \\bar{M}_3^* \\bar{M}_1^*+6 \\bar{M}_2^*\\left(\\bar{M}_1^*\\right)^2-3\\left(\\bar{M}_1^*\\right)^4\\right) h^4\n",
        "\\end{gathered}\n",
        "$$"
      ]
    },
    {
      "cell_type": "markdown",
      "metadata": {
        "id": "rAQ5Q_gINmVf"
      },
      "source": [
        "## Постановка задачи\n",
        "\n",
        "Для заданных выборочных данных вычислить с использованием метода моментов и условных вариант точечные статистические оценки математического ожидания, дисперсии, среднеквадратичного отклонения, асимметрии и эксцесса исследуемой случайной величины. Полученные результаты содержательно проинтерпретировать."
      ]
    },
    {
      "cell_type": "markdown",
      "metadata": {
        "id": "mH8f8-c2NmVf"
      },
      "source": [
        "## Выполнение работы\n",
        "\n"
      ]
    },
    {
      "cell_type": "markdown",
      "source": [
        "### Для середин интервального ряда, полученного в практической работе №1, вычислить условные варианты. "
      ],
      "metadata": {
        "id": "RQxYoJUvQnFn"
      }
    },
    {
      "cell_type": "code",
      "execution_count": null,
      "metadata": {
        "id": "p7ZDQ5QDNmVg",
        "colab": {
          "base_uri": "https://localhost:8080/",
          "height": 17
        },
        "outputId": "c41eedb6-f34c-475c-9be6-99b9ee19702b"
      },
      "outputs": [
        {
          "output_type": "display_data",
          "data": {
            "text/plain": [
              "<IPython.core.display.Javascript object>"
            ],
            "application/javascript": [
              "google.colab.output.setIframeHeight(0, true, {maxHeight: 300})"
            ]
          },
          "metadata": {}
        },
        {
          "output_type": "display_data",
          "data": {
            "text/plain": [
              "<IPython.core.display.Javascript object>"
            ],
            "application/javascript": [
              "google.colab.output.setIframeHeight(0, true, {maxHeight: 300})"
            ]
          },
          "metadata": {}
        },
        {
          "output_type": "display_data",
          "data": {
            "text/plain": [
              "<IPython.core.display.Javascript object>"
            ],
            "application/javascript": [
              "google.colab.output.setIframeHeight(0, true, {maxHeight: 300})"
            ]
          },
          "metadata": {}
        }
      ],
      "source": [
        "from IPython.display import Javascript\n",
        "def resize_colab_cell():\n",
        "  display(Javascript('google.colab.output.setIframeHeight(0, true, {maxHeight: 300})'))\n",
        "get_ipython().events.register('pre_run_cell', resize_colab_cell)"
      ]
    },
    {
      "cell_type": "code",
      "source": [
        "import pandas as pd\n",
        "import numpy as np\n",
        "from google.colab import files\n",
        "\n",
        "files.upload()\n",
        "df = pd.read_csv('student_clustering.csv')\n",
        "df_iq = df.drop('cgpa', axis=1)"
      ],
      "metadata": {
        "id": "CTRINrf7Qtl2",
        "colab": {
          "base_uri": "https://localhost:8080/",
          "height": 73
        },
        "outputId": "cf5484e0-fb89-4381-ec65-eeeb662cc7cc"
      },
      "execution_count": null,
      "outputs": [
        {
          "output_type": "display_data",
          "data": {
            "text/plain": [
              "<IPython.core.display.Javascript object>"
            ],
            "application/javascript": [
              "google.colab.output.setIframeHeight(0, true, {maxHeight: 300})"
            ]
          },
          "metadata": {}
        },
        {
          "output_type": "display_data",
          "data": {
            "text/plain": [
              "<IPython.core.display.Javascript object>"
            ],
            "application/javascript": [
              "google.colab.output.setIframeHeight(0, true, {maxHeight: 300})"
            ]
          },
          "metadata": {}
        },
        {
          "output_type": "display_data",
          "data": {
            "text/plain": [
              "<IPython.core.display.Javascript object>"
            ],
            "application/javascript": [
              "google.colab.output.setIframeHeight(0, true, {maxHeight: 300})"
            ]
          },
          "metadata": {}
        },
        {
          "output_type": "display_data",
          "data": {
            "text/plain": [
              "<IPython.core.display.Javascript object>"
            ],
            "application/javascript": [
              "google.colab.output.setIframeHeight(0, true, {maxHeight: 300})"
            ]
          },
          "metadata": {}
        },
        {
          "output_type": "display_data",
          "data": {
            "text/plain": [
              "<IPython.core.display.HTML object>"
            ],
            "text/html": [
              "\n",
              "     <input type=\"file\" id=\"files-66673b0c-5d45-4217-93f4-07a2188922a3\" name=\"files[]\" multiple disabled\n",
              "        style=\"border:none\" />\n",
              "     <output id=\"result-66673b0c-5d45-4217-93f4-07a2188922a3\">\n",
              "      Upload widget is only available when the cell has been executed in the\n",
              "      current browser session. Please rerun this cell to enable.\n",
              "      </output>\n",
              "      <script>// Copyright 2017 Google LLC\n",
              "//\n",
              "// Licensed under the Apache License, Version 2.0 (the \"License\");\n",
              "// you may not use this file except in compliance with the License.\n",
              "// You may obtain a copy of the License at\n",
              "//\n",
              "//      http://www.apache.org/licenses/LICENSE-2.0\n",
              "//\n",
              "// Unless required by applicable law or agreed to in writing, software\n",
              "// distributed under the License is distributed on an \"AS IS\" BASIS,\n",
              "// WITHOUT WARRANTIES OR CONDITIONS OF ANY KIND, either express or implied.\n",
              "// See the License for the specific language governing permissions and\n",
              "// limitations under the License.\n",
              "\n",
              "/**\n",
              " * @fileoverview Helpers for google.colab Python module.\n",
              " */\n",
              "(function(scope) {\n",
              "function span(text, styleAttributes = {}) {\n",
              "  const element = document.createElement('span');\n",
              "  element.textContent = text;\n",
              "  for (const key of Object.keys(styleAttributes)) {\n",
              "    element.style[key] = styleAttributes[key];\n",
              "  }\n",
              "  return element;\n",
              "}\n",
              "\n",
              "// Max number of bytes which will be uploaded at a time.\n",
              "const MAX_PAYLOAD_SIZE = 100 * 1024;\n",
              "\n",
              "function _uploadFiles(inputId, outputId) {\n",
              "  const steps = uploadFilesStep(inputId, outputId);\n",
              "  const outputElement = document.getElementById(outputId);\n",
              "  // Cache steps on the outputElement to make it available for the next call\n",
              "  // to uploadFilesContinue from Python.\n",
              "  outputElement.steps = steps;\n",
              "\n",
              "  return _uploadFilesContinue(outputId);\n",
              "}\n",
              "\n",
              "// This is roughly an async generator (not supported in the browser yet),\n",
              "// where there are multiple asynchronous steps and the Python side is going\n",
              "// to poll for completion of each step.\n",
              "// This uses a Promise to block the python side on completion of each step,\n",
              "// then passes the result of the previous step as the input to the next step.\n",
              "function _uploadFilesContinue(outputId) {\n",
              "  const outputElement = document.getElementById(outputId);\n",
              "  const steps = outputElement.steps;\n",
              "\n",
              "  const next = steps.next(outputElement.lastPromiseValue);\n",
              "  return Promise.resolve(next.value.promise).then((value) => {\n",
              "    // Cache the last promise value to make it available to the next\n",
              "    // step of the generator.\n",
              "    outputElement.lastPromiseValue = value;\n",
              "    return next.value.response;\n",
              "  });\n",
              "}\n",
              "\n",
              "/**\n",
              " * Generator function which is called between each async step of the upload\n",
              " * process.\n",
              " * @param {string} inputId Element ID of the input file picker element.\n",
              " * @param {string} outputId Element ID of the output display.\n",
              " * @return {!Iterable<!Object>} Iterable of next steps.\n",
              " */\n",
              "function* uploadFilesStep(inputId, outputId) {\n",
              "  const inputElement = document.getElementById(inputId);\n",
              "  inputElement.disabled = false;\n",
              "\n",
              "  const outputElement = document.getElementById(outputId);\n",
              "  outputElement.innerHTML = '';\n",
              "\n",
              "  const pickedPromise = new Promise((resolve) => {\n",
              "    inputElement.addEventListener('change', (e) => {\n",
              "      resolve(e.target.files);\n",
              "    });\n",
              "  });\n",
              "\n",
              "  const cancel = document.createElement('button');\n",
              "  inputElement.parentElement.appendChild(cancel);\n",
              "  cancel.textContent = 'Cancel upload';\n",
              "  const cancelPromise = new Promise((resolve) => {\n",
              "    cancel.onclick = () => {\n",
              "      resolve(null);\n",
              "    };\n",
              "  });\n",
              "\n",
              "  // Wait for the user to pick the files.\n",
              "  const files = yield {\n",
              "    promise: Promise.race([pickedPromise, cancelPromise]),\n",
              "    response: {\n",
              "      action: 'starting',\n",
              "    }\n",
              "  };\n",
              "\n",
              "  cancel.remove();\n",
              "\n",
              "  // Disable the input element since further picks are not allowed.\n",
              "  inputElement.disabled = true;\n",
              "\n",
              "  if (!files) {\n",
              "    return {\n",
              "      response: {\n",
              "        action: 'complete',\n",
              "      }\n",
              "    };\n",
              "  }\n",
              "\n",
              "  for (const file of files) {\n",
              "    const li = document.createElement('li');\n",
              "    li.append(span(file.name, {fontWeight: 'bold'}));\n",
              "    li.append(span(\n",
              "        `(${file.type || 'n/a'}) - ${file.size} bytes, ` +\n",
              "        `last modified: ${\n",
              "            file.lastModifiedDate ? file.lastModifiedDate.toLocaleDateString() :\n",
              "                                    'n/a'} - `));\n",
              "    const percent = span('0% done');\n",
              "    li.appendChild(percent);\n",
              "\n",
              "    outputElement.appendChild(li);\n",
              "\n",
              "    const fileDataPromise = new Promise((resolve) => {\n",
              "      const reader = new FileReader();\n",
              "      reader.onload = (e) => {\n",
              "        resolve(e.target.result);\n",
              "      };\n",
              "      reader.readAsArrayBuffer(file);\n",
              "    });\n",
              "    // Wait for the data to be ready.\n",
              "    let fileData = yield {\n",
              "      promise: fileDataPromise,\n",
              "      response: {\n",
              "        action: 'continue',\n",
              "      }\n",
              "    };\n",
              "\n",
              "    // Use a chunked sending to avoid message size limits. See b/62115660.\n",
              "    let position = 0;\n",
              "    do {\n",
              "      const length = Math.min(fileData.byteLength - position, MAX_PAYLOAD_SIZE);\n",
              "      const chunk = new Uint8Array(fileData, position, length);\n",
              "      position += length;\n",
              "\n",
              "      const base64 = btoa(String.fromCharCode.apply(null, chunk));\n",
              "      yield {\n",
              "        response: {\n",
              "          action: 'append',\n",
              "          file: file.name,\n",
              "          data: base64,\n",
              "        },\n",
              "      };\n",
              "\n",
              "      let percentDone = fileData.byteLength === 0 ?\n",
              "          100 :\n",
              "          Math.round((position / fileData.byteLength) * 100);\n",
              "      percent.textContent = `${percentDone}% done`;\n",
              "\n",
              "    } while (position < fileData.byteLength);\n",
              "  }\n",
              "\n",
              "  // All done.\n",
              "  yield {\n",
              "    response: {\n",
              "      action: 'complete',\n",
              "    }\n",
              "  };\n",
              "}\n",
              "\n",
              "scope.google = scope.google || {};\n",
              "scope.google.colab = scope.google.colab || {};\n",
              "scope.google.colab._files = {\n",
              "  _uploadFiles,\n",
              "  _uploadFilesContinue,\n",
              "};\n",
              "})(self);\n",
              "</script> "
            ]
          },
          "metadata": {}
        },
        {
          "output_type": "stream",
          "name": "stdout",
          "text": [
            "Saving student_clustering.csv to student_clustering (3).csv\n"
          ]
        }
      ]
    },
    {
      "cell_type": "code",
      "source": [
        "import math\n",
        "import statistics\n",
        "\n",
        "k = np.floor(1 + 3.322 * math.log10(df_iq.size))\n",
        "max = df_iq['iq'].max()\n",
        "min = df_iq['iq'].min()\n",
        "h = (max - min)/k\n",
        "borders = []\n",
        "for i in range(7):\n",
        "  borders.append(round((min+i*h), 3))\n",
        "\n",
        "borders.append(round((min+k*h), 3)) \n",
        "bins = pd.cut(df_iq['iq'], bins=[borders[i] for i in range(7)], right=False)\n",
        "\n",
        "counts = pd.value_counts(bins, sort=False)\n",
        "\n",
        "last_interval = pd.Interval(borders[-2], borders[-1], closed='both')\n",
        "counts[last_interval] = len(df[(df['iq'] >= borders[-2]) & (df['iq'] <= borders[-1])])\n",
        "\n",
        "df_interval_iq = pd.DataFrame(counts).reset_index()\n",
        "df_interval_iq.columns = ['iq', 'Ni']\n",
        "df_interval_iq.insert(1, 'Xi', df_interval_iq['iq'].apply(lambda x: (x.left + x.right)/2))\n",
        "df_interval_iq = df_interval_iq.drop('iq', axis=1)\n",
        "df_interval_iq['Pi'] = df_interval_iq['Ni'] / df_iq.size\n",
        "df_interval_iq = df_interval_iq.drop('Ni', axis=1)\n",
        "df_interval_iq = df_interval_iq.rename(columns = {'Pi': 'Ni'})\n",
        "\n",
        "\n",
        "C = statistics.mean(df_interval_iq['Xi'])\n",
        "print(C) #равняется 4 варианту интервального ряда\n",
        "df_interval_iq['Ui'] = df_interval_iq['Xi'].apply(lambda x: (x - C)/h)\n",
        "\n",
        "df_interval_iq['NiUi'] = df_interval_iq.apply(lambda row: row.Ni * row.Ui, axis=1)\n",
        "df_interval_iq['NiUi^2'] = df_interval_iq.apply(lambda row: row.Ni * row.Ui**2, axis=1)\n",
        "df_interval_iq['NiUi^3'] = df_interval_iq.apply(lambda row: row.Ni * row.Ui**3, axis=1)\n",
        "df_interval_iq['NiUi^4'] = df_interval_iq.apply(lambda row: row.Ni * row.Ui**4, axis=1)\n",
        "df_interval_iq['Ni(Ui+1)^4'] = df_interval_iq.apply(lambda row: round(row.Ni * (row.Ui+1)**4, 3), axis=1)\n",
        "\n",
        "df_interval_iq.loc['Σ'] = df_interval_iq.sum()\n",
        "df_interval_iq.iloc[-1, 2] = '-'\n",
        "\n",
        "df_interval_iq\n",
        "\n"
      ],
      "metadata": {
        "colab": {
          "base_uri": "https://localhost:8080/",
          "height": 300
        },
        "id": "aTb3M4gXQ0GQ",
        "outputId": "3c50a20e-fa60-47b6-b949-94a6a1765fb5"
      },
      "execution_count": null,
      "outputs": [
        {
          "output_type": "display_data",
          "data": {
            "text/plain": [
              "<IPython.core.display.Javascript object>"
            ],
            "application/javascript": [
              "google.colab.output.setIframeHeight(0, true, {maxHeight: 300})"
            ]
          },
          "metadata": {}
        },
        {
          "output_type": "display_data",
          "data": {
            "text/plain": [
              "<IPython.core.display.Javascript object>"
            ],
            "application/javascript": [
              "google.colab.output.setIframeHeight(0, true, {maxHeight: 300})"
            ]
          },
          "metadata": {}
        },
        {
          "output_type": "display_data",
          "data": {
            "text/plain": [
              "<IPython.core.display.Javascript object>"
            ],
            "application/javascript": [
              "google.colab.output.setIframeHeight(0, true, {maxHeight: 300})"
            ]
          },
          "metadata": {}
        },
        {
          "output_type": "display_data",
          "data": {
            "text/plain": [
              "<IPython.core.display.Javascript object>"
            ],
            "application/javascript": [
              "google.colab.output.setIframeHeight(0, true, {maxHeight: 300})"
            ]
          },
          "metadata": {}
        },
        {
          "output_type": "stream",
          "name": "stdout",
          "text": [
            "102.0\n"
          ]
        },
        {
          "output_type": "execute_result",
          "data": {
            "text/plain": [
              "         Xi        Ni        Ui      NiUi    NiUi^2    NiUi^3     NiUi^4  \\\n",
              "0   85.7145  0.200000 -2.999961 -0.599992  1.799953 -5.399787  16.199147   \n",
              "1   91.1430  0.084211 -1.999974 -0.168419  0.336833 -0.673658   1.347298   \n",
              "2   96.5715  0.189474 -0.999987 -0.189471  0.189469 -0.189466   0.189464   \n",
              "3  102.0000  0.010526       0.0  0.000000  0.000000  0.000000   0.000000   \n",
              "4  107.4285  0.168421  0.999987  0.168419  0.168417  0.168414   0.168412   \n",
              "5  112.8570  0.157895  1.999974  0.315785  0.631562  1.263108   2.526183   \n",
              "6  118.2855  0.189474  2.999961  0.568414  1.705218  5.115588  15.346561   \n",
              "Σ  714.0000  1.000000         -  0.094736  4.831452  0.284199  35.777064   \n",
              "\n",
              "   Ni(Ui+1)^4  \n",
              "0       3.200  \n",
              "1       0.084  \n",
              "2       0.000  \n",
              "3       0.011  \n",
              "4       2.695  \n",
              "5      12.789  \n",
              "6      48.503  \n",
              "Σ      67.282  "
            ],
            "text/html": [
              "\n",
              "  <div id=\"df-c4d98bdf-e314-4c5f-a039-50557358d79e\">\n",
              "    <div class=\"colab-df-container\">\n",
              "      <div>\n",
              "<style scoped>\n",
              "    .dataframe tbody tr th:only-of-type {\n",
              "        vertical-align: middle;\n",
              "    }\n",
              "\n",
              "    .dataframe tbody tr th {\n",
              "        vertical-align: top;\n",
              "    }\n",
              "\n",
              "    .dataframe thead th {\n",
              "        text-align: right;\n",
              "    }\n",
              "</style>\n",
              "<table border=\"1\" class=\"dataframe\">\n",
              "  <thead>\n",
              "    <tr style=\"text-align: right;\">\n",
              "      <th></th>\n",
              "      <th>Xi</th>\n",
              "      <th>Ni</th>\n",
              "      <th>Ui</th>\n",
              "      <th>NiUi</th>\n",
              "      <th>NiUi^2</th>\n",
              "      <th>NiUi^3</th>\n",
              "      <th>NiUi^4</th>\n",
              "      <th>Ni(Ui+1)^4</th>\n",
              "    </tr>\n",
              "  </thead>\n",
              "  <tbody>\n",
              "    <tr>\n",
              "      <th>0</th>\n",
              "      <td>85.7145</td>\n",
              "      <td>0.200000</td>\n",
              "      <td>-2.999961</td>\n",
              "      <td>-0.599992</td>\n",
              "      <td>1.799953</td>\n",
              "      <td>-5.399787</td>\n",
              "      <td>16.199147</td>\n",
              "      <td>3.200</td>\n",
              "    </tr>\n",
              "    <tr>\n",
              "      <th>1</th>\n",
              "      <td>91.1430</td>\n",
              "      <td>0.084211</td>\n",
              "      <td>-1.999974</td>\n",
              "      <td>-0.168419</td>\n",
              "      <td>0.336833</td>\n",
              "      <td>-0.673658</td>\n",
              "      <td>1.347298</td>\n",
              "      <td>0.084</td>\n",
              "    </tr>\n",
              "    <tr>\n",
              "      <th>2</th>\n",
              "      <td>96.5715</td>\n",
              "      <td>0.189474</td>\n",
              "      <td>-0.999987</td>\n",
              "      <td>-0.189471</td>\n",
              "      <td>0.189469</td>\n",
              "      <td>-0.189466</td>\n",
              "      <td>0.189464</td>\n",
              "      <td>0.000</td>\n",
              "    </tr>\n",
              "    <tr>\n",
              "      <th>3</th>\n",
              "      <td>102.0000</td>\n",
              "      <td>0.010526</td>\n",
              "      <td>0.0</td>\n",
              "      <td>0.000000</td>\n",
              "      <td>0.000000</td>\n",
              "      <td>0.000000</td>\n",
              "      <td>0.000000</td>\n",
              "      <td>0.011</td>\n",
              "    </tr>\n",
              "    <tr>\n",
              "      <th>4</th>\n",
              "      <td>107.4285</td>\n",
              "      <td>0.168421</td>\n",
              "      <td>0.999987</td>\n",
              "      <td>0.168419</td>\n",
              "      <td>0.168417</td>\n",
              "      <td>0.168414</td>\n",
              "      <td>0.168412</td>\n",
              "      <td>2.695</td>\n",
              "    </tr>\n",
              "    <tr>\n",
              "      <th>5</th>\n",
              "      <td>112.8570</td>\n",
              "      <td>0.157895</td>\n",
              "      <td>1.999974</td>\n",
              "      <td>0.315785</td>\n",
              "      <td>0.631562</td>\n",
              "      <td>1.263108</td>\n",
              "      <td>2.526183</td>\n",
              "      <td>12.789</td>\n",
              "    </tr>\n",
              "    <tr>\n",
              "      <th>6</th>\n",
              "      <td>118.2855</td>\n",
              "      <td>0.189474</td>\n",
              "      <td>2.999961</td>\n",
              "      <td>0.568414</td>\n",
              "      <td>1.705218</td>\n",
              "      <td>5.115588</td>\n",
              "      <td>15.346561</td>\n",
              "      <td>48.503</td>\n",
              "    </tr>\n",
              "    <tr>\n",
              "      <th>Σ</th>\n",
              "      <td>714.0000</td>\n",
              "      <td>1.000000</td>\n",
              "      <td>-</td>\n",
              "      <td>0.094736</td>\n",
              "      <td>4.831452</td>\n",
              "      <td>0.284199</td>\n",
              "      <td>35.777064</td>\n",
              "      <td>67.282</td>\n",
              "    </tr>\n",
              "  </tbody>\n",
              "</table>\n",
              "</div>\n",
              "      <button class=\"colab-df-convert\" onclick=\"convertToInteractive('df-c4d98bdf-e314-4c5f-a039-50557358d79e')\"\n",
              "              title=\"Convert this dataframe to an interactive table.\"\n",
              "              style=\"display:none;\">\n",
              "        \n",
              "  <svg xmlns=\"http://www.w3.org/2000/svg\" height=\"24px\"viewBox=\"0 0 24 24\"\n",
              "       width=\"24px\">\n",
              "    <path d=\"M0 0h24v24H0V0z\" fill=\"none\"/>\n",
              "    <path d=\"M18.56 5.44l.94 2.06.94-2.06 2.06-.94-2.06-.94-.94-2.06-.94 2.06-2.06.94zm-11 1L8.5 8.5l.94-2.06 2.06-.94-2.06-.94L8.5 2.5l-.94 2.06-2.06.94zm10 10l.94 2.06.94-2.06 2.06-.94-2.06-.94-.94-2.06-.94 2.06-2.06.94z\"/><path d=\"M17.41 7.96l-1.37-1.37c-.4-.4-.92-.59-1.43-.59-.52 0-1.04.2-1.43.59L10.3 9.45l-7.72 7.72c-.78.78-.78 2.05 0 2.83L4 21.41c.39.39.9.59 1.41.59.51 0 1.02-.2 1.41-.59l7.78-7.78 2.81-2.81c.8-.78.8-2.07 0-2.86zM5.41 20L4 18.59l7.72-7.72 1.47 1.35L5.41 20z\"/>\n",
              "  </svg>\n",
              "      </button>\n",
              "      \n",
              "  <style>\n",
              "    .colab-df-container {\n",
              "      display:flex;\n",
              "      flex-wrap:wrap;\n",
              "      gap: 12px;\n",
              "    }\n",
              "\n",
              "    .colab-df-convert {\n",
              "      background-color: #E8F0FE;\n",
              "      border: none;\n",
              "      border-radius: 50%;\n",
              "      cursor: pointer;\n",
              "      display: none;\n",
              "      fill: #1967D2;\n",
              "      height: 32px;\n",
              "      padding: 0 0 0 0;\n",
              "      width: 32px;\n",
              "    }\n",
              "\n",
              "    .colab-df-convert:hover {\n",
              "      background-color: #E2EBFA;\n",
              "      box-shadow: 0px 1px 2px rgba(60, 64, 67, 0.3), 0px 1px 3px 1px rgba(60, 64, 67, 0.15);\n",
              "      fill: #174EA6;\n",
              "    }\n",
              "\n",
              "    [theme=dark] .colab-df-convert {\n",
              "      background-color: #3B4455;\n",
              "      fill: #D2E3FC;\n",
              "    }\n",
              "\n",
              "    [theme=dark] .colab-df-convert:hover {\n",
              "      background-color: #434B5C;\n",
              "      box-shadow: 0px 1px 3px 1px rgba(0, 0, 0, 0.15);\n",
              "      filter: drop-shadow(0px 1px 2px rgba(0, 0, 0, 0.3));\n",
              "      fill: #FFFFFF;\n",
              "    }\n",
              "  </style>\n",
              "\n",
              "      <script>\n",
              "        const buttonEl =\n",
              "          document.querySelector('#df-c4d98bdf-e314-4c5f-a039-50557358d79e button.colab-df-convert');\n",
              "        buttonEl.style.display =\n",
              "          google.colab.kernel.accessAllowed ? 'block' : 'none';\n",
              "\n",
              "        async function convertToInteractive(key) {\n",
              "          const element = document.querySelector('#df-c4d98bdf-e314-4c5f-a039-50557358d79e');\n",
              "          const dataTable =\n",
              "            await google.colab.kernel.invokeFunction('convertToInteractive',\n",
              "                                                     [key], {});\n",
              "          if (!dataTable) return;\n",
              "\n",
              "          const docLinkHtml = 'Like what you see? Visit the ' +\n",
              "            '<a target=\"_blank\" href=https://colab.research.google.com/notebooks/data_table.ipynb>data table notebook</a>'\n",
              "            + ' to learn more about interactive tables.';\n",
              "          element.innerHTML = '';\n",
              "          dataTable['output_type'] = 'display_data';\n",
              "          await google.colab.output.renderOutput(dataTable, element);\n",
              "          const docLink = document.createElement('div');\n",
              "          docLink.innerHTML = docLinkHtml;\n",
              "          element.appendChild(docLink);\n",
              "        }\n",
              "      </script>\n",
              "    </div>\n",
              "  </div>\n",
              "  "
            ]
          },
          "metadata": {},
          "execution_count": 84
        }
      ]
    },
    {
      "cell_type": "code",
      "source": [
        "moments = df_interval_iq.iloc[-1, [3,4,5,6]]\n",
        "check = moments[3]+4*moments[2]+6*moments[1]+4*moments[0]+1\n",
        "if round(check) == round(df_interval_iq.loc['Σ', ['Ni(Ui+1)^4']][0]):\n",
        "  print('true')\n",
        "else:\n",
        "  print('false')  \n"
      ],
      "metadata": {
        "colab": {
          "base_uri": "https://localhost:8080/",
          "height": 34
        },
        "id": "xIzHooU8uHQA",
        "outputId": "af5ffaf0-5d4d-4934-cf54-ceb3b6906735"
      },
      "execution_count": null,
      "outputs": [
        {
          "output_type": "display_data",
          "data": {
            "text/plain": [
              "<IPython.core.display.Javascript object>"
            ],
            "application/javascript": [
              "google.colab.output.setIframeHeight(0, true, {maxHeight: 300})"
            ]
          },
          "metadata": {}
        },
        {
          "output_type": "display_data",
          "data": {
            "text/plain": [
              "<IPython.core.display.Javascript object>"
            ],
            "application/javascript": [
              "google.colab.output.setIframeHeight(0, true, {maxHeight: 300})"
            ]
          },
          "metadata": {}
        },
        {
          "output_type": "display_data",
          "data": {
            "text/plain": [
              "<IPython.core.display.Javascript object>"
            ],
            "application/javascript": [
              "google.colab.output.setIframeHeight(0, true, {maxHeight: 300})"
            ]
          },
          "metadata": {}
        },
        {
          "output_type": "display_data",
          "data": {
            "text/plain": [
              "<IPython.core.display.Javascript object>"
            ],
            "application/javascript": [
              "google.colab.output.setIframeHeight(0, true, {maxHeight: 300})"
            ]
          },
          "metadata": {}
        },
        {
          "output_type": "stream",
          "name": "stdout",
          "text": [
            "true\n"
          ]
        }
      ]
    },
    {
      "cell_type": "markdown",
      "source": [
        "Сумма относительных частот равна 1 и контрольные суммы совпадают, поэтому можем сделать вывод, что рассчеты были выполнены верно."
      ],
      "metadata": {
        "id": "9NKSpy_g-aPF"
      }
    },
    {
      "cell_type": "markdown",
      "metadata": {
        "id": "_YgEmun3NmVh"
      },
      "source": [
        "### Вычислить условные эмпирические моменты через условные варианты. С помощью условных эмпирических моментов вычислить центральные эмпирические моменты."
      ]
    },
    {
      "cell_type": "markdown",
      "source": [
        "Условные эмпирические моменты:"
      ],
      "metadata": {
        "id": "577n376G-50y"
      }
    },
    {
      "cell_type": "code",
      "source": [
        "df_moments_iq = pd.DataFrame(columns=['i', 'Vi'])\n",
        "df_moments_iq.loc[0] = [1, df_interval_iq['NiUi']['Σ']]\n",
        "df_moments_iq.loc[1] = [2, df_interval_iq['NiUi^2']['Σ']]\n",
        "df_moments_iq.loc[2] = [3, df_interval_iq['NiUi^3']['Σ']]\n",
        "df_moments_iq.loc[3] = [4, df_interval_iq['NiUi^4']['Σ']]\n",
        "df_moments_iq\n"
      ],
      "metadata": {
        "colab": {
          "base_uri": "https://localhost:8080/",
          "height": 175
        },
        "id": "AnR1F76seINp",
        "outputId": "8d255c43-6ade-4b75-d99e-660e2515fd02"
      },
      "execution_count": null,
      "outputs": [
        {
          "output_type": "display_data",
          "data": {
            "text/plain": [
              "<IPython.core.display.Javascript object>"
            ],
            "application/javascript": [
              "google.colab.output.setIframeHeight(0, true, {maxHeight: 300})"
            ]
          },
          "metadata": {}
        },
        {
          "output_type": "display_data",
          "data": {
            "text/plain": [
              "<IPython.core.display.Javascript object>"
            ],
            "application/javascript": [
              "google.colab.output.setIframeHeight(0, true, {maxHeight: 300})"
            ]
          },
          "metadata": {}
        },
        {
          "output_type": "display_data",
          "data": {
            "text/plain": [
              "<IPython.core.display.Javascript object>"
            ],
            "application/javascript": [
              "google.colab.output.setIframeHeight(0, true, {maxHeight: 300})"
            ]
          },
          "metadata": {}
        },
        {
          "output_type": "display_data",
          "data": {
            "text/plain": [
              "<IPython.core.display.Javascript object>"
            ],
            "application/javascript": [
              "google.colab.output.setIframeHeight(0, true, {maxHeight: 300})"
            ]
          },
          "metadata": {}
        },
        {
          "output_type": "execute_result",
          "data": {
            "text/plain": [
              "     i         Vi\n",
              "0  1.0   0.094736\n",
              "1  2.0   4.831452\n",
              "2  3.0   0.284199\n",
              "3  4.0  35.777064"
            ],
            "text/html": [
              "\n",
              "  <div id=\"df-2245ac4a-955d-4041-85c3-1b7630ae07a7\">\n",
              "    <div class=\"colab-df-container\">\n",
              "      <div>\n",
              "<style scoped>\n",
              "    .dataframe tbody tr th:only-of-type {\n",
              "        vertical-align: middle;\n",
              "    }\n",
              "\n",
              "    .dataframe tbody tr th {\n",
              "        vertical-align: top;\n",
              "    }\n",
              "\n",
              "    .dataframe thead th {\n",
              "        text-align: right;\n",
              "    }\n",
              "</style>\n",
              "<table border=\"1\" class=\"dataframe\">\n",
              "  <thead>\n",
              "    <tr style=\"text-align: right;\">\n",
              "      <th></th>\n",
              "      <th>i</th>\n",
              "      <th>Vi</th>\n",
              "    </tr>\n",
              "  </thead>\n",
              "  <tbody>\n",
              "    <tr>\n",
              "      <th>0</th>\n",
              "      <td>1.0</td>\n",
              "      <td>0.094736</td>\n",
              "    </tr>\n",
              "    <tr>\n",
              "      <th>1</th>\n",
              "      <td>2.0</td>\n",
              "      <td>4.831452</td>\n",
              "    </tr>\n",
              "    <tr>\n",
              "      <th>2</th>\n",
              "      <td>3.0</td>\n",
              "      <td>0.284199</td>\n",
              "    </tr>\n",
              "    <tr>\n",
              "      <th>3</th>\n",
              "      <td>4.0</td>\n",
              "      <td>35.777064</td>\n",
              "    </tr>\n",
              "  </tbody>\n",
              "</table>\n",
              "</div>\n",
              "      <button class=\"colab-df-convert\" onclick=\"convertToInteractive('df-2245ac4a-955d-4041-85c3-1b7630ae07a7')\"\n",
              "              title=\"Convert this dataframe to an interactive table.\"\n",
              "              style=\"display:none;\">\n",
              "        \n",
              "  <svg xmlns=\"http://www.w3.org/2000/svg\" height=\"24px\"viewBox=\"0 0 24 24\"\n",
              "       width=\"24px\">\n",
              "    <path d=\"M0 0h24v24H0V0z\" fill=\"none\"/>\n",
              "    <path d=\"M18.56 5.44l.94 2.06.94-2.06 2.06-.94-2.06-.94-.94-2.06-.94 2.06-2.06.94zm-11 1L8.5 8.5l.94-2.06 2.06-.94-2.06-.94L8.5 2.5l-.94 2.06-2.06.94zm10 10l.94 2.06.94-2.06 2.06-.94-2.06-.94-.94-2.06-.94 2.06-2.06.94z\"/><path d=\"M17.41 7.96l-1.37-1.37c-.4-.4-.92-.59-1.43-.59-.52 0-1.04.2-1.43.59L10.3 9.45l-7.72 7.72c-.78.78-.78 2.05 0 2.83L4 21.41c.39.39.9.59 1.41.59.51 0 1.02-.2 1.41-.59l7.78-7.78 2.81-2.81c.8-.78.8-2.07 0-2.86zM5.41 20L4 18.59l7.72-7.72 1.47 1.35L5.41 20z\"/>\n",
              "  </svg>\n",
              "      </button>\n",
              "      \n",
              "  <style>\n",
              "    .colab-df-container {\n",
              "      display:flex;\n",
              "      flex-wrap:wrap;\n",
              "      gap: 12px;\n",
              "    }\n",
              "\n",
              "    .colab-df-convert {\n",
              "      background-color: #E8F0FE;\n",
              "      border: none;\n",
              "      border-radius: 50%;\n",
              "      cursor: pointer;\n",
              "      display: none;\n",
              "      fill: #1967D2;\n",
              "      height: 32px;\n",
              "      padding: 0 0 0 0;\n",
              "      width: 32px;\n",
              "    }\n",
              "\n",
              "    .colab-df-convert:hover {\n",
              "      background-color: #E2EBFA;\n",
              "      box-shadow: 0px 1px 2px rgba(60, 64, 67, 0.3), 0px 1px 3px 1px rgba(60, 64, 67, 0.15);\n",
              "      fill: #174EA6;\n",
              "    }\n",
              "\n",
              "    [theme=dark] .colab-df-convert {\n",
              "      background-color: #3B4455;\n",
              "      fill: #D2E3FC;\n",
              "    }\n",
              "\n",
              "    [theme=dark] .colab-df-convert:hover {\n",
              "      background-color: #434B5C;\n",
              "      box-shadow: 0px 1px 3px 1px rgba(0, 0, 0, 0.15);\n",
              "      filter: drop-shadow(0px 1px 2px rgba(0, 0, 0, 0.3));\n",
              "      fill: #FFFFFF;\n",
              "    }\n",
              "  </style>\n",
              "\n",
              "      <script>\n",
              "        const buttonEl =\n",
              "          document.querySelector('#df-2245ac4a-955d-4041-85c3-1b7630ae07a7 button.colab-df-convert');\n",
              "        buttonEl.style.display =\n",
              "          google.colab.kernel.accessAllowed ? 'block' : 'none';\n",
              "\n",
              "        async function convertToInteractive(key) {\n",
              "          const element = document.querySelector('#df-2245ac4a-955d-4041-85c3-1b7630ae07a7');\n",
              "          const dataTable =\n",
              "            await google.colab.kernel.invokeFunction('convertToInteractive',\n",
              "                                                     [key], {});\n",
              "          if (!dataTable) return;\n",
              "\n",
              "          const docLinkHtml = 'Like what you see? Visit the ' +\n",
              "            '<a target=\"_blank\" href=https://colab.research.google.com/notebooks/data_table.ipynb>data table notebook</a>'\n",
              "            + ' to learn more about interactive tables.';\n",
              "          element.innerHTML = '';\n",
              "          dataTable['output_type'] = 'display_data';\n",
              "          await google.colab.output.renderOutput(dataTable, element);\n",
              "          const docLink = document.createElement('div');\n",
              "          docLink.innerHTML = docLinkHtml;\n",
              "          element.appendChild(docLink);\n",
              "        }\n",
              "      </script>\n",
              "    </div>\n",
              "  </div>\n",
              "  "
            ]
          },
          "metadata": {},
          "execution_count": 86
        }
      ]
    },
    {
      "cell_type": "markdown",
      "source": [
        "Центральные эмпирические моменты:"
      ],
      "metadata": {
        "id": "A7eaLTXa_bJh"
      }
    },
    {
      "cell_type": "code",
      "source": [
        "x_st = 0\n",
        "for i in range(7):\n",
        "  x_st += df_interval_iq['Ni'][i]*df_interval_iq['Xi'][i]\n",
        "\n",
        "print(x_st)  \n",
        "\n",
        "x_2 = df_moments_iq['Vi'][0]*h + C\n",
        "m1 = 0\n",
        "for i in range(0,7):\n",
        "    m1 += (df_interval_iq[\"Xi\"][i]-x_2)*df_interval_iq[\"Ni\"][i]\n",
        "\n",
        "\n",
        "df_moments_iq['μi'] = pd.Series([m1, \n",
        "                                 (df_moments_iq['Vi'][1] - df_moments_iq['Vi'][0]**2)*h**2, \n",
        "                                 (df_moments_iq['Vi'][2] - 3*df_moments_iq['Vi'][1]*df_moments_iq['Vi'][0] + 2*(df_moments_iq['Vi'][0]**3))*h**3,\n",
        "                                 (df_moments_iq['Vi'][3] - 4*df_moments_iq['Vi'][2]*df_moments_iq['Vi'][0] + 6*df_moments_iq['Vi'][1]*(df_moments_iq['Vi'][0]**2) - 3*df_moments_iq['Vi'][0]**4)*h**4])\n",
        "\n",
        "\n",
        "df_moments_iq"
      ],
      "metadata": {
        "id": "tLft_fCqhtnR",
        "colab": {
          "base_uri": "https://localhost:8080/",
          "height": 192
        },
        "outputId": "305f9d7b-0334-4736-cb31-0da672a6a686"
      },
      "execution_count": null,
      "outputs": [
        {
          "output_type": "display_data",
          "data": {
            "text/plain": [
              "<IPython.core.display.Javascript object>"
            ],
            "application/javascript": [
              "google.colab.output.setIframeHeight(0, true, {maxHeight: 300})"
            ]
          },
          "metadata": {}
        },
        {
          "output_type": "display_data",
          "data": {
            "text/plain": [
              "<IPython.core.display.Javascript object>"
            ],
            "application/javascript": [
              "google.colab.output.setIframeHeight(0, true, {maxHeight: 300})"
            ]
          },
          "metadata": {}
        },
        {
          "output_type": "display_data",
          "data": {
            "text/plain": [
              "<IPython.core.display.Javascript object>"
            ],
            "application/javascript": [
              "google.colab.output.setIframeHeight(0, true, {maxHeight: 300})"
            ]
          },
          "metadata": {}
        },
        {
          "output_type": "display_data",
          "data": {
            "text/plain": [
              "<IPython.core.display.Javascript object>"
            ],
            "application/javascript": [
              "google.colab.output.setIframeHeight(0, true, {maxHeight: 300})"
            ]
          },
          "metadata": {}
        },
        {
          "output_type": "stream",
          "name": "stdout",
          "text": [
            "102.51427894736842\n"
          ]
        },
        {
          "output_type": "execute_result",
          "data": {
            "text/plain": [
              "     i         Vi            μi\n",
              "0  1.0   0.094736 -3.552714e-15\n",
              "1  2.0   4.831452  1.421154e+02\n",
              "2  3.0   0.284199 -1.739317e+02\n",
              "3  4.0  35.777064  3.120261e+04"
            ],
            "text/html": [
              "\n",
              "  <div id=\"df-3c24414a-85c3-4776-ba9e-f7a38d4d0af7\">\n",
              "    <div class=\"colab-df-container\">\n",
              "      <div>\n",
              "<style scoped>\n",
              "    .dataframe tbody tr th:only-of-type {\n",
              "        vertical-align: middle;\n",
              "    }\n",
              "\n",
              "    .dataframe tbody tr th {\n",
              "        vertical-align: top;\n",
              "    }\n",
              "\n",
              "    .dataframe thead th {\n",
              "        text-align: right;\n",
              "    }\n",
              "</style>\n",
              "<table border=\"1\" class=\"dataframe\">\n",
              "  <thead>\n",
              "    <tr style=\"text-align: right;\">\n",
              "      <th></th>\n",
              "      <th>i</th>\n",
              "      <th>Vi</th>\n",
              "      <th>μi</th>\n",
              "    </tr>\n",
              "  </thead>\n",
              "  <tbody>\n",
              "    <tr>\n",
              "      <th>0</th>\n",
              "      <td>1.0</td>\n",
              "      <td>0.094736</td>\n",
              "      <td>-3.552714e-15</td>\n",
              "    </tr>\n",
              "    <tr>\n",
              "      <th>1</th>\n",
              "      <td>2.0</td>\n",
              "      <td>4.831452</td>\n",
              "      <td>1.421154e+02</td>\n",
              "    </tr>\n",
              "    <tr>\n",
              "      <th>2</th>\n",
              "      <td>3.0</td>\n",
              "      <td>0.284199</td>\n",
              "      <td>-1.739317e+02</td>\n",
              "    </tr>\n",
              "    <tr>\n",
              "      <th>3</th>\n",
              "      <td>4.0</td>\n",
              "      <td>35.777064</td>\n",
              "      <td>3.120261e+04</td>\n",
              "    </tr>\n",
              "  </tbody>\n",
              "</table>\n",
              "</div>\n",
              "      <button class=\"colab-df-convert\" onclick=\"convertToInteractive('df-3c24414a-85c3-4776-ba9e-f7a38d4d0af7')\"\n",
              "              title=\"Convert this dataframe to an interactive table.\"\n",
              "              style=\"display:none;\">\n",
              "        \n",
              "  <svg xmlns=\"http://www.w3.org/2000/svg\" height=\"24px\"viewBox=\"0 0 24 24\"\n",
              "       width=\"24px\">\n",
              "    <path d=\"M0 0h24v24H0V0z\" fill=\"none\"/>\n",
              "    <path d=\"M18.56 5.44l.94 2.06.94-2.06 2.06-.94-2.06-.94-.94-2.06-.94 2.06-2.06.94zm-11 1L8.5 8.5l.94-2.06 2.06-.94-2.06-.94L8.5 2.5l-.94 2.06-2.06.94zm10 10l.94 2.06.94-2.06 2.06-.94-2.06-.94-.94-2.06-.94 2.06-2.06.94z\"/><path d=\"M17.41 7.96l-1.37-1.37c-.4-.4-.92-.59-1.43-.59-.52 0-1.04.2-1.43.59L10.3 9.45l-7.72 7.72c-.78.78-.78 2.05 0 2.83L4 21.41c.39.39.9.59 1.41.59.51 0 1.02-.2 1.41-.59l7.78-7.78 2.81-2.81c.8-.78.8-2.07 0-2.86zM5.41 20L4 18.59l7.72-7.72 1.47 1.35L5.41 20z\"/>\n",
              "  </svg>\n",
              "      </button>\n",
              "      \n",
              "  <style>\n",
              "    .colab-df-container {\n",
              "      display:flex;\n",
              "      flex-wrap:wrap;\n",
              "      gap: 12px;\n",
              "    }\n",
              "\n",
              "    .colab-df-convert {\n",
              "      background-color: #E8F0FE;\n",
              "      border: none;\n",
              "      border-radius: 50%;\n",
              "      cursor: pointer;\n",
              "      display: none;\n",
              "      fill: #1967D2;\n",
              "      height: 32px;\n",
              "      padding: 0 0 0 0;\n",
              "      width: 32px;\n",
              "    }\n",
              "\n",
              "    .colab-df-convert:hover {\n",
              "      background-color: #E2EBFA;\n",
              "      box-shadow: 0px 1px 2px rgba(60, 64, 67, 0.3), 0px 1px 3px 1px rgba(60, 64, 67, 0.15);\n",
              "      fill: #174EA6;\n",
              "    }\n",
              "\n",
              "    [theme=dark] .colab-df-convert {\n",
              "      background-color: #3B4455;\n",
              "      fill: #D2E3FC;\n",
              "    }\n",
              "\n",
              "    [theme=dark] .colab-df-convert:hover {\n",
              "      background-color: #434B5C;\n",
              "      box-shadow: 0px 1px 3px 1px rgba(0, 0, 0, 0.15);\n",
              "      filter: drop-shadow(0px 1px 2px rgba(0, 0, 0, 0.3));\n",
              "      fill: #FFFFFF;\n",
              "    }\n",
              "  </style>\n",
              "\n",
              "      <script>\n",
              "        const buttonEl =\n",
              "          document.querySelector('#df-3c24414a-85c3-4776-ba9e-f7a38d4d0af7 button.colab-df-convert');\n",
              "        buttonEl.style.display =\n",
              "          google.colab.kernel.accessAllowed ? 'block' : 'none';\n",
              "\n",
              "        async function convertToInteractive(key) {\n",
              "          const element = document.querySelector('#df-3c24414a-85c3-4776-ba9e-f7a38d4d0af7');\n",
              "          const dataTable =\n",
              "            await google.colab.kernel.invokeFunction('convertToInteractive',\n",
              "                                                     [key], {});\n",
              "          if (!dataTable) return;\n",
              "\n",
              "          const docLinkHtml = 'Like what you see? Visit the ' +\n",
              "            '<a target=\"_blank\" href=https://colab.research.google.com/notebooks/data_table.ipynb>data table notebook</a>'\n",
              "            + ' to learn more about interactive tables.';\n",
              "          element.innerHTML = '';\n",
              "          dataTable['output_type'] = 'display_data';\n",
              "          await google.colab.output.renderOutput(dataTable, element);\n",
              "          const docLink = document.createElement('div');\n",
              "          docLink.innerHTML = docLinkHtml;\n",
              "          element.appendChild(docLink);\n",
              "        }\n",
              "      </script>\n",
              "    </div>\n",
              "  </div>\n",
              "  "
            ]
          },
          "metadata": {},
          "execution_count": 88
        }
      ]
    },
    {
      "cell_type": "markdown",
      "source": [
        "Первый центральный момент равен 0, что говорит о правильности вычислений."
      ],
      "metadata": {
        "id": "BH4EN_-OY6a1"
      }
    },
    {
      "cell_type": "markdown",
      "source": [
        "### Вычислить выборочные среднее и дисперсию с помощью стандартной формулы и с помощью условных вариант. Убедиться, что результаты совпадают"
      ],
      "metadata": {
        "id": "dQpujNjCw9hD"
      }
    },
    {
      "cell_type": "markdown",
      "source": [
        "Вычислим выборочное среднее по стандартной формуле:"
      ],
      "metadata": {
        "id": "uWZPZN3ExkJj"
      }
    },
    {
      "cell_type": "code",
      "source": [
        "x_st = 0\n",
        "for i in range(7):\n",
        "  x_st += df_interval_iq['Ni'][i]*df_interval_iq['Xi'][i]\n",
        "\n",
        "print(x_st)  \n"
      ],
      "metadata": {
        "colab": {
          "base_uri": "https://localhost:8080/",
          "height": 34
        },
        "id": "X4BuOYZPxCFH",
        "outputId": "07315f61-4df3-42f1-c61c-2d9845ac41d5"
      },
      "execution_count": null,
      "outputs": [
        {
          "output_type": "display_data",
          "data": {
            "text/plain": [
              "<IPython.core.display.Javascript object>"
            ],
            "application/javascript": [
              "google.colab.output.setIframeHeight(0, true, {maxHeight: 300})"
            ]
          },
          "metadata": {}
        },
        {
          "output_type": "display_data",
          "data": {
            "text/plain": [
              "<IPython.core.display.Javascript object>"
            ],
            "application/javascript": [
              "google.colab.output.setIframeHeight(0, true, {maxHeight: 300})"
            ]
          },
          "metadata": {}
        },
        {
          "output_type": "display_data",
          "data": {
            "text/plain": [
              "<IPython.core.display.Javascript object>"
            ],
            "application/javascript": [
              "google.colab.output.setIframeHeight(0, true, {maxHeight: 300})"
            ]
          },
          "metadata": {}
        },
        {
          "output_type": "display_data",
          "data": {
            "text/plain": [
              "<IPython.core.display.Javascript object>"
            ],
            "application/javascript": [
              "google.colab.output.setIframeHeight(0, true, {maxHeight: 300})"
            ]
          },
          "metadata": {}
        },
        {
          "output_type": "stream",
          "name": "stdout",
          "text": [
            "102.51427894736842\n"
          ]
        }
      ]
    },
    {
      "cell_type": "markdown",
      "source": [
        "Вычислим выборочное среднее с помощью условных вариант:"
      ],
      "metadata": {
        "id": "cf6zsugiO8gp"
      }
    },
    {
      "cell_type": "code",
      "source": [
        "x_2 = df_moments_iq['Vi'][0]*h + C\n",
        "print(x_2)"
      ],
      "metadata": {
        "colab": {
          "base_uri": "https://localhost:8080/",
          "height": 34
        },
        "id": "gtsVR7TZG9PV",
        "outputId": "670257c5-1298-4ee9-ff11-21040ccb236d"
      },
      "execution_count": null,
      "outputs": [
        {
          "output_type": "display_data",
          "data": {
            "text/plain": [
              "<IPython.core.display.Javascript object>"
            ],
            "application/javascript": [
              "google.colab.output.setIframeHeight(0, true, {maxHeight: 300})"
            ]
          },
          "metadata": {}
        },
        {
          "output_type": "display_data",
          "data": {
            "text/plain": [
              "<IPython.core.display.Javascript object>"
            ],
            "application/javascript": [
              "google.colab.output.setIframeHeight(0, true, {maxHeight: 300})"
            ]
          },
          "metadata": {}
        },
        {
          "output_type": "display_data",
          "data": {
            "text/plain": [
              "<IPython.core.display.Javascript object>"
            ],
            "application/javascript": [
              "google.colab.output.setIframeHeight(0, true, {maxHeight: 300})"
            ]
          },
          "metadata": {}
        },
        {
          "output_type": "display_data",
          "data": {
            "text/plain": [
              "<IPython.core.display.Javascript object>"
            ],
            "application/javascript": [
              "google.colab.output.setIframeHeight(0, true, {maxHeight: 300})"
            ]
          },
          "metadata": {}
        },
        {
          "output_type": "stream",
          "name": "stdout",
          "text": [
            "102.51427894736842\n"
          ]
        }
      ]
    },
    {
      "cell_type": "markdown",
      "source": [
        "Вычислим дисперсию по стандартной формуле:"
      ],
      "metadata": {
        "id": "gUMa8-nB1D1Q"
      }
    },
    {
      "cell_type": "code",
      "source": [
        "D = 0\n",
        "for i in range(7):\n",
        "  D += df_interval_iq['Ni'][i]*(df_interval_iq['Xi'][i]-x_2)**2\n",
        "\n",
        "print(D)  "
      ],
      "metadata": {
        "colab": {
          "base_uri": "https://localhost:8080/",
          "height": 34
        },
        "id": "Vnxlj3MU1DXO",
        "outputId": "a2375ddd-238f-49e9-b7ab-605040c253e5"
      },
      "execution_count": null,
      "outputs": [
        {
          "output_type": "display_data",
          "data": {
            "text/plain": [
              "<IPython.core.display.Javascript object>"
            ],
            "application/javascript": [
              "google.colab.output.setIframeHeight(0, true, {maxHeight: 300})"
            ]
          },
          "metadata": {}
        },
        {
          "output_type": "display_data",
          "data": {
            "text/plain": [
              "<IPython.core.display.Javascript object>"
            ],
            "application/javascript": [
              "google.colab.output.setIframeHeight(0, true, {maxHeight: 300})"
            ]
          },
          "metadata": {}
        },
        {
          "output_type": "display_data",
          "data": {
            "text/plain": [
              "<IPython.core.display.Javascript object>"
            ],
            "application/javascript": [
              "google.colab.output.setIframeHeight(0, true, {maxHeight: 300})"
            ]
          },
          "metadata": {}
        },
        {
          "output_type": "display_data",
          "data": {
            "text/plain": [
              "<IPython.core.display.Javascript object>"
            ],
            "application/javascript": [
              "google.colab.output.setIframeHeight(0, true, {maxHeight: 300})"
            ]
          },
          "metadata": {}
        },
        {
          "output_type": "stream",
          "name": "stdout",
          "text": [
            "142.11544371955677\n"
          ]
        }
      ]
    },
    {
      "cell_type": "markdown",
      "source": [
        "Вычислим дисперсию с помощью условных вариант:"
      ],
      "metadata": {
        "id": "x10JBjWJPlT2"
      }
    },
    {
      "cell_type": "code",
      "source": [
        "print(df_moments_iq['μi'][1])"
      ],
      "metadata": {
        "colab": {
          "base_uri": "https://localhost:8080/",
          "height": 34
        },
        "id": "jLGlpofvPpEG",
        "outputId": "48c2519a-935d-4195-ca0e-81529f69d4ab"
      },
      "execution_count": null,
      "outputs": [
        {
          "output_type": "display_data",
          "data": {
            "text/plain": [
              "<IPython.core.display.Javascript object>"
            ],
            "application/javascript": [
              "google.colab.output.setIframeHeight(0, true, {maxHeight: 300})"
            ]
          },
          "metadata": {}
        },
        {
          "output_type": "display_data",
          "data": {
            "text/plain": [
              "<IPython.core.display.Javascript object>"
            ],
            "application/javascript": [
              "google.colab.output.setIframeHeight(0, true, {maxHeight: 300})"
            ]
          },
          "metadata": {}
        },
        {
          "output_type": "display_data",
          "data": {
            "text/plain": [
              "<IPython.core.display.Javascript object>"
            ],
            "application/javascript": [
              "google.colab.output.setIframeHeight(0, true, {maxHeight: 300})"
            ]
          },
          "metadata": {}
        },
        {
          "output_type": "display_data",
          "data": {
            "text/plain": [
              "<IPython.core.display.Javascript object>"
            ],
            "application/javascript": [
              "google.colab.output.setIframeHeight(0, true, {maxHeight: 300})"
            ]
          },
          "metadata": {}
        },
        {
          "output_type": "stream",
          "name": "stdout",
          "text": [
            "142.1154437195568\n"
          ]
        }
      ]
    },
    {
      "cell_type": "markdown",
      "source": [
        "Вычислим СКО:"
      ],
      "metadata": {
        "id": "pFZV-L1I5cs4"
      }
    },
    {
      "cell_type": "code",
      "source": [
        "standard_dev_D = math.sqrt(D)\n",
        "print(standard_dev_D)"
      ],
      "metadata": {
        "colab": {
          "base_uri": "https://localhost:8080/",
          "height": 34
        },
        "id": "CxWpQFhy5eH6",
        "outputId": "974fa0a4-98f7-4d0f-c598-0417191e8ff0"
      },
      "execution_count": null,
      "outputs": [
        {
          "output_type": "display_data",
          "data": {
            "text/plain": [
              "<IPython.core.display.Javascript object>"
            ],
            "application/javascript": [
              "google.colab.output.setIframeHeight(0, true, {maxHeight: 300})"
            ]
          },
          "metadata": {}
        },
        {
          "output_type": "display_data",
          "data": {
            "text/plain": [
              "<IPython.core.display.Javascript object>"
            ],
            "application/javascript": [
              "google.colab.output.setIframeHeight(0, true, {maxHeight: 300})"
            ]
          },
          "metadata": {}
        },
        {
          "output_type": "display_data",
          "data": {
            "text/plain": [
              "<IPython.core.display.Javascript object>"
            ],
            "application/javascript": [
              "google.colab.output.setIframeHeight(0, true, {maxHeight: 300})"
            ]
          },
          "metadata": {}
        },
        {
          "output_type": "display_data",
          "data": {
            "text/plain": [
              "<IPython.core.display.Javascript object>"
            ],
            "application/javascript": [
              "google.colab.output.setIframeHeight(0, true, {maxHeight: 300})"
            ]
          },
          "metadata": {}
        },
        {
          "output_type": "stream",
          "name": "stdout",
          "text": [
            "11.921218214576761\n"
          ]
        }
      ]
    },
    {
      "cell_type": "markdown",
      "source": [
        "Результаты совпали с ожидаемыми - значения, полученные с помощью стандартных формул и через условные варианты, совпадают, но есть погрешность при программном вычислении."
      ],
      "metadata": {
        "id": "aCXehIQ8ddTX"
      }
    },
    {
      "cell_type": "markdown",
      "source": [
        "### Вычислить исправленную выборочную дисперсию и исправленное СКО. Сравнить данные оценки с смещёнными оценками дисперсии. Сделать выводы."
      ],
      "metadata": {
        "id": "m5MlMtw25Cpg"
      }
    },
    {
      "cell_type": "markdown",
      "source": [
        "Исправленная оценка дисперсии:"
      ],
      "metadata": {
        "id": "B3IR73KL1qBD"
      }
    },
    {
      "cell_type": "code",
      "source": [
        "S = (df_iq.size/(df_iq.size-1))*D\n",
        "print(S)"
      ],
      "metadata": {
        "colab": {
          "base_uri": "https://localhost:8080/",
          "height": 34
        },
        "id": "Hx7QNIq21uyD",
        "outputId": "c6fec8ab-4c8e-42cf-97f4-24eec2f8f4a5"
      },
      "execution_count": null,
      "outputs": [
        {
          "output_type": "display_data",
          "data": {
            "text/plain": [
              "<IPython.core.display.Javascript object>"
            ],
            "application/javascript": [
              "google.colab.output.setIframeHeight(0, true, {maxHeight: 300})"
            ]
          },
          "metadata": {}
        },
        {
          "output_type": "display_data",
          "data": {
            "text/plain": [
              "<IPython.core.display.Javascript object>"
            ],
            "application/javascript": [
              "google.colab.output.setIframeHeight(0, true, {maxHeight: 300})"
            ]
          },
          "metadata": {}
        },
        {
          "output_type": "display_data",
          "data": {
            "text/plain": [
              "<IPython.core.display.Javascript object>"
            ],
            "application/javascript": [
              "google.colab.output.setIframeHeight(0, true, {maxHeight: 300})"
            ]
          },
          "metadata": {}
        },
        {
          "output_type": "display_data",
          "data": {
            "text/plain": [
              "<IPython.core.display.Javascript object>"
            ],
            "application/javascript": [
              "google.colab.output.setIframeHeight(0, true, {maxHeight: 300})"
            ]
          },
          "metadata": {}
        },
        {
          "output_type": "stream",
          "name": "stdout",
          "text": [
            "143.62731014210524\n"
          ]
        }
      ]
    },
    {
      "cell_type": "markdown",
      "source": [
        "Вычислим СКО:"
      ],
      "metadata": {
        "id": "0c34rPTp5Sju"
      }
    },
    {
      "cell_type": "code",
      "source": [
        "standard_dev_S = math.sqrt(S)\n",
        "print(standard_dev_S)"
      ],
      "metadata": {
        "colab": {
          "base_uri": "https://localhost:8080/",
          "height": 34
        },
        "id": "cDeF5vkn6MOj",
        "outputId": "dd890024-81ee-4250-bb50-a6355762f90b"
      },
      "execution_count": null,
      "outputs": [
        {
          "output_type": "display_data",
          "data": {
            "text/plain": [
              "<IPython.core.display.Javascript object>"
            ],
            "application/javascript": [
              "google.colab.output.setIframeHeight(0, true, {maxHeight: 300})"
            ]
          },
          "metadata": {}
        },
        {
          "output_type": "display_data",
          "data": {
            "text/plain": [
              "<IPython.core.display.Javascript object>"
            ],
            "application/javascript": [
              "google.colab.output.setIframeHeight(0, true, {maxHeight: 300})"
            ]
          },
          "metadata": {}
        },
        {
          "output_type": "display_data",
          "data": {
            "text/plain": [
              "<IPython.core.display.Javascript object>"
            ],
            "application/javascript": [
              "google.colab.output.setIframeHeight(0, true, {maxHeight: 300})"
            ]
          },
          "metadata": {}
        },
        {
          "output_type": "display_data",
          "data": {
            "text/plain": [
              "<IPython.core.display.Javascript object>"
            ],
            "application/javascript": [
              "google.colab.output.setIframeHeight(0, true, {maxHeight: 300})"
            ]
          },
          "metadata": {}
        },
        {
          "output_type": "stream",
          "name": "stdout",
          "text": [
            "11.98446119531893\n"
          ]
        }
      ]
    },
    {
      "cell_type": "markdown",
      "source": [
        "В результате сравнения видно, что исправленные выборочная дисперсия и исправленное СКО не много превышают смещенные."
      ],
      "metadata": {
        "id": "5oF5tjZ2coKq"
      }
    },
    {
      "cell_type": "markdown",
      "source": [
        "### Найти статистическую оценку коэффициентов асимметрии и эксцесса. Сделать выводы."
      ],
      "metadata": {
        "id": "AnXqW5dO6gQU"
      }
    },
    {
      "cell_type": "code",
      "source": [
        "As = df_moments_iq['μi'][2]/S**3\n",
        "print(As)"
      ],
      "metadata": {
        "colab": {
          "base_uri": "https://localhost:8080/",
          "height": 34
        },
        "id": "GpduOgDM6jrq",
        "outputId": "d27a2a08-ba85-4af9-f161-12f3dd0e12ef"
      },
      "execution_count": null,
      "outputs": [
        {
          "output_type": "display_data",
          "data": {
            "text/plain": [
              "<IPython.core.display.Javascript object>"
            ],
            "application/javascript": [
              "google.colab.output.setIframeHeight(0, true, {maxHeight: 300})"
            ]
          },
          "metadata": {}
        },
        {
          "output_type": "display_data",
          "data": {
            "text/plain": [
              "<IPython.core.display.Javascript object>"
            ],
            "application/javascript": [
              "google.colab.output.setIframeHeight(0, true, {maxHeight: 300})"
            ]
          },
          "metadata": {}
        },
        {
          "output_type": "display_data",
          "data": {
            "text/plain": [
              "<IPython.core.display.Javascript object>"
            ],
            "application/javascript": [
              "google.colab.output.setIframeHeight(0, true, {maxHeight: 300})"
            ]
          },
          "metadata": {}
        },
        {
          "output_type": "display_data",
          "data": {
            "text/plain": [
              "<IPython.core.display.Javascript object>"
            ],
            "application/javascript": [
              "google.colab.output.setIframeHeight(0, true, {maxHeight: 300})"
            ]
          },
          "metadata": {}
        },
        {
          "output_type": "stream",
          "name": "stdout",
          "text": [
            "-5.870399531895295e-05\n"
          ]
        }
      ]
    },
    {
      "cell_type": "code",
      "source": [
        "E = (df_moments_iq['μi'][3]/S**4)-3\n",
        "print(E)"
      ],
      "metadata": {
        "colab": {
          "base_uri": "https://localhost:8080/",
          "height": 34
        },
        "id": "ldZwfBNh7YZS",
        "outputId": "ba1501f8-94bc-4034-d58b-88b07fa02944"
      },
      "execution_count": null,
      "outputs": [
        {
          "output_type": "display_data",
          "data": {
            "text/plain": [
              "<IPython.core.display.Javascript object>"
            ],
            "application/javascript": [
              "google.colab.output.setIframeHeight(0, true, {maxHeight: 300})"
            ]
          },
          "metadata": {}
        },
        {
          "output_type": "display_data",
          "data": {
            "text/plain": [
              "<IPython.core.display.Javascript object>"
            ],
            "application/javascript": [
              "google.colab.output.setIframeHeight(0, true, {maxHeight: 300})"
            ]
          },
          "metadata": {}
        },
        {
          "output_type": "display_data",
          "data": {
            "text/plain": [
              "<IPython.core.display.Javascript object>"
            ],
            "application/javascript": [
              "google.colab.output.setIframeHeight(0, true, {maxHeight: 300})"
            ]
          },
          "metadata": {}
        },
        {
          "output_type": "display_data",
          "data": {
            "text/plain": [
              "<IPython.core.display.Javascript object>"
            ],
            "application/javascript": [
              "google.colab.output.setIframeHeight(0, true, {maxHeight: 300})"
            ]
          },
          "metadata": {}
        },
        {
          "output_type": "stream",
          "name": "stdout",
          "text": [
            "-2.9999266765603285\n"
          ]
        }
      ]
    },
    {
      "cell_type": "markdown",
      "source": [
        "Подсчет показал, что присутствует малое смещение симметрии влево, а также  отклонение от нормального распределения, это видно из  значения эксцесса."
      ],
      "metadata": {
        "id": "mU_QGX5ReN7r"
      }
    },
    {
      "cell_type": "markdown",
      "source": [
        "### Для интервального ряда вычислить моду, медиану и коэффициент вариации заданного распределения. Сделать выводы"
      ],
      "metadata": {
        "id": "w6EQ0Ech7oMa"
      }
    },
    {
      "cell_type": "code",
      "source": [
        "df_interval_iq = df_interval_iq.drop(df_interval_iq.index[-1])\n",
        "idx_max_freq = df_interval_iq['Ni'].idxmax()\n",
        "f_ui = df_interval_iq.loc[idx_max_freq, 'Ni']\n",
        "ui = df_interval_iq.loc[idx_max_freq, 'Ui']\n",
        "xi = df_interval_iq.loc[idx_max_freq, 'Xi']\n",
        "\n",
        "mode = xi + ((f_ui - df_interval_iq.loc[idx_max_freq, 'Ni']) / ((2 * f_ui) - df_interval_iq.loc[idx_max_freq, 'Ni'] - df_interval_iq.loc[idx_max_freq+1, 'Ni'])) * h\n",
        "\n",
        "print('Мода: ', mode)"
      ],
      "metadata": {
        "colab": {
          "base_uri": "https://localhost:8080/",
          "height": 34
        },
        "id": "cmpHy5UVUBLk",
        "outputId": "3cc3608e-d8d2-4454-acc0-a0047d25535e"
      },
      "execution_count": null,
      "outputs": [
        {
          "output_type": "display_data",
          "data": {
            "text/plain": [
              "<IPython.core.display.Javascript object>"
            ],
            "application/javascript": [
              "google.colab.output.setIframeHeight(0, true, {maxHeight: 300})"
            ]
          },
          "metadata": {}
        },
        {
          "output_type": "display_data",
          "data": {
            "text/plain": [
              "<IPython.core.display.Javascript object>"
            ],
            "application/javascript": [
              "google.colab.output.setIframeHeight(0, true, {maxHeight: 300})"
            ]
          },
          "metadata": {}
        },
        {
          "output_type": "display_data",
          "data": {
            "text/plain": [
              "<IPython.core.display.Javascript object>"
            ],
            "application/javascript": [
              "google.colab.output.setIframeHeight(0, true, {maxHeight: 300})"
            ]
          },
          "metadata": {}
        },
        {
          "output_type": "display_data",
          "data": {
            "text/plain": [
              "<IPython.core.display.Javascript object>"
            ],
            "application/javascript": [
              "google.colab.output.setIframeHeight(0, true, {maxHeight: 300})"
            ]
          },
          "metadata": {}
        },
        {
          "output_type": "stream",
          "name": "stdout",
          "text": [
            "Мода:  85.7145\n"
          ]
        }
      ]
    },
    {
      "cell_type": "code",
      "source": [
        "df_interval_iq['Fi'] = df_interval_iq['Ni'].cumsum()\n",
        "df_interval_iq['pi'] = df_interval_iq['Ni'] / df_interval_iq['Ni'].sum()\n",
        "df_interval_iq['F(xi)'] = np.append(0, df_interval_iq['Fi'].values[:-1]) + df_interval_iq['pi'] / 2\n",
        "median = np.interp(0.5, df_interval_iq['F(xi)'], df_interval_iq['Xi'])\n",
        "\n",
        "print('Медиана: ', median)\n",
        "\n",
        "cv = standard_dev_D/x_st*100\n",
        "print('Коэффициент вариации: ', cv)\n"
      ],
      "metadata": {
        "colab": {
          "base_uri": "https://localhost:8080/",
          "height": 52
        },
        "id": "CPygS3ZMXsNO",
        "outputId": "b00553aa-b89d-47d1-a648-5373c75f5d55"
      },
      "execution_count": null,
      "outputs": [
        {
          "output_type": "display_data",
          "data": {
            "text/plain": [
              "<IPython.core.display.Javascript object>"
            ],
            "application/javascript": [
              "google.colab.output.setIframeHeight(0, true, {maxHeight: 300})"
            ]
          },
          "metadata": {}
        },
        {
          "output_type": "display_data",
          "data": {
            "text/plain": [
              "<IPython.core.display.Javascript object>"
            ],
            "application/javascript": [
              "google.colab.output.setIframeHeight(0, true, {maxHeight: 300})"
            ]
          },
          "metadata": {}
        },
        {
          "output_type": "display_data",
          "data": {
            "text/plain": [
              "<IPython.core.display.Javascript object>"
            ],
            "application/javascript": [
              "google.colab.output.setIframeHeight(0, true, {maxHeight: 300})"
            ]
          },
          "metadata": {}
        },
        {
          "output_type": "display_data",
          "data": {
            "text/plain": [
              "<IPython.core.display.Javascript object>"
            ],
            "application/javascript": [
              "google.colab.output.setIframeHeight(0, true, {maxHeight: 300})"
            ]
          },
          "metadata": {}
        },
        {
          "output_type": "stream",
          "name": "stdout",
          "text": [
            "Медиана:  103.27729411764706\n",
            "Коэффициент вариации:  11.628836818622313\n"
          ]
        }
      ]
    },
    {
      "cell_type": "markdown",
      "source": [
        "Из полученных результатов видно, что присутствует не большой разброс значений, об этом говорит значение коэффициента вариации."
      ],
      "metadata": {
        "id": "4r-rkB0zdtM4"
      }
    },
    {
      "cell_type": "markdown",
      "metadata": {
        "id": "guMIbUV7NmVh"
      },
      "source": [
        "## Выводы\n",
        "В ходе выполнения работы была продолженая работа над выборкой из практической работы №1. \n",
        "\n",
        "Были получены практические навыки нахождения точечных статистических оценок параметров распределения. Для заданных выборочных данных были вычислены с использованием метода моментов и условных вариант точечные статистические оценки математического ожидания, дисперсии, среднеквадратичного отклонения, асимметрии и эксцесса исследуемой случайной величины.  \n",
        "\n",
        "По полученным результатам, можно сделать вывод, что распределение iq не соответствует нормальному."
      ]
    }
  ],
  "metadata": {
    "kernelspec": {
      "display_name": "Python 3 (ipykernel)",
      "language": "python",
      "name": "python3"
    },
    "language_info": {
      "codemirror_mode": {
        "name": "ipython",
        "version": 3
      },
      "file_extension": ".py",
      "mimetype": "text/x-python",
      "name": "python",
      "nbconvert_exporter": "python",
      "pygments_lexer": "ipython3",
      "version": "3.9.13"
    },
    "colab": {
      "provenance": []
    }
  },
  "nbformat": 4,
  "nbformat_minor": 0
}